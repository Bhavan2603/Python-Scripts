{
 "cells": [
  {
   "cell_type": "markdown",
   "metadata": {},
   "source": [
    "# Python Data Types "
   ]
  },
  {
   "cell_type": "markdown",
   "metadata": {},
   "source": [
    "# Primitive Data Types"
   ]
  },
  {
   "cell_type": "markdown",
   "metadata": {},
   "source": [
    "## 1. Integer"
   ]
  },
  {
   "cell_type": "markdown",
   "metadata": {},
   "source": [
    "Most common data type used to store numbers without decimal or fractional compound. "
   ]
  },
  {
   "cell_type": "code",
   "execution_count": 2,
   "metadata": {},
   "outputs": [
    {
     "name": "stdout",
     "output_type": "stream",
     "text": [
      "<class 'int'>\n"
     ]
    },
    {
     "data": {
      "text/plain": [
       "-5"
      ]
     },
     "execution_count": 2,
     "metadata": {},
     "output_type": "execute_result"
    }
   ],
   "source": [
    "a = 5 \n",
    "b = -5 \n",
    "print(type(b))\n",
    "b "
   ]
  },
  {
   "cell_type": "code",
   "execution_count": 3,
   "metadata": {},
   "outputs": [
    {
     "data": {
      "text/plain": [
       "int"
      ]
     },
     "execution_count": 3,
     "metadata": {},
     "output_type": "execute_result"
    }
   ],
   "source": [
    "x = 45\n",
    "y = -30\n",
    "type(y)\n"
   ]
  },
  {
   "cell_type": "markdown",
   "metadata": {},
   "source": [
    "## 2. Float "
   ]
  },
  {
   "cell_type": "markdown",
   "metadata": {},
   "source": [
    "Numeric data type used to store numbers of fractional component or decimal. "
   ]
  },
  {
   "cell_type": "code",
   "execution_count": 4,
   "metadata": {},
   "outputs": [
    {
     "data": {
      "text/plain": [
       "float"
      ]
     },
     "execution_count": 4,
     "metadata": {},
     "output_type": "execute_result"
    }
   ],
   "source": [
    "a = 25.56\n",
    "b = 93.21\n",
    "type(b)"
   ]
  },
  {
   "cell_type": "code",
   "execution_count": 7,
   "metadata": {},
   "outputs": [
    {
     "name": "stdout",
     "output_type": "stream",
     "text": [
      "<class 'float'>\n"
     ]
    },
    {
     "data": {
      "text/plain": [
       "88.51"
      ]
     },
     "execution_count": 7,
     "metadata": {},
     "output_type": "execute_result"
    }
   ],
   "source": [
    "a = 88.51\n",
    "b = -23.41\n",
    "print(type(b))\n",
    "a "
   ]
  },
  {
   "cell_type": "markdown",
   "metadata": {},
   "source": [
    "## 3. Strings"
   ]
  },
  {
   "cell_type": "code",
   "execution_count": 8,
   "metadata": {},
   "outputs": [],
   "source": [
    "# Single quotes \n",
    "single_quote_str = 'Hello, World!'"
   ]
  },
  {
   "cell_type": "code",
   "execution_count": 9,
   "metadata": {},
   "outputs": [],
   "source": [
    "# Double quotes\n",
    "double_quote_str = \"Hello, World!\""
   ]
  },
  {
   "cell_type": "code",
   "execution_count": 12,
   "metadata": {},
   "outputs": [
    {
     "data": {
      "text/plain": [
       "'This is also a \\nmulti-line string.'"
      ]
     },
     "execution_count": 12,
     "metadata": {},
     "output_type": "execute_result"
    }
   ],
   "source": [
    "# Triple quotes (for multi-line strings)\n",
    "triple_single_quote_str = '''This is a \n",
    "multi-line string'''\n",
    "\n",
    "triple_double_quote_str = \"\"\"This is also a \n",
    "multi-line string.\"\"\"\n",
    "triple_double_quote_str "
   ]
  },
  {
   "cell_type": "code",
   "execution_count": 14,
   "metadata": {},
   "outputs": [
    {
     "name": "stdout",
     "output_type": "stream",
     "text": [
      "P n\n"
     ]
    },
    {
     "data": {
      "text/plain": [
       "'yth'"
      ]
     },
     "execution_count": 14,
     "metadata": {},
     "output_type": "execute_result"
    }
   ],
   "source": [
    "s = \"Python\"\n",
    "first_char = s[0]\n",
    "last_char = s[-1]\n",
    "\n",
    "print(first_char, last_char)\n",
    "\n",
    "s = \"Python\"\n",
    "substring = s[1:4]\n",
    "substring"
   ]
  },
  {
   "cell_type": "code",
   "execution_count": 15,
   "metadata": {},
   "outputs": [
    {
     "data": {
      "text/plain": [
       "13"
      ]
     },
     "execution_count": 15,
     "metadata": {},
     "output_type": "execute_result"
    }
   ],
   "source": [
    "s = \"Hello, World!\"\n",
    "length = len(s)\n",
    "length"
   ]
  },
  {
   "cell_type": "code",
   "execution_count": 16,
   "metadata": {},
   "outputs": [
    {
     "data": {
      "text/plain": [
       "'Hello, World!'"
      ]
     },
     "execution_count": 16,
     "metadata": {},
     "output_type": "execute_result"
    }
   ],
   "source": [
    "# String Concatenation\n",
    "s1 = \"Hello\"\n",
    "s2 = \"World\"\n",
    "s3 = s1 + \", \" + s2 + \"!\"\n",
    "s3"
   ]
  },
  {
   "cell_type": "code",
   "execution_count": 2,
   "metadata": {},
   "outputs": [
    {
     "data": {
      "text/plain": [
       "'Python'"
      ]
     },
     "execution_count": 2,
     "metadata": {},
     "output_type": "execute_result"
    }
   ],
   "source": [
    "a = \"Py\"\n",
    "b = \"thon\"\n",
    "c = a + b \n",
    "c  "
   ]
  },
  {
   "cell_type": "code",
   "execution_count": 18,
   "metadata": {},
   "outputs": [
    {
     "data": {
      "text/plain": [
       "'HelloHelloHelloHello'"
      ]
     },
     "execution_count": 18,
     "metadata": {},
     "output_type": "execute_result"
    }
   ],
   "source": [
    "# Repetation\n",
    "s = \"Hello\"\n",
    "s_repeated = s * 4\n",
    "s_repeated"
   ]
  },
  {
   "cell_type": "code",
   "execution_count": 3,
   "metadata": {},
   "outputs": [
    {
     "data": {
      "text/plain": [
       "'PythonPythonPython'"
      ]
     },
     "execution_count": 3,
     "metadata": {},
     "output_type": "execute_result"
    }
   ],
   "source": [
    "p = \"Python\"\n",
    "q = p * 3\n",
    "q "
   ]
  },
  {
   "cell_type": "code",
   "execution_count": 19,
   "metadata": {},
   "outputs": [
    {
     "name": "stdout",
     "output_type": "stream",
     "text": [
      "HELLO, WORLD!\n",
      "hello, world!\n",
      "Hello, World!\n",
      "Hello, world!\n"
     ]
    }
   ],
   "source": [
    "# Case Conversion\n",
    "s = \"Hello, World!\"\n",
    "s_upper = s.upper()\n",
    "s_lower = s.lower()\n",
    "s_title = s.title()\n",
    "s_capitalize = s.capitalize()\n",
    "\n",
    "print(s_upper)\n",
    "print(s_lower)\n",
    "print(s_title)\n",
    "print(s_capitalize)"
   ]
  },
  {
   "cell_type": "code",
   "execution_count": 20,
   "metadata": {},
   "outputs": [
    {
     "name": "stdout",
     "output_type": "stream",
     "text": [
      "7\n",
      "7\n"
     ]
    }
   ],
   "source": [
    "# Findings Substrings\n",
    "s = \"Hello, World!\"\n",
    "index = s.find(\"World\")\n",
    "rindex = s.rfind(\"World\") # (searches from the right)\n",
    "print(index)\n",
    "print(rindex)"
   ]
  },
  {
   "cell_type": "code",
   "execution_count": 21,
   "metadata": {},
   "outputs": [
    {
     "data": {
      "text/plain": [
       "'Hello, Python!'"
      ]
     },
     "execution_count": 21,
     "metadata": {},
     "output_type": "execute_result"
    }
   ],
   "source": [
    "# Replacing Strings\n",
    "s = \"Hello, World!\"\n",
    "s_replace = s.replace(\"World\", \"Python\")\n",
    "s_replace"
   ]
  },
  {
   "cell_type": "code",
   "execution_count": 22,
   "metadata": {},
   "outputs": [
    {
     "name": "stdout",
     "output_type": "stream",
     "text": [
      "<class 'str'>\n",
      "<class 'str'>\n"
     ]
    }
   ],
   "source": [
    "a = \"ML\"\n",
    "b = '10'\n",
    "print(type(a))\n",
    "print(type(b))"
   ]
  },
  {
   "cell_type": "code",
   "execution_count": 24,
   "metadata": {},
   "outputs": [
    {
     "data": {
      "text/plain": [
       "'Hello World'"
      ]
     },
     "execution_count": 24,
     "metadata": {},
     "output_type": "execute_result"
    }
   ],
   "source": [
    "# Concatenate\n",
    "str1 = 'Hello'\n",
    "str2 = ' World'\n",
    "\n",
    "result = str1 + str2 \n",
    "result"
   ]
  },
  {
   "cell_type": "code",
   "execution_count": 26,
   "metadata": {},
   "outputs": [
    {
     "name": "stdout",
     "output_type": "stream",
     "text": [
      "True False True False False\n"
     ]
    }
   ],
   "source": [
    "# String Properties\n",
    "s = \"Hello\"\n",
    "is_alpha = s.isalpha()\n",
    "is_digit = s.isdigit()\n",
    "is_alnum = s.isalnum()\n",
    "is_upper = s.isupper()\n",
    "is_lower = s.islower()\n",
    "\n",
    "print(is_alpha, is_digit, is_alnum, is_upper, is_lower)"
   ]
  },
  {
   "cell_type": "code",
   "execution_count": 27,
   "metadata": {},
   "outputs": [
    {
     "data": {
      "text/plain": [
       "'Hello- World!'"
      ]
     },
     "execution_count": 27,
     "metadata": {},
     "output_type": "execute_result"
    }
   ],
   "source": [
    "s = \"Hello, World!\"\n",
    "s_split = s.split(\",\")  # ['Hello', ' World!']\n",
    "s_join = \"-\".join(s_split)  # ['Hello-World']\n",
    "s_join"
   ]
  },
  {
   "cell_type": "code",
   "execution_count": 29,
   "metadata": {},
   "outputs": [
    {
     "data": {
      "text/plain": [
       "'Hello, World!'"
      ]
     },
     "execution_count": 29,
     "metadata": {},
     "output_type": "execute_result"
    }
   ],
   "source": [
    "name = \"World\"\n",
    "s1 = \"Hello, %s!\" % name   # 'Hello, World!'\n",
    "s2 = \"Hello, {}!\".format(name)   # 'Hello, World!'\n",
    "s3 = f\"Hello, {name}!\"    #  'Hello, World!' \n",
    "s1"
   ]
  },
  {
   "cell_type": "markdown",
   "metadata": {},
   "source": [
    "## 4. Booleans "
   ]
  },
  {
   "cell_type": "code",
   "execution_count": 31,
   "metadata": {},
   "outputs": [
    {
     "name": "stdout",
     "output_type": "stream",
     "text": [
      "The data type of a:  <class 'bool'>\n",
      "The value of a:  True\n"
     ]
    }
   ],
   "source": [
    "a = True\n",
    "print('The data type of a: ',type(a))\n",
    "print('The value of a: ',bool(a))\n"
   ]
  },
  {
   "cell_type": "code",
   "execution_count": 32,
   "metadata": {},
   "outputs": [
    {
     "name": "stdout",
     "output_type": "stream",
     "text": [
      "True\n",
      "False\n"
     ]
    }
   ],
   "source": [
    "is_true = True\n",
    "is_False = False\n",
    "\n",
    "print(is_true)\n",
    "print(is_False)"
   ]
  },
  {
   "cell_type": "code",
   "execution_count": 33,
   "metadata": {},
   "outputs": [
    {
     "name": "stdout",
     "output_type": "stream",
     "text": [
      "False\n",
      "True\n"
     ]
    }
   ],
   "source": [
    "x = 5 \n",
    "y = 10\n",
    "\n",
    "# Comparison operators return Boolean values\n",
    "is_equal = x == y\n",
    "is_not_equal = x != y\n",
    "\n",
    "print(is_equal)\n",
    "print(is_not_equal)"
   ]
  },
  {
   "cell_type": "code",
   "execution_count": 35,
   "metadata": {},
   "outputs": [
    {
     "name": "stdout",
     "output_type": "stream",
     "text": [
      "False False True\n"
     ]
    }
   ],
   "source": [
    "a = True\n",
    "b = False\n",
    "\n",
    "# Logical AND\n",
    "result_and = a and b \n",
    "\n",
    "# Logical OR\n",
    "result_or = a or b \n",
    "\n",
    "#Logical NOT\n",
    "result_not = not a \n",
    "\n",
    "print(result_and, result_not, result_or)"
   ]
  },
  {
   "cell_type": "code",
   "execution_count": 36,
   "metadata": {},
   "outputs": [
    {
     "name": "stdout",
     "output_type": "stream",
     "text": [
      "The number is not greater than 50.\n"
     ]
    }
   ],
   "source": [
    "number = 42 \n",
    "\n",
    "if number > 50:\n",
    "    print(\"The number is graeter than 50.\")\n",
    "else:\n",
    "    print(\"The number is not greater than 50.\")"
   ]
  },
  {
   "cell_type": "code",
   "execution_count": 37,
   "metadata": {},
   "outputs": [
    {
     "data": {
      "text/plain": [
       "NoneType"
      ]
     },
     "execution_count": 37,
     "metadata": {},
     "output_type": "execute_result"
    }
   ],
   "source": [
    "no_value = None \n",
    "type(no_value)"
   ]
  },
  {
   "cell_type": "markdown",
   "metadata": {},
   "source": [
    "# Primitive Data Type Conversion "
   ]
  },
  {
   "cell_type": "markdown",
   "metadata": {},
   "source": [
    "Data type conversion, also known as type casting."
   ]
  },
  {
   "cell_type": "code",
   "execution_count": 1,
   "metadata": {},
   "outputs": [
    {
     "name": "stdout",
     "output_type": "stream",
     "text": [
      "5.0\n"
     ]
    }
   ],
   "source": [
    "a = 5 \n",
    "# Integer to Float\n",
    "b = float(a)\n",
    "print(b)"
   ]
  },
  {
   "cell_type": "code",
   "execution_count": 6,
   "metadata": {},
   "outputs": [
    {
     "name": "stdout",
     "output_type": "stream",
     "text": [
      "5\n",
      "a is 5 and data type of a is <class 'int'>\n"
     ]
    }
   ],
   "source": [
    "a = 5.0\n",
    "# Float to Integer\n",
    "b = int(a)\n",
    "print(b)\n",
    "print('a is {} and data type of a is {}'.format(b, type(b)))"
   ]
  },
  {
   "cell_type": "code",
   "execution_count": 8,
   "metadata": {},
   "outputs": [
    {
     "name": "stdout",
     "output_type": "stream",
     "text": [
      "<class 'str'>\n",
      "d is 10 and e is 10.0\n",
      "<class 'int'> <class 'float'>\n"
     ]
    }
   ],
   "source": [
    "# String to Integer or Float\n",
    "c = '10' # Value should be in numerical string\n",
    "print(type(c))\n",
    "d,e = int(c), float(c)\n",
    "print('d is {} and e is {}'.format(d,e))\n",
    "print(type(d), type(e))"
   ]
  },
  {
   "cell_type": "code",
   "execution_count": 10,
   "metadata": {},
   "outputs": [
    {
     "ename": "ValueError",
     "evalue": "invalid literal for int() with base 10: 'bhavan'",
     "output_type": "error",
     "traceback": [
      "\u001b[1;31m---------------------------------------------------------------------------\u001b[0m",
      "\u001b[1;31mValueError\u001b[0m                                Traceback (most recent call last)",
      "Cell \u001b[1;32mIn[10], line 3\u001b[0m\n\u001b[0;32m      1\u001b[0m \u001b[38;5;66;03m# Invalid Conversion\u001b[39;00m\n\u001b[0;32m      2\u001b[0m bh \u001b[38;5;241m=\u001b[39m \u001b[38;5;124m'\u001b[39m\u001b[38;5;124mbhavan\u001b[39m\u001b[38;5;124m'\u001b[39m \n\u001b[1;32m----> 3\u001b[0m bha \u001b[38;5;241m=\u001b[39m \u001b[38;5;28;43mint\u001b[39;49m\u001b[43m(\u001b[49m\u001b[43mbh\u001b[49m\u001b[43m)\u001b[49m, \u001b[38;5;28mfloat\u001b[39m(bh)\n\u001b[0;32m      4\u001b[0m \u001b[38;5;28mprint\u001b[39m(bha) \u001b[38;5;66;03m#ValueError: invalid literal for int() with base 10: 'bhavan' \u001b[39;00m\n",
      "\u001b[1;31mValueError\u001b[0m: invalid literal for int() with base 10: 'bhavan'"
     ]
    }
   ],
   "source": [
    "# Invalid Conversion\n",
    "bh = 'bhavan' \n",
    "bha = int(bh), float(bh)\n",
    "print(bha) #ValueError: invalid literal for int() with base 10: 'bhavan' "
   ]
  },
  {
   "cell_type": "code",
   "execution_count": 11,
   "metadata": {},
   "outputs": [
    {
     "name": "stdout",
     "output_type": "stream",
     "text": [
      "The sum is  57\n",
      "type of c <class 'int'> 57.0\n"
     ]
    }
   ],
   "source": [
    "a = int(input('Tell a number'))\n",
    "b = int(input('Tell second number'))\n",
    "c = a+b\n",
    "print('The sum is ',c)\n",
    "print('type of c', type(c), float(c))"
   ]
  },
  {
   "cell_type": "code",
   "execution_count": 12,
   "metadata": {},
   "outputs": [
    {
     "name": "stdout",
     "output_type": "stream",
     "text": [
      "5.2\n",
      "<class 'str'>\n"
     ]
    }
   ],
   "source": [
    "# Float to String\n",
    "a = 5.2\n",
    "b = str(a)\n",
    "print(b)\n",
    "print(type(b))"
   ]
  },
  {
   "cell_type": "code",
   "execution_count": 13,
   "metadata": {},
   "outputs": [
    {
     "name": "stdout",
     "output_type": "stream",
     "text": [
      "48\n",
      "<class 'str'>\n"
     ]
    }
   ],
   "source": [
    "# Int to Str\n",
    "a = 48\n",
    "b = str(a)\n",
    "print(b)\n",
    "print(type(b))"
   ]
  },
  {
   "cell_type": "code",
   "execution_count": 14,
   "metadata": {},
   "outputs": [
    {
     "data": {
      "text/plain": [
       "5"
      ]
     },
     "execution_count": 14,
     "metadata": {},
     "output_type": "execute_result"
    }
   ],
   "source": [
    "x = 5.8\n",
    "int(x)"
   ]
  },
  {
   "cell_type": "markdown",
   "metadata": {},
   "source": [
    "# Non-Primitive Data Type"
   ]
  },
  {
   "cell_type": "markdown",
   "metadata": {},
   "source": [
    "## 1. Lists"
   ]
  },
  {
   "cell_type": "code",
   "execution_count": 67,
   "metadata": {},
   "outputs": [
    {
     "name": "stdout",
     "output_type": "stream",
     "text": [
      "['apple', 'banana', 'orange', 'grape']\n"
     ]
    }
   ],
   "source": [
    "# Creating a list\n",
    "fruits = [\"apple\", \"banana\", \"orange\", \"grape\"]\n",
    "print(fruits)"
   ]
  },
  {
   "cell_type": "code",
   "execution_count": 68,
   "metadata": {},
   "outputs": [
    {
     "name": "stdout",
     "output_type": "stream",
     "text": [
      "orange\n",
      "apple\n"
     ]
    }
   ],
   "source": [
    "# Accessing Elements\n",
    "print(fruits[2])\n",
    "print(fruits[0])"
   ]
  },
  {
   "cell_type": "code",
   "execution_count": 69,
   "metadata": {},
   "outputs": [
    {
     "name": "stdout",
     "output_type": "stream",
     "text": [
      "['apple', 'kiwi', 'orange', 'grape']\n"
     ]
    }
   ],
   "source": [
    "# Modifying Elements\n",
    "fruits[1] = \"kiwi\"\n",
    "print(fruits)"
   ]
  },
  {
   "cell_type": "code",
   "execution_count": 70,
   "metadata": {},
   "outputs": [
    {
     "name": "stdout",
     "output_type": "stream",
     "text": [
      "['apple', 'kiwi', 'orange', 'grape', 'Melon']\n"
     ]
    }
   ],
   "source": [
    "# Adding Elements\n",
    "fruits.append(\"Melon\")\n",
    "print(fruits)"
   ]
  },
  {
   "cell_type": "code",
   "execution_count": 71,
   "metadata": {},
   "outputs": [
    {
     "name": "stdout",
     "output_type": "stream",
     "text": [
      "['apple', 'kiwi', 'orange', 'grape', 'Melon', ['pineapple', 'banana']]\n"
     ]
    }
   ],
   "source": [
    "fruits.append([\"pineapple\", \"banana\"])\n",
    "print(fruits)"
   ]
  },
  {
   "cell_type": "code",
   "execution_count": 72,
   "metadata": {},
   "outputs": [
    {
     "data": {
      "text/plain": [
       "'Melon'"
      ]
     },
     "execution_count": 72,
     "metadata": {},
     "output_type": "execute_result"
    }
   ],
   "source": [
    "fruits[4]"
   ]
  },
  {
   "cell_type": "code",
   "execution_count": 73,
   "metadata": {},
   "outputs": [
    {
     "data": {
      "text/plain": [
       "'banana'"
      ]
     },
     "execution_count": 73,
     "metadata": {},
     "output_type": "execute_result"
    }
   ],
   "source": [
    "fruits[5][1]"
   ]
  },
  {
   "cell_type": "code",
   "execution_count": 74,
   "metadata": {},
   "outputs": [
    {
     "name": "stdout",
     "output_type": "stream",
     "text": [
      "['apple', 'kiwi', 'orange', 'grape', 'Melon', ['pineapple', 'banana'], 'pineapple', 'mango']\n"
     ]
    }
   ],
   "source": [
    "fruits.extend([\"pineapple\", \"mango\"])\n",
    "print(fruits)"
   ]
  },
  {
   "cell_type": "code",
   "execution_count": 75,
   "metadata": {},
   "outputs": [
    {
     "data": {
      "text/plain": [
       "'mango'"
      ]
     },
     "execution_count": 75,
     "metadata": {},
     "output_type": "execute_result"
    }
   ],
   "source": [
    "fruits[7]"
   ]
  },
  {
   "cell_type": "code",
   "execution_count": 76,
   "metadata": {},
   "outputs": [
    {
     "name": "stdout",
     "output_type": "stream",
     "text": [
      "['apple', 'pear', 'kiwi', 'orange', 'grape', 'Melon', ['pineapple', 'banana'], 'pineapple', 'mango']\n"
     ]
    }
   ],
   "source": [
    "# Insert\n",
    "# Inserts an element at a specific index.\n",
    "fruits.insert(1, \"pear\")\n",
    "print(fruits)"
   ]
  },
  {
   "cell_type": "code",
   "execution_count": 77,
   "metadata": {},
   "outputs": [
    {
     "name": "stdout",
     "output_type": "stream",
     "text": [
      "['apple', 'pear', 'kiwi', 'Dragonfruit', 'orange', 'grape', 'Melon', ['pineapple', 'banana'], 'pineapple', 'mango']\n"
     ]
    }
   ],
   "source": [
    "fruits.insert(3, \"Dragonfruit\")\n",
    "print(fruits)"
   ]
  },
  {
   "cell_type": "code",
   "execution_count": 78,
   "metadata": {},
   "outputs": [
    {
     "name": "stdout",
     "output_type": "stream",
     "text": [
      "pineapple\n",
      "['apple', 'pear', 'kiwi', 'Dragonfruit', 'orange', 'grape', 'Melon', ['pineapple', 'banana'], 'mango']\n"
     ]
    }
   ],
   "source": [
    "# Pop\n",
    "# Removes and returns the element at the specified index. If no index is provided, it removes and returns the last element.\n",
    "popped_fruit = fruits.pop(8)\n",
    "print(popped_fruit)\n",
    "print(fruits)"
   ]
  },
  {
   "cell_type": "code",
   "execution_count": 79,
   "metadata": {},
   "outputs": [
    {
     "name": "stdout",
     "output_type": "stream",
     "text": [
      "['apple', 'kiwi', 'Dragonfruit', 'orange', 'grape', 'Melon', ['pineapple', 'banana'], 'mango']\n"
     ]
    }
   ],
   "source": [
    "# Removing Elements\n",
    "# Removes the first occurence of the specified element.\n",
    "fruits.remove(\"pear\")\n",
    "print(fruits)"
   ]
  },
  {
   "cell_type": "code",
   "execution_count": 80,
   "metadata": {},
   "outputs": [
    {
     "name": "stdout",
     "output_type": "stream",
     "text": [
      "8\n"
     ]
    }
   ],
   "source": [
    "# List length\n",
    "# Finds the length of the list \n",
    "print(len(fruits))"
   ]
  },
  {
   "cell_type": "code",
   "execution_count": 81,
   "metadata": {},
   "outputs": [
    {
     "name": "stdout",
     "output_type": "stream",
     "text": [
      "3\n",
      "7\n"
     ]
    }
   ],
   "source": [
    "# Index\n",
    "# Returns the index of the first occurence of the specified element.\n",
    "print(fruits.index(\"orange\"))\n",
    "print(fruits.index(\"mango\"))"
   ]
  },
  {
   "cell_type": "code",
   "execution_count": 54,
   "metadata": {},
   "outputs": [
    {
     "data": {
      "text/plain": [
       "['apple',\n",
       " 'kiwi',\n",
       " 'Dragonfruit',\n",
       " 'orange',\n",
       " 'grape',\n",
       " 'Melon',\n",
       " ['pineapple', 'banana'],\n",
       " 'mango',\n",
       " 'pear']"
      ]
     },
     "execution_count": 54,
     "metadata": {},
     "output_type": "execute_result"
    }
   ],
   "source": [
    "fruits.insert(8, \"pear\")\n",
    "fruits"
   ]
  },
  {
   "cell_type": "code",
   "execution_count": 55,
   "metadata": {},
   "outputs": [
    {
     "name": "stdout",
     "output_type": "stream",
     "text": [
      "['apple', 'kiwi', 'Dragonfruit', 'orange', 'grape', 'Melon', 'mango', 'pear']\n"
     ]
    }
   ],
   "source": [
    "fruits.pop(6)\n",
    "print(fruits)"
   ]
  },
  {
   "cell_type": "code",
   "execution_count": 56,
   "metadata": {},
   "outputs": [
    {
     "name": "stdout",
     "output_type": "stream",
     "text": [
      "1\n"
     ]
    }
   ],
   "source": [
    "# Count\n",
    "# Returns the number of occurences of the specified element.\n",
    "num_oranges = fruits.count(\"orange\")\n",
    "print(num_oranges)"
   ]
  },
  {
   "cell_type": "code",
   "execution_count": 57,
   "metadata": {},
   "outputs": [
    {
     "name": "stdout",
     "output_type": "stream",
     "text": [
      "['Dragonfruit', 'Melon', 'apple', 'grape', 'kiwi', 'mango', 'orange', 'pear']\n"
     ]
    }
   ],
   "source": [
    "# Sort\n",
    "# Sorts the elements of the list in ascending order.\n",
    "# Sorting the list in default ascending order. \n",
    "fruits.sort()\n",
    "print(fruits)"
   ]
  },
  {
   "cell_type": "code",
   "execution_count": 58,
   "metadata": {},
   "outputs": [
    {
     "name": "stdout",
     "output_type": "stream",
     "text": [
      "['pear', 'orange', 'mango', 'kiwi', 'grape', 'apple', 'Melon', 'Dragonfruit']\n"
     ]
    }
   ],
   "source": [
    "fruits.sort(reverse=True)\n",
    "print(fruits)"
   ]
  },
  {
   "cell_type": "code",
   "execution_count": 59,
   "metadata": {},
   "outputs": [
    {
     "name": "stdout",
     "output_type": "stream",
     "text": [
      "Final List: ['pear', 'orange', 'mango', 'kiwi', 'grape', 'apple', 'Melon', 'Dragonfruit']\n"
     ]
    }
   ],
   "source": [
    "# Display the final list\n",
    "print(\"Final List:\", fruits)"
   ]
  },
  {
   "cell_type": "code",
   "execution_count": 82,
   "metadata": {},
   "outputs": [
    {
     "name": "stdout",
     "output_type": "stream",
     "text": [
      "<class 'list'>\n"
     ]
    }
   ],
   "source": [
    "# List of Integers \n",
    "list1 = [1, 2, 3, 4, -4, 0, 2.45]\n",
    "print(type(list1))"
   ]
  },
  {
   "cell_type": "code",
   "execution_count": 61,
   "metadata": {},
   "outputs": [
    {
     "name": "stdout",
     "output_type": "stream",
     "text": [
      "<class 'list'> \n",
      "\n"
     ]
    }
   ],
   "source": [
    "# List of Floats\n",
    "list2 = [1.01, 2.8, 3.4, 5.6]\n",
    "print(type(list2), \"\\n\")"
   ]
  },
  {
   "cell_type": "code",
   "execution_count": 62,
   "metadata": {},
   "outputs": [
    {
     "name": "stdout",
     "output_type": "stream",
     "text": [
      "<class 'list'> \n",
      "\n"
     ]
    }
   ],
   "source": [
    "# List of Strings \n",
    "list3 = ['a', 'b', 'c', 'd']\n",
    "print(type(list3), \"\\n\")"
   ]
  },
  {
   "cell_type": "code",
   "execution_count": 63,
   "metadata": {},
   "outputs": [
    {
     "name": "stdout",
     "output_type": "stream",
     "text": [
      "<class 'list'> \n",
      "\n"
     ]
    }
   ],
   "source": [
    "# List of different data types \n",
    "list4 = [1, 1.01, 'a']\n",
    "print(type(list4), \"\\n\")"
   ]
  },
  {
   "cell_type": "code",
   "execution_count": 64,
   "metadata": {},
   "outputs": [
    {
     "name": "stdout",
     "output_type": "stream",
     "text": [
      "<class 'list'>\n",
      "1\n",
      "<class 'int'>\n",
      "<class 'float'>\n",
      "<class 'str'>\n",
      "<class 'int'>\n"
     ]
    }
   ],
   "source": [
    "print(type(list2))\n",
    "print(list1[0])\n",
    "print(type(list1[0]))\n",
    "print(type(list2[0]))\n",
    "print(type(list3[0]))\n",
    "print(type(list4[0]))\n"
   ]
  },
  {
   "cell_type": "markdown",
   "metadata": {},
   "source": [
    "Accessing elements and Slicing"
   ]
  },
  {
   "cell_type": "code",
   "execution_count": 34,
   "metadata": {},
   "outputs": [
    {
     "name": "stdout",
     "output_type": "stream",
     "text": [
      "['c', 'e', 'g']\n",
      "['d', 'f', 'h']\n"
     ]
    }
   ],
   "source": [
    "list5 = ['a', 'b', 'c', 'd', 'e', 'f', 'g', 'h', 'i', 'j']\n",
    "\n",
    "# We can access any element in a given list based on Indices \n",
    "print(list5[2:7:2])\n",
    "print(list5[3:8:2])"
   ]
  },
  {
   "cell_type": "code",
   "execution_count": 35,
   "metadata": {},
   "outputs": [
    {
     "name": "stdout",
     "output_type": "stream",
     "text": [
      "['b', 'c', 'd']\n",
      "['e', 'f', 'g', 'h', 'i']\n"
     ]
    }
   ],
   "source": [
    "# We can any element in a given list based on Index range: list[Start:End]\n",
    "print(list5[1:4])\n",
    "print(list5[4:9])"
   ]
  },
  {
   "cell_type": "code",
   "execution_count": 36,
   "metadata": {},
   "outputs": [
    {
     "data": {
      "text/plain": [
       "['c', 'd', 'e']"
      ]
     },
     "execution_count": 36,
     "metadata": {},
     "output_type": "execute_result"
    }
   ],
   "source": [
    "list5[2:5:1]"
   ]
  },
  {
   "cell_type": "code",
   "execution_count": 39,
   "metadata": {},
   "outputs": [
    {
     "name": "stdout",
     "output_type": "stream",
     "text": [
      "g\n"
     ]
    }
   ],
   "source": [
    "# Reverse index accessing/slicing \n",
    "print(list5[-4])"
   ]
  },
  {
   "cell_type": "code",
   "execution_count": 41,
   "metadata": {},
   "outputs": [
    {
     "data": {
      "text/plain": [
       "['d', 'e', 'f', 'g']"
      ]
     },
     "execution_count": 41,
     "metadata": {},
     "output_type": "execute_result"
    }
   ],
   "source": [
    "list5[-7:-3]"
   ]
  },
  {
   "cell_type": "code",
   "execution_count": 42,
   "metadata": {},
   "outputs": [
    {
     "data": {
      "text/plain": [
       "['g', 'h', 'i', 'j']"
      ]
     },
     "execution_count": 42,
     "metadata": {},
     "output_type": "execute_result"
    }
   ],
   "source": [
    "list5[-4:]"
   ]
  },
  {
   "cell_type": "code",
   "execution_count": 44,
   "metadata": {},
   "outputs": [
    {
     "data": {
      "text/plain": [
       "['a', 'b', 'c', 'd', 'e', 'f']"
      ]
     },
     "execution_count": 44,
     "metadata": {},
     "output_type": "execute_result"
    }
   ],
   "source": [
    "list5[:6]"
   ]
  },
  {
   "cell_type": "code",
   "execution_count": 1,
   "metadata": {},
   "outputs": [],
   "source": [
    "sam = [5,9,4,7,5,9,5,7,2,3,'no',5.12]"
   ]
  },
  {
   "cell_type": "code",
   "execution_count": 2,
   "metadata": {},
   "outputs": [
    {
     "name": "stdout",
     "output_type": "stream",
     "text": [
      "[5, 9, 4, 7, 5, 9, 5, 7, 2, 3, 5.12]\n"
     ]
    }
   ],
   "source": [
    "sam.remove('no')\n",
    "print(sam)"
   ]
  },
  {
   "cell_type": "code",
   "execution_count": 48,
   "metadata": {},
   "outputs": [
    {
     "name": "stdout",
     "output_type": "stream",
     "text": [
      "[5, 9, 4, 7, 5, 9, 5, 7, 2, 3, 5.12]\n"
     ]
    }
   ],
   "source": [
    "sam.pop(10)\n",
    "print(sam)"
   ]
  },
  {
   "cell_type": "code",
   "execution_count": 49,
   "metadata": {},
   "outputs": [
    {
     "name": "stdout",
     "output_type": "stream",
     "text": [
      "[2, 3, 4, 5, 5, 5, 5.12, 7, 7, 9, 9]\n"
     ]
    }
   ],
   "source": [
    "sam.sort()\n",
    "print(sam)"
   ]
  },
  {
   "cell_type": "code",
   "execution_count": 50,
   "metadata": {},
   "outputs": [
    {
     "name": "stdout",
     "output_type": "stream",
     "text": [
      "[9, 9, 7, 7, 5.12, 5, 5, 5, 4, 3, 2]\n"
     ]
    }
   ],
   "source": [
    "sam.sort(reverse=True)\n",
    "print(sam)"
   ]
  },
  {
   "cell_type": "code",
   "execution_count": 51,
   "metadata": {},
   "outputs": [
    {
     "data": {
      "text/plain": [
       "[10, 9, 7, 7, 5.12, 5, 5, 5, 4, 3, 2]"
      ]
     },
     "execution_count": 51,
     "metadata": {},
     "output_type": "execute_result"
    }
   ],
   "source": [
    "sam[0] = 10\n",
    "sam"
   ]
  },
  {
   "cell_type": "markdown",
   "metadata": {},
   "source": [
    "Exercise: Check and work on operations like Count, Sort and Insert."
   ]
  },
  {
   "cell_type": "code",
   "execution_count": 54,
   "metadata": {},
   "outputs": [
    {
     "name": "stdout",
     "output_type": "stream",
     "text": [
      "[1, 2, 3, 4, 5, 6]\n",
      "[[1, 2, 3], [4, 5, 6]]\n"
     ]
    }
   ],
   "source": [
    "# List of Lists\n",
    "x = [1,2,3]\n",
    "y = [4,5,6]\n",
    "l = x + y\n",
    "z = [x,y]\n",
    "print(l) # concatenation\n",
    "print(z)"
   ]
  },
  {
   "cell_type": "markdown",
   "metadata": {},
   "source": [
    "# 2. Tuples"
   ]
  },
  {
   "cell_type": "code",
   "execution_count": 2,
   "metadata": {},
   "outputs": [
    {
     "name": "stdout",
     "output_type": "stream",
     "text": [
      "(3, 7, 4)\n"
     ]
    }
   ],
   "source": [
    "# Creating a tuple\n",
    "coordinates = (3,7,4)\n",
    "print(coordinates)"
   ]
  },
  {
   "cell_type": "code",
   "execution_count": 3,
   "metadata": {},
   "outputs": [
    {
     "data": {
      "text/plain": [
       "(3, 7)"
      ]
     },
     "execution_count": 3,
     "metadata": {},
     "output_type": "execute_result"
    }
   ],
   "source": [
    "# Accessing elements \n",
    "x = coordinates[0]\n",
    "y = coordinates[1]\n",
    "x , y "
   ]
  },
  {
   "cell_type": "code",
   "execution_count": 4,
   "metadata": {},
   "outputs": [
    {
     "data": {
      "text/plain": [
       "2"
      ]
     },
     "execution_count": 4,
     "metadata": {},
     "output_type": "execute_result"
    }
   ],
   "source": [
    "coordinates.index(4)"
   ]
  },
  {
   "cell_type": "code",
   "execution_count": 5,
   "metadata": {},
   "outputs": [
    {
     "data": {
      "text/plain": [
       "0"
      ]
     },
     "execution_count": 5,
     "metadata": {},
     "output_type": "execute_result"
    }
   ],
   "source": [
    "coordinates.index(3)"
   ]
  },
  {
   "cell_type": "code",
   "execution_count": 6,
   "metadata": {},
   "outputs": [
    {
     "ename": "AttributeError",
     "evalue": "'tuple' object has no attribute 'append'",
     "output_type": "error",
     "traceback": [
      "\u001b[1;31m---------------------------------------------------------------------------\u001b[0m",
      "\u001b[1;31mAttributeError\u001b[0m                            Traceback (most recent call last)",
      "Cell \u001b[1;32mIn[6], line 1\u001b[0m\n\u001b[1;32m----> 1\u001b[0m \u001b[43mcoordinates\u001b[49m\u001b[38;5;241;43m.\u001b[39;49m\u001b[43mappend\u001b[49m(\u001b[38;5;241m1\u001b[39m)\n",
      "\u001b[1;31mAttributeError\u001b[0m: 'tuple' object has no attribute 'append'"
     ]
    }
   ],
   "source": [
    "coordinates.append(1)"
   ]
  },
  {
   "cell_type": "code",
   "execution_count": 7,
   "metadata": {},
   "outputs": [
    {
     "name": "stdout",
     "output_type": "stream",
     "text": [
      "3 7 4\n"
     ]
    }
   ],
   "source": [
    "# Tuple unpacking\n",
    "a, b, c = coordinates\n",
    "print(a, b, c)"
   ]
  },
  {
   "cell_type": "code",
   "execution_count": 8,
   "metadata": {},
   "outputs": [
    {
     "ename": "TypeError",
     "evalue": "'tuple' object does not support item assignment",
     "output_type": "error",
     "traceback": [
      "\u001b[1;31m---------------------------------------------------------------------------\u001b[0m",
      "\u001b[1;31mTypeError\u001b[0m                                 Traceback (most recent call last)",
      "Cell \u001b[1;32mIn[8], line 3\u001b[0m\n\u001b[0;32m      1\u001b[0m \u001b[38;5;66;03m# Immutability \u001b[39;00m\n\u001b[0;32m      2\u001b[0m \u001b[38;5;66;03m# Unconnecting the line below will result in an error since tuples are immutable.\u001b[39;00m\n\u001b[1;32m----> 3\u001b[0m \u001b[43mcoordinates\u001b[49m\u001b[43m[\u001b[49m\u001b[38;5;241;43m0\u001b[39;49m\u001b[43m]\u001b[49m \u001b[38;5;241m=\u001b[39m \u001b[38;5;241m5\u001b[39m\n",
      "\u001b[1;31mTypeError\u001b[0m: 'tuple' object does not support item assignment"
     ]
    }
   ],
   "source": [
    "# Immutability \n",
    "# Unconnecting the line below will result in an error since tuples are immutable.\n",
    "coordinates[0] = 5"
   ]
  },
  {
   "cell_type": "code",
   "execution_count": 9,
   "metadata": {},
   "outputs": [
    {
     "data": {
      "text/plain": [
       "(3, 7, 4, 5, 4)"
      ]
     },
     "execution_count": 9,
     "metadata": {},
     "output_type": "execute_result"
    }
   ],
   "source": [
    "# Creating a new tuple with additional element\n",
    "new_coordinates = coordinates + (5,4)\n",
    "new_coordinates"
   ]
  },
  {
   "cell_type": "code",
   "execution_count": 10,
   "metadata": {},
   "outputs": [
    {
     "name": "stdout",
     "output_type": "stream",
     "text": [
      "Original Coordinates: (3, 7, 4)\n",
      "New Coordinates: (3, 7, 4, 5, 4)\n"
     ]
    }
   ],
   "source": [
    "# Displaying the final results \n",
    "print(\"Original Coordinates:\", coordinates)\n",
    "print(\"New Coordinates:\", new_coordinates)"
   ]
  },
  {
   "cell_type": "code",
   "execution_count": 12,
   "metadata": {},
   "outputs": [
    {
     "name": "stdout",
     "output_type": "stream",
     "text": [
      "(1, 2, 3, 4, 5, 6)\n"
     ]
    },
    {
     "data": {
      "text/plain": [
       "tuple"
      ]
     },
     "execution_count": 12,
     "metadata": {},
     "output_type": "execute_result"
    }
   ],
   "source": [
    "T1 = (1,2,3)\n",
    "T2 = (4,5,6)\n",
    "T3 = T1 + T2 \n",
    "print(T3)\n",
    "type(T3)"
   ]
  },
  {
   "cell_type": "code",
   "execution_count": 13,
   "metadata": {},
   "outputs": [
    {
     "data": {
      "text/plain": [
       "2"
      ]
     },
     "execution_count": 13,
     "metadata": {},
     "output_type": "execute_result"
    }
   ],
   "source": [
    "# Accessing \n",
    "T3[1]"
   ]
  },
  {
   "cell_type": "code",
   "execution_count": 14,
   "metadata": {},
   "outputs": [
    {
     "data": {
      "text/plain": [
       "(1, 2)"
      ]
     },
     "execution_count": 14,
     "metadata": {},
     "output_type": "execute_result"
    }
   ],
   "source": [
    "T3[:2]"
   ]
  },
  {
   "cell_type": "code",
   "execution_count": 15,
   "metadata": {},
   "outputs": [
    {
     "data": {
      "text/plain": [
       "(2, 3, 4, 5, 6)"
      ]
     },
     "execution_count": 15,
     "metadata": {},
     "output_type": "execute_result"
    }
   ],
   "source": [
    "T3[1:]"
   ]
  },
  {
   "cell_type": "code",
   "execution_count": 16,
   "metadata": {},
   "outputs": [
    {
     "data": {
      "text/plain": [
       "6"
      ]
     },
     "execution_count": 16,
     "metadata": {},
     "output_type": "execute_result"
    }
   ],
   "source": [
    "T3[-1]"
   ]
  },
  {
   "cell_type": "code",
   "execution_count": 18,
   "metadata": {},
   "outputs": [
    {
     "data": {
      "text/plain": [
       "(1, 2, 3, [5, 6, 5])"
      ]
     },
     "execution_count": 18,
     "metadata": {},
     "output_type": "execute_result"
    }
   ],
   "source": [
    "# Tuples can contain list as an element and the list inside a tuple is mutable\n",
    "T4 = (1,2,3,[5,6])\n",
    "T4[3].append(5)\n",
    "T4"
   ]
  },
  {
   "cell_type": "code",
   "execution_count": 20,
   "metadata": {},
   "outputs": [
    {
     "data": {
      "text/plain": [
       "([1, 2, 3], [4, 5, 6])"
      ]
     },
     "execution_count": 20,
     "metadata": {},
     "output_type": "execute_result"
    }
   ],
   "source": [
    "l1 = [1,2,3]\n",
    "l2 = [4,5,6]\n",
    "z = (l1, l2)\n",
    "z"
   ]
  },
  {
   "cell_type": "code",
   "execution_count": 22,
   "metadata": {},
   "outputs": [
    {
     "data": {
      "text/plain": [
       "tuple"
      ]
     },
     "execution_count": 22,
     "metadata": {},
     "output_type": "execute_result"
    }
   ],
   "source": [
    "a = (\"q\",1,\"c\",5,6,9,10,25,368,52,[4,1.2,3])\n",
    "type(a)"
   ]
  },
  {
   "cell_type": "code",
   "execution_count": 23,
   "metadata": {},
   "outputs": [
    {
     "data": {
      "text/plain": [
       "(9, 10, 25, 368)"
      ]
     },
     "execution_count": 23,
     "metadata": {},
     "output_type": "execute_result"
    }
   ],
   "source": [
    "a[5:9]"
   ]
  },
  {
   "cell_type": "markdown",
   "metadata": {},
   "source": [
    "# 3. Dictionary\n",
    "Syntax = {Key1:Value1, Key2:Value2, Key3:Value3}"
   ]
  },
  {
   "cell_type": "code",
   "execution_count": 33,
   "metadata": {},
   "outputs": [
    {
     "data": {
      "text/plain": [
       "{'name': ['John', 'Bhavan'], 'age': [20, 24], 'grade': ['A', 'B']}"
      ]
     },
     "execution_count": 33,
     "metadata": {},
     "output_type": "execute_result"
    }
   ],
   "source": [
    "# Creating a dictionary\n",
    "student_info = {'name': ['John', 'Bhavan'],'age': [20, 24], 'grade': ['A','B']}\n",
    "student_info"
   ]
  },
  {
   "cell_type": "code",
   "execution_count": 34,
   "metadata": {},
   "outputs": [
    {
     "name": "stdout",
     "output_type": "stream",
     "text": [
      "{'name': ['John', 'Bhavan'], 'age': [20, 24], 'grade': ['A', 'B']}\n"
     ]
    }
   ],
   "source": [
    "# Copying the dictionary\n",
    "new_dict = student_info.copy()\n",
    "print(new_dict)"
   ]
  },
  {
   "cell_type": "code",
   "execution_count": 35,
   "metadata": {},
   "outputs": [
    {
     "data": {
      "text/plain": [
       "(['John', 'Bhavan'], [20, 24])"
      ]
     },
     "execution_count": 35,
     "metadata": {},
     "output_type": "execute_result"
    }
   ],
   "source": [
    "# Accessing the values using Keys.\n",
    "name = student_info['name']\n",
    "age = student_info['age']\n",
    "name, age\n"
   ]
  },
  {
   "cell_type": "code",
   "execution_count": 36,
   "metadata": {},
   "outputs": [
    {
     "name": "stdout",
     "output_type": "stream",
     "text": [
      "[20, 24]\n"
     ]
    }
   ],
   "source": [
    "# Get Method \n",
    "age = new_dict.get('age')\n",
    "print(age)"
   ]
  },
  {
   "cell_type": "code",
   "execution_count": 37,
   "metadata": {},
   "outputs": [
    {
     "name": "stdout",
     "output_type": "stream",
     "text": [
      "dict_items([('name', ['John', 'Bhavan']), ('age', [20, 24]), ('grade', ['A', 'B'])])\n"
     ]
    }
   ],
   "source": [
    "# Items method\n",
    "items = new_dict.items()\n",
    "print(items)"
   ]
  },
  {
   "cell_type": "code",
   "execution_count": 39,
   "metadata": {},
   "outputs": [
    {
     "name": "stdout",
     "output_type": "stream",
     "text": [
      "dict_keys(['name', 'age', 'grade'])\n"
     ]
    }
   ],
   "source": [
    "# Keys Method\n",
    "keys = new_dict.keys()\n",
    "print(keys)"
   ]
  },
  {
   "cell_type": "code",
   "execution_count": 40,
   "metadata": {},
   "outputs": [
    {
     "name": "stdout",
     "output_type": "stream",
     "text": [
      "dict_values([['John', 'Bhavan'], [20, 24], ['A', 'B']])\n"
     ]
    }
   ],
   "source": [
    "# Values Method\n",
    "values = new_dict.values()\n",
    "print(values)"
   ]
  },
  {
   "cell_type": "code",
   "execution_count": 41,
   "metadata": {},
   "outputs": [
    {
     "name": "stdout",
     "output_type": "stream",
     "text": [
      "{'name': ['John', 'Bhavan'], 'age': [20, 24], 'grade': ['B', 'B']}\n"
     ]
    }
   ],
   "source": [
    "# Modifying the value associated with a key.\n",
    "student_info['grade'][0] = 'B'\n",
    "print(student_info)"
   ]
  },
  {
   "cell_type": "code",
   "execution_count": 42,
   "metadata": {},
   "outputs": [
    {
     "name": "stdout",
     "output_type": "stream",
     "text": [
      "{'name': ['John', 'Bhavan'], 'age': [20, 24], 'grade': ['B', 'B'], 'city': ['Blore', 'Mumbai']}\n"
     ]
    }
   ],
   "source": [
    "# Using update method to modify a value\n",
    "student_info.update({'city': ['Blore', 'Mumbai']})\n",
    "print(student_info)"
   ]
  },
  {
   "cell_type": "code",
   "execution_count": 43,
   "metadata": {},
   "outputs": [
    {
     "data": {
      "text/plain": [
       "dict_keys(['name', 'age', 'grade', 'city'])"
      ]
     },
     "execution_count": 43,
     "metadata": {},
     "output_type": "execute_result"
    }
   ],
   "source": [
    "student_info.keys()"
   ]
  },
  {
   "cell_type": "code",
   "execution_count": 48,
   "metadata": {},
   "outputs": [
    {
     "name": "stdout",
     "output_type": "stream",
     "text": [
      "India\n",
      "{'name': ['John', 'Bhavan'], 'age': [20, 24], 'grade': ['B', 'B'], 'city': ['Blore', 'Mumbai'], 'country': 'India'}\n"
     ]
    }
   ],
   "source": [
    "# Using setdefault method\n",
    "country = student_info.setdefault('country', 'India')\n",
    "print(country)\n",
    "print(student_info)"
   ]
  },
  {
   "cell_type": "code",
   "execution_count": 49,
   "metadata": {},
   "outputs": [
    {
     "name": "stdout",
     "output_type": "stream",
     "text": [
      "{'name': ['John', 'Bhavan'], 'age': [20, 24], 'grade': ['B', 'B'], 'city': ['Blore', 'Mumbai']}\n"
     ]
    }
   ],
   "source": [
    "# Removing key-value pairs.\n",
    "del student_info['country']\n",
    "print(student_info)"
   ]
  },
  {
   "cell_type": "code",
   "execution_count": 50,
   "metadata": {},
   "outputs": [
    {
     "name": "stdout",
     "output_type": "stream",
     "text": [
      "['B', 'B']\n",
      "{'name': ['John', 'Bhavan'], 'age': [20, 24], 'city': ['Blore', 'Mumbai']}\n"
     ]
    }
   ],
   "source": [
    "# Using pop method to remove a key-value pair\n",
    "popi = student_info.pop('grade')\n",
    "print(popi)\n",
    "print(student_info)"
   ]
  },
  {
   "cell_type": "code",
   "execution_count": 51,
   "metadata": {},
   "outputs": [
    {
     "name": "stdout",
     "output_type": "stream",
     "text": [
      "3\n"
     ]
    }
   ],
   "source": [
    "# Determining the number of key-value pairs in a dictionary.\n",
    "lenght = len(student_info)\n",
    "print(lenght)"
   ]
  },
  {
   "cell_type": "code",
   "execution_count": 5,
   "metadata": {},
   "outputs": [
    {
     "name": "stdout",
     "output_type": "stream",
     "text": [
      "{'India': 'Virat Kohli', 'Pakistan': 'Babar Azam', 'Australia': 'Tim Paine', 'South Africa': ' Faf Du Plessis'}\n"
     ]
    }
   ],
   "source": [
    "captains = {}\n",
    "captains[\"India\"] = \"Virat Kohli\"\n",
    "captains[\"Pakistan\"] = \"Babar Azam\"\n",
    "captains[\"Australia\"] = \"Tim Paine\"\n",
    "captains[\"South Africa\"] = \" Faf Du Plessis\"\n",
    "\n",
    "print(captains)"
   ]
  },
  {
   "cell_type": "code",
   "execution_count": 6,
   "metadata": {},
   "outputs": [
    {
     "data": {
      "text/plain": [
       "' Faf Du Plessis'"
      ]
     },
     "execution_count": 6,
     "metadata": {},
     "output_type": "execute_result"
    }
   ],
   "source": [
    "a = captains.get(\"South Africa\")\n",
    "a"
   ]
  },
  {
   "cell_type": "code",
   "execution_count": 3,
   "metadata": {},
   "outputs": [
    {
     "ename": "NameError",
     "evalue": "name 'a' is not defined",
     "output_type": "error",
     "traceback": [
      "\u001b[1;31m---------------------------------------------------------------------------\u001b[0m",
      "\u001b[1;31mNameError\u001b[0m                                 Traceback (most recent call last)",
      "Cell \u001b[1;32mIn[3], line 1\u001b[0m\n\u001b[1;32m----> 1\u001b[0m \u001b[43ma\u001b[49m[\u001b[38;5;124m\"\u001b[39m\u001b[38;5;124mSouth Africa\u001b[39m\u001b[38;5;124m\"\u001b[39m]\n",
      "\u001b[1;31mNameError\u001b[0m: name 'a' is not defined"
     ]
    }
   ],
   "source": [
    "a[\"South Africa\"]"
   ]
  },
  {
   "cell_type": "code",
   "execution_count": 7,
   "metadata": {},
   "outputs": [
    {
     "data": {
      "text/plain": [
       "' Faf Du Plessis'"
      ]
     },
     "execution_count": 7,
     "metadata": {},
     "output_type": "execute_result"
    }
   ],
   "source": [
    "captains[\"South Africa\"]"
   ]
  },
  {
   "cell_type": "code",
   "execution_count": 9,
   "metadata": {},
   "outputs": [
    {
     "data": {
      "text/plain": [
       "'Virat Kohli'"
      ]
     },
     "execution_count": 9,
     "metadata": {},
     "output_type": "execute_result"
    }
   ],
   "source": [
    "captains[\"India\"]"
   ]
  },
  {
   "cell_type": "code",
   "execution_count": 10,
   "metadata": {},
   "outputs": [
    {
     "name": "stdout",
     "output_type": "stream",
     "text": [
      "{'Pakistan': 'Babar Azam', 'Australia': 'Tim Paine', 'South Africa': ' Faf Du Plessis'}\n"
     ]
    }
   ],
   "source": [
    "captains.pop(\"India\")\n",
    "print(captains)"
   ]
  },
  {
   "cell_type": "code",
   "execution_count": 13,
   "metadata": {},
   "outputs": [
    {
     "data": {
      "text/plain": [
       "'Pakistan'"
      ]
     },
     "execution_count": 13,
     "metadata": {},
     "output_type": "execute_result"
    }
   ],
   "source": [
    "captains.get(\"India\", \"Pakistan\")"
   ]
  },
  {
   "cell_type": "code",
   "execution_count": 14,
   "metadata": {},
   "outputs": [
    {
     "data": {
      "text/plain": [
       "{'Pakistan': 'Babar Azam',\n",
       " 'Australia': 'Tim Paine',\n",
       " 'South Africa': ' Faf Du Plessis',\n",
       " 'England': 'Ben Stokes'}"
      ]
     },
     "execution_count": 14,
     "metadata": {},
     "output_type": "execute_result"
    }
   ],
   "source": [
    "# add new key:value pair\n",
    "captains[\"England\"] = \"Ben Stokes\"\n",
    "captains"
   ]
  },
  {
   "cell_type": "code",
   "execution_count": 15,
   "metadata": {},
   "outputs": [
    {
     "data": {
      "text/plain": [
       "{'Pakistan': 'Babar Azam',\n",
       " 'Australia': 'Tim Paine',\n",
       " 'South Africa': ' Faf Du Plessis',\n",
       " 'England': {'T20': 'Ben Stokes', 'ODI': 'Eoin Morgan', 'Test': 'Joe Root'}}"
      ]
     },
     "execution_count": 15,
     "metadata": {},
     "output_type": "execute_result"
    }
   ],
   "source": [
    "# Nested Dictionary\n",
    "captains[\"England\"] = {'T20': 'Ben Stokes', 'ODI': 'Eoin Morgan', 'Test': 'Joe Root'}\n",
    "captains"
   ]
  },
  {
   "cell_type": "code",
   "execution_count": 16,
   "metadata": {},
   "outputs": [
    {
     "data": {
      "text/plain": [
       "'Joe Root'"
      ]
     },
     "execution_count": 16,
     "metadata": {},
     "output_type": "execute_result"
    }
   ],
   "source": [
    "captains[\"England\"]['Test']"
   ]
  },
  {
   "cell_type": "markdown",
   "metadata": {},
   "source": [
    "### 4. Sets"
   ]
  },
  {
   "cell_type": "code",
   "execution_count": 13,
   "metadata": {},
   "outputs": [
    {
     "data": {
      "text/plain": [
       "{1, 2, 3, 4, 5, 6, 7, 8}"
      ]
     },
     "execution_count": 13,
     "metadata": {},
     "output_type": "execute_result"
    }
   ],
   "source": [
    "# Creating a set\n",
    "unique_numbers = {1,2,3,4,5,6,7,8}\n",
    "unique_numbers"
   ]
  },
  {
   "cell_type": "code",
   "execution_count": 14,
   "metadata": {},
   "outputs": [
    {
     "data": {
      "text/plain": [
       "{1, 2, 3, 4, 5, 6, 7, 8, 9}"
      ]
     },
     "execution_count": 14,
     "metadata": {},
     "output_type": "execute_result"
    }
   ],
   "source": [
    "# Adding elements to a set\n",
    "unique_numbers.add(9)\n",
    "unique_numbers"
   ]
  },
  {
   "cell_type": "code",
   "execution_count": 15,
   "metadata": {},
   "outputs": [
    {
     "name": "stdout",
     "output_type": "stream",
     "text": [
      "{1, 2, 3, 4, 5, 6, 7, 8}\n"
     ]
    }
   ],
   "source": [
    "# Removing elements from a set\n",
    "unique_numbers.remove(9)\n",
    "print(unique_numbers)"
   ]
  },
  {
   "cell_type": "code",
   "execution_count": 16,
   "metadata": {},
   "outputs": [
    {
     "name": "stdout",
     "output_type": "stream",
     "text": [
      "8\n"
     ]
    }
   ],
   "source": [
    "# Determining the number of elements in a set\n",
    "length = len(unique_numbers)\n",
    "print(length)"
   ]
  },
  {
   "cell_type": "code",
   "execution_count": 17,
   "metadata": {},
   "outputs": [
    {
     "name": "stdout",
     "output_type": "stream",
     "text": [
      "Union: {1, 2, 3, 4, 5}\n",
      "Intersection: {3}\n",
      "Difference: {1, 2}\n"
     ]
    }
   ],
   "source": [
    "# Set Operations \n",
    "set1 = {1,2,3}\n",
    "set2 = {3,4,5}\n",
    "\n",
    "# Set operations like Union, Intersection, and Difference\n",
    "Union_Set = set1.union(set2)\n",
    "Intersection_Set = set1.intersection(set2)\n",
    "Difference_Set = set1.difference(set2)\n",
    "print(\"Union:\", Union_Set)\n",
    "print(\"Intersection:\", Intersection_Set)\n",
    "print(\"Difference:\", Difference_Set)"
   ]
  },
  {
   "cell_type": "code",
   "execution_count": 18,
   "metadata": {},
   "outputs": [
    {
     "data": {
      "text/plain": [
       "{'Python', 'fun', 'is', 'powerful,', 'versatile,'}"
      ]
     },
     "execution_count": 18,
     "metadata": {},
     "output_type": "execute_result"
    }
   ],
   "source": [
    "# Example; Finding unique words in a text\n",
    "text = \"Python is powerful, Python is versatile, Python is fun\"\n",
    "unique_words = set(text.split(' '))\n",
    "unique_words"
   ]
  },
  {
   "cell_type": "code",
   "execution_count": 19,
   "metadata": {},
   "outputs": [
    {
     "data": {
      "text/plain": [
       "{3, 4, 5, 6}"
      ]
     },
     "execution_count": 19,
     "metadata": {},
     "output_type": "execute_result"
    }
   ],
   "source": [
    "set1 = {3,4,5,5,6,6}\n",
    "set1"
   ]
  },
  {
   "cell_type": "code",
   "execution_count": 20,
   "metadata": {},
   "outputs": [
    {
     "data": {
      "text/plain": [
       "{1, 2, 3, 4, 6, 8}"
      ]
     },
     "execution_count": 20,
     "metadata": {},
     "output_type": "execute_result"
    }
   ],
   "source": [
    "a = {1,1,2,3,6,2,3,8,4}\n",
    "b = set(a)\n",
    "b"
   ]
  },
  {
   "cell_type": "markdown",
   "metadata": {},
   "source": [
    "## Non-Primitive Data Type Conversion"
   ]
  },
  {
   "cell_type": "code",
   "execution_count": 21,
   "metadata": {},
   "outputs": [
    {
     "name": "stdout",
     "output_type": "stream",
     "text": [
      "(1, 2, 3, 4, 5)\n"
     ]
    },
    {
     "data": {
      "text/plain": [
       "tuple"
      ]
     },
     "execution_count": 21,
     "metadata": {},
     "output_type": "execute_result"
    }
   ],
   "source": [
    "# List to Tuple (and Vice Versa):\n",
    "# From List to Tuple:\n",
    "my_list = [1,2,3,4,5]\n",
    "my_tuple = tuple(my_list)\n",
    "print(my_tuple)\n",
    "type(my_tuple)"
   ]
  },
  {
   "cell_type": "code",
   "execution_count": 22,
   "metadata": {},
   "outputs": [
    {
     "name": "stdout",
     "output_type": "stream",
     "text": [
      "{1, 2, 3, 4, 5}\n"
     ]
    }
   ],
   "source": [
    "# From List to Set:\n",
    "my_list = [1,2,2,3,4,4,5]\n",
    "my_set = set(my_list)\n",
    "print(my_set)"
   ]
  },
  {
   "cell_type": "code",
   "execution_count": 23,
   "metadata": {},
   "outputs": [
    {
     "name": "stdout",
     "output_type": "stream",
     "text": [
      "[1, 2, 3, 4, 5]\n"
     ]
    }
   ],
   "source": [
    "# From Set to List:\n",
    "my_set = {1,2,3,4,5}\n",
    "my_list = list(my_set)\n",
    "print(my_list)"
   ]
  },
  {
   "cell_type": "code",
   "execution_count": 24,
   "metadata": {},
   "outputs": [
    {
     "name": "stdout",
     "output_type": "stream",
     "text": [
      "[1, 2, 3, 4, 5]\n"
     ]
    }
   ],
   "source": [
    "# From Tuple to List:\n",
    "my_tuple = (1,2,3,4,5)\n",
    "my_list = list(my_tuple)\n",
    "print(my_list)"
   ]
  },
  {
   "cell_type": "code",
   "execution_count": 25,
   "metadata": {},
   "outputs": [
    {
     "data": {
      "text/plain": [
       "{1, 2, 3, 4, 5}"
      ]
     },
     "execution_count": 25,
     "metadata": {},
     "output_type": "execute_result"
    }
   ],
   "source": [
    "# From Tuple to Set:\n",
    "my_tuple = (1,2,2,3,4,4,5)\n",
    "my_set = set(my_tuple)\n",
    "my_set"
   ]
  },
  {
   "cell_type": "code",
   "execution_count": 26,
   "metadata": {},
   "outputs": [
    {
     "data": {
      "text/plain": [
       "(1, 2, 3, 4, 5)"
      ]
     },
     "execution_count": 26,
     "metadata": {},
     "output_type": "execute_result"
    }
   ],
   "source": [
    "# From Set to Tuple:\n",
    "my_set = {1,2,3,4,5}\n",
    "my_list = tuple(my_list)\n",
    "my_list"
   ]
  },
  {
   "cell_type": "code",
   "execution_count": 28,
   "metadata": {},
   "outputs": [
    {
     "data": {
      "text/plain": [
       "{'apple': 5, 'banana': 2, 'orange': 3}"
      ]
     },
     "execution_count": 28,
     "metadata": {},
     "output_type": "execute_result"
    }
   ],
   "source": [
    "# Tuple to Dictionary:\n",
    "my_tuple = ((\"apple\", 5), (\"banana\", 2), (\"orange\", 3))\n",
    "my_dict = dict(my_tuple)\n",
    "my_dict"
   ]
  },
  {
   "cell_type": "code",
   "execution_count": 2,
   "metadata": {},
   "outputs": [
    {
     "data": {
      "text/plain": [
       "{'apple': 5, 'banana': 2, 'orange': 3}"
      ]
     },
     "execution_count": 2,
     "metadata": {},
     "output_type": "execute_result"
    }
   ],
   "source": [
    "# List of Tuples to Dictionary:\n",
    "my_list_of_tuples = [(\"apple\", 5), (\"banana\", 2), (\"orange\", 3)]\n",
    "my_dict = dict(my_list_of_tuples)\n",
    "my_dict"
   ]
  },
  {
   "cell_type": "code",
   "execution_count": 5,
   "metadata": {},
   "outputs": [
    {
     "name": "stdout",
     "output_type": "stream",
     "text": [
      "[('apple', 5), ('banana', 2), ('orange', 3)]\n"
     ]
    }
   ],
   "source": [
    "# Dictionary to List of Tuples:\n",
    "my_dict = {\"apple\": 5, \"banana\": 2, \"orange\": 3}\n",
    "my_list_of_tuples = list(my_dict.items())\n",
    "print(my_list_of_tuples)"
   ]
  },
  {
   "cell_type": "code",
   "execution_count": 32,
   "metadata": {},
   "outputs": [
    {
     "data": {
      "text/plain": [
       "{1: 2, 2: 6}"
      ]
     },
     "execution_count": 32,
     "metadata": {},
     "output_type": "execute_result"
    }
   ],
   "source": [
    "x = [[1,2], [2,6]]\n",
    "y = dict(x)\n",
    "y"
   ]
  },
  {
   "cell_type": "code",
   "execution_count": 33,
   "metadata": {},
   "outputs": [
    {
     "data": {
      "text/plain": [
       "(12, 2, 5, 6, 9, 7, 8, 6, 5)"
      ]
     },
     "execution_count": 33,
     "metadata": {},
     "output_type": "execute_result"
    }
   ],
   "source": [
    "a = [12,2,5,6,9,7,8,6,5]\n",
    "b = tuple(a)\n",
    "b"
   ]
  },
  {
   "cell_type": "code",
   "execution_count": 34,
   "metadata": {},
   "outputs": [
    {
     "data": {
      "text/plain": [
       "[2, 4, 6, 8, 10, 18, 32]"
      ]
     },
     "execution_count": 34,
     "metadata": {},
     "output_type": "execute_result"
    }
   ],
   "source": [
    "c = (2,4,6,8,10,18,32)\n",
    "d = list(c)\n",
    "d"
   ]
  },
  {
   "cell_type": "code",
   "execution_count": 37,
   "metadata": {},
   "outputs": [
    {
     "data": {
      "text/plain": [
       "[1, 5, 3, (5, 6, 7)]"
      ]
     },
     "execution_count": 37,
     "metadata": {},
     "output_type": "execute_result"
    }
   ],
   "source": [
    "# A list of tuples, A tuple as an element can be repalced/added/removed from the list but element tuple itself is still immmutable.\n",
    "a1 = [1,2,3,(5,6,7)]\n",
    "a1[1]\n",
    "a1[1] = 5\n",
    "a1"
   ]
  },
  {
   "cell_type": "code",
   "execution_count": 38,
   "metadata": {},
   "outputs": [
    {
     "data": {
      "text/plain": [
       "(1, 2, 3, [9, 6, 7])"
      ]
     },
     "execution_count": 38,
     "metadata": {},
     "output_type": "execute_result"
    }
   ],
   "source": [
    "# A tuple of lists, A list as an element inside a tuple cannot be repalaced/added/removed but elements inside elements list are mutable.\n",
    "a1 = (1,2,3,[5,6,7])\n",
    "a1[-1][0]\n",
    "a1[-1][0] = 9\n",
    "a1"
   ]
  },
  {
   "cell_type": "code",
   "execution_count": 6,
   "metadata": {},
   "outputs": [
    {
     "name": "stdout",
     "output_type": "stream",
     "text": [
      "['mango', 'melon', 'papaya']\n",
      "('mango', 'melon', 'papaya')\n"
     ]
    }
   ],
   "source": [
    "# Dictionary to list and tuple\n",
    "x= {\"mango\": 5, \"melon\": 7, \"papaya\": 11}\n",
    "y = list(x)\n",
    "z = tuple(x) \n",
    "print(y)\n",
    "print(z)"
   ]
  },
  {
   "cell_type": "code",
   "execution_count": 14,
   "metadata": {},
   "outputs": [
    {
     "name": "stdout",
     "output_type": "stream",
     "text": [
      "(1, 2, 3, 4, 5, 6)\n"
     ]
    },
    {
     "data": {
      "text/plain": [
       "tuple"
      ]
     },
     "execution_count": 14,
     "metadata": {},
     "output_type": "execute_result"
    }
   ],
   "source": [
    "T1 = (1,2,3)\n",
    "T2 = (4,5,6)\n",
    "T3 = T1 + T2\n",
    "print(T3)\n",
    "type(T3)\n"
   ]
  },
  {
   "cell_type": "code",
   "execution_count": 17,
   "metadata": {},
   "outputs": [
    {
     "name": "stdout",
     "output_type": "stream",
     "text": [
      "21\n",
      "6\n",
      "6\n",
      "1\n",
      "[1, 2, 3, 4, 5, 6]\n",
      "3.5\n",
      "3.5\n",
      "1\n",
      "1.8708286933869707\n"
     ]
    }
   ],
   "source": [
    "from statistics import mean, median, mode, stdev\n",
    "\n",
    "print(sum(T3))\n",
    "print(len(T3))\n",
    "print(max(T3))\n",
    "print(min(T3))\n",
    "print(sorted(T3))\n",
    "print(mean(T3))\n",
    "print(median(T3))\n",
    "print(mode(T3))\n",
    "print(stdev(T3))"
   ]
  }
 ],
 "metadata": {
  "kernelspec": {
   "display_name": "Python 3",
   "language": "python",
   "name": "python3"
  },
  "language_info": {
   "codemirror_mode": {
    "name": "ipython",
    "version": 3
   },
   "file_extension": ".py",
   "mimetype": "text/x-python",
   "name": "python",
   "nbconvert_exporter": "python",
   "pygments_lexer": "ipython3",
   "version": "3.12.4"
  }
 },
 "nbformat": 4,
 "nbformat_minor": 2
}
