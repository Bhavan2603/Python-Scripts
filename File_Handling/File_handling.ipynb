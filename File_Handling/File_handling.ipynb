{
 "cells": [
  {
   "cell_type": "markdown",
   "metadata": {},
   "source": [
    "## Open Modes"
   ]
  },
  {
   "cell_type": "code",
   "execution_count": 5,
   "metadata": {},
   "outputs": [],
   "source": [
    "def create_file(file_path, content):\n",
    "    with open(file_path, 'w') as f:\n",
    "        f.write(content)\n",
    "        \n",
    "create_file(\"test.txt\", \"This is a text file\")"
   ]
  },
  {
   "cell_type": "code",
   "execution_count": 14,
   "metadata": {},
   "outputs": [
    {
     "name": "stdout",
     "output_type": "stream",
     "text": [
      "This is a test file.\n",
      "This is another line.\n",
      "This is another line.\n"
     ]
    }
   ],
   "source": [
    "with open(\"test.txt\", 'r') as f:\n",
    "    print(f.read())"
   ]
  },
  {
   "cell_type": "code",
   "execution_count": 8,
   "metadata": {},
   "outputs": [],
   "source": [
    "with open(\"test.txt\", 'w') as f:\n",
    "    f.write(\"This is a test file.\")"
   ]
  },
  {
   "cell_type": "code",
   "execution_count": 17,
   "metadata": {},
   "outputs": [],
   "source": [
    "with open(\"test.txt\", 'a') as f:\n",
    "    # Append the text to the end of the file.\n",
    "    f.write(\"\\nThis is another line.\")\n",
    "    f.write(\"\\nThis is a test file\")"
   ]
  },
  {
   "cell_type": "code",
   "execution_count": 21,
   "metadata": {},
   "outputs": [
    {
     "name": "stdout",
     "output_type": "stream",
     "text": [
      "This is a test file.\n",
      "This is another line.\n",
      "This is another line.\n",
      "This is another line.\n",
      "This is a test file\n",
      "This is a new line.\n",
      "This is another line.\n",
      "This is a test file\n",
      "This is a new line.\n",
      "This is a new line.\n",
      "This is a new line.\n",
      "This is a new line.\n"
     ]
    }
   ],
   "source": [
    "with open(\"test.txt\", 'a+') as f:\n",
    "    f.write(\"\\nThis is a new line.\")\n",
    "    f.seek(0)\n",
    "    print(f.read())\n",
    "    \n",
    "f.close()\n",
    "    "
   ]
  },
  {
   "cell_type": "markdown",
   "metadata": {},
   "source": [
    "## Creating File of list of strings"
   ]
  },
  {
   "cell_type": "code",
   "execution_count": 28,
   "metadata": {},
   "outputs": [],
   "source": [
    "mixed_strings = [\n",
    "    \"test@example.com\",\n",
    "    \"123-456-7890\",\n",
    "    \"Start this string\",\n",
    "    \"This string ends with End\",\n",
    "    \"123456\",\n",
    "    \"Contains whitespace \",\n",
    "    \"pretest and posttest\",\n",
    "    \"@#!$%\",\n",
    "    \"5This does not start with a digit\",\n",
    "    \"NoWhitespaceHere\"\n",
    "]\n",
    "\n",
    "# Function to create and write to the text file\n",
    "\n",
    "def create_file(file_path, content):\n",
    "    with open(file_path, 'w') as file:\n",
    "        for line in content:\n",
    "            file.write(line + '\\n')\n",
    "\n",
    "file_path = 'myfile.txt'\n",
    "create_file(file_path, mixed_strings)"
   ]
  },
  {
   "cell_type": "markdown",
   "metadata": {},
   "source": [
    "## Reading the File"
   ]
  },
  {
   "cell_type": "code",
   "execution_count": 29,
   "metadata": {},
   "outputs": [
    {
     "name": "stdout",
     "output_type": "stream",
     "text": [
      "test@example.com\n",
      "123-456-7890\n",
      "Start this string\n",
      "This string ends with End\n",
      "123456\n",
      "Contains whitespace \n",
      "pretest and posttest\n",
      "@#!$%\n",
      "5This does not start with a digit\n",
      "NoWhitespaceHere\n",
      "\n"
     ]
    }
   ],
   "source": [
    "file = open(\"myfile.txt\", 'r')\n",
    "res = file.read()\n",
    "print(res)\n",
    "file.close()"
   ]
  },
  {
   "cell_type": "code",
   "execution_count": 30,
   "metadata": {},
   "outputs": [
    {
     "name": "stdout",
     "output_type": "stream",
     "text": [
      "test@example.com\n",
      "123-456-7890\n",
      "Start this string\n",
      "This string ends with End\n",
      "123456\n",
      "Contains whitespace \n",
      "pretest and posttest\n",
      "@#!$%\n",
      "5This does not start with a digit\n",
      "NoWhitespaceHere\n",
      "\n"
     ]
    }
   ],
   "source": [
    "with open('myfile.txt', 'r') as file:\n",
    "    print(file.read())\n",
    "    file.close()"
   ]
  },
  {
   "cell_type": "code",
   "execution_count": 31,
   "metadata": {},
   "outputs": [
    {
     "name": "stdout",
     "output_type": "stream",
     "text": [
      "test@example.com\n",
      "123\n"
     ]
    }
   ],
   "source": [
    "file = open(\"myfile.txt\", 'r') \n",
    "content = file.read(20)  # Reads the first 20 characters \n",
    "print(content)\n",
    "file.close()"
   ]
  },
  {
   "cell_type": "code",
   "execution_count": 32,
   "metadata": {},
   "outputs": [
    {
     "name": "stdout",
     "output_type": "stream",
     "text": [
      "10\n"
     ]
    }
   ],
   "source": [
    "# Counting the number of lines in the file.\n",
    "with open(\"myfile.txt\", 'r') as file:\n",
    "    lines = file.readlines()\n",
    "    print(len(lines))"
   ]
  },
  {
   "cell_type": "code",
   "execution_count": 33,
   "metadata": {},
   "outputs": [],
   "source": [
    "with open(\"myfile.txt\", 'r') as file:\n",
    "    lines = file.readlines()\n",
    "    for word in lines:\n",
    "        if \"string\" in lines:\n",
    "            print(lines)"
   ]
  },
  {
   "cell_type": "markdown",
   "metadata": {},
   "source": [
    "#### Reading Lines"
   ]
  },
  {
   "cell_type": "markdown",
   "metadata": {},
   "source": [
    "There is another method by the name readlines() that reads all the lines into a list. This can be used as:"
   ]
  },
  {
   "cell_type": "code",
   "execution_count": 1,
   "metadata": {},
   "outputs": [
    {
     "name": "stdout",
     "output_type": "stream",
     "text": [
      "['Hello Hi How ru\\n', 'Good NightPython\\n', 'Python\\n']\n"
     ]
    }
   ],
   "source": [
    "file = open(\"myfile.txt\", 'r')\n",
    "str = file.readlines()\n",
    "print(str)\n",
    "file.close()"
   ]
  },
  {
   "cell_type": "code",
   "execution_count": 67,
   "metadata": {},
   "outputs": [
    {
     "name": "stdout",
     "output_type": "stream",
     "text": [
      "['Hello', 'Hi', 'How', 'ru']\n",
      "['Good', 'NightPython']\n",
      "['Python']\n"
     ]
    }
   ],
   "source": [
    "file = open(\"myfile.txt\", 'r')\n",
    "lines = file.readlines()\n",
    "for line in lines:\n",
    "    print(line.split())   # strip() removes the newline character\n",
    "file.close()"
   ]
  },
  {
   "cell_type": "markdown",
   "metadata": {},
   "source": [
    "### Splitting Line"
   ]
  },
  {
   "cell_type": "code",
   "execution_count": 33,
   "metadata": {},
   "outputs": [
    {
     "name": "stdout",
     "output_type": "stream",
     "text": [
      "['test@example.com', '123-456-7890', 'Start this string', 'This string ends with End', '123456', 'Contains whitespace ', 'pretest and posttest', '@#!$%', '5This does not start with a digit', 'NoWhitespaceHere']\n"
     ]
    }
   ],
   "source": [
    "file = open(\"myfile.txt\", 'r')\n",
    "str = file.read().splitlines()\n",
    "print(str)\n",
    "file.close()"
   ]
  },
  {
   "cell_type": "code",
   "execution_count": 34,
   "metadata": {},
   "outputs": [
    {
     "name": "stdout",
     "output_type": "stream",
     "text": [
      "['test@example.com']\n",
      "['123-456-7890']\n",
      "['Start', 'this', 'string']\n",
      "['This', 'string', 'ends', 'with', 'End']\n",
      "['123456']\n",
      "['Contains', 'whitespace']\n",
      "['pretest', 'and', 'posttest']\n",
      "['@#!$%']\n",
      "['5This', 'does', 'not', 'start', 'with', 'a', 'digit']\n",
      "['NoWhitespaceHere']\n"
     ]
    }
   ],
   "source": [
    "# Python code to illustrate split() fucntion\n",
    "with open(\"myfile.txt\", 'r') as file:\n",
    "    data = file.readlines()\n",
    "    for line in data:\n",
    "        word = line.split()\n",
    "        print(word)"
   ]
  },
  {
   "cell_type": "markdown",
   "metadata": {},
   "source": [
    "### Writing the File"
   ]
  },
  {
   "cell_type": "code",
   "execution_count": 37,
   "metadata": {},
   "outputs": [],
   "source": [
    "file = open(\"myfile.txt\", 'w')\n",
    "str = \"Current content of the file: I am a learner, Python is easy to learn\"\n",
    "file.write(str)\n",
    "\n",
    "file.close()"
   ]
  },
  {
   "cell_type": "code",
   "execution_count": 39,
   "metadata": {},
   "outputs": [
    {
     "data": {
      "text/plain": [
       "'Current content of the file: I am a learner, Python is easy to learn'"
      ]
     },
     "execution_count": 39,
     "metadata": {},
     "output_type": "execute_result"
    }
   ],
   "source": [
    "file = open(\"myfile.txt\", 'r')\n",
    "file.read()"
   ]
  },
  {
   "cell_type": "markdown",
   "metadata": {},
   "source": [
    "#### **Using writelines() Function**\n",
    "Write a python program to write multiple lines of text into a file:"
   ]
  },
  {
   "cell_type": "code",
   "execution_count": 40,
   "metadata": {},
   "outputs": [],
   "source": [
    "with open(\"myfile.txt\", 'w') as file:\n",
    "    l1 = \"Welcome to TutorialsPoint\\n\"\n",
    "    l2 = \"Write multiple lines \\n\"  \n",
    "    l3 = \"Done Successfully \\n\" \n",
    "    l4 = \"Thank You!\" \n",
    "    file.writelines([l1, l2, l3, l4])\n",
    "    file.close()"
   ]
  },
  {
   "cell_type": "code",
   "execution_count": 44,
   "metadata": {},
   "outputs": [
    {
     "name": "stdout",
     "output_type": "stream",
     "text": [
      "['Welcome to TutorialsPoint', 'Write multiple lines ', 'Done Successfully ', 'Thank You!']\n"
     ]
    }
   ],
   "source": [
    "with open(\"myfile.txt\", 'r') as file:\n",
    "    data = file.read().strip().split('\\n')\n",
    "    print(data)\n",
    "    file.close()"
   ]
  },
  {
   "cell_type": "code",
   "execution_count": 48,
   "metadata": {},
   "outputs": [],
   "source": [
    "file = open(\"myfile.txt\", 'w')\n",
    "list1 = [\"Hello \", \"Hi \", \"How ru\"]\n",
    "file.writelines(list1)\n",
    "file.close()"
   ]
  },
  {
   "cell_type": "code",
   "execution_count": 49,
   "metadata": {},
   "outputs": [
    {
     "name": "stdout",
     "output_type": "stream",
     "text": [
      "Hello Hi How ru\n"
     ]
    }
   ],
   "source": [
    "with open(\"myfile.txt\", 'r') as file:\n",
    "    data = file.read()\n",
    "    print(data)"
   ]
  },
  {
   "cell_type": "markdown",
   "metadata": {},
   "source": [
    "### **Appending Text into File**"
   ]
  },
  {
   "cell_type": "code",
   "execution_count": 50,
   "metadata": {},
   "outputs": [],
   "source": [
    "file = open(\"myfile.txt\", 'a')\n",
    "\n",
    "str_to_write = \"\\nGood Night\"\n",
    "file.write(str_to_write)\n",
    "\n",
    "file.close()"
   ]
  },
  {
   "cell_type": "code",
   "execution_count": 51,
   "metadata": {},
   "outputs": [
    {
     "data": {
      "text/plain": [
       "['Hello Hi How ru', 'Good Night']"
      ]
     },
     "execution_count": 51,
     "metadata": {},
     "output_type": "execute_result"
    }
   ],
   "source": [
    "file = open(\"myfile.txt\", 'r')\n",
    "file.read().split('\\n')"
   ]
  },
  {
   "cell_type": "markdown",
   "metadata": {},
   "source": [
    "### **Append and Read**"
   ]
  },
  {
   "cell_type": "code",
   "execution_count": 53,
   "metadata": {},
   "outputs": [
    {
     "name": "stdout",
     "output_type": "stream",
     "text": [
      "Hello Hi How ru\n",
      "Good NightPython\n",
      "Python\n"
     ]
    }
   ],
   "source": [
    "file = open(\"myfile.txt\", 'a+')\n",
    "\n",
    "str = input(\"Enter text\")\n",
    "\n",
    "file.write(str+\"\\n\")\n",
    "\n",
    "file.seek(0)\n",
    "\n",
    "str = file.read().strip()\n",
    "print(str)\n",
    "\n",
    "file.close()"
   ]
  },
  {
   "cell_type": "markdown",
   "metadata": {},
   "source": [
    "### **Python program to copy the contents of one file to another file:**"
   ]
  },
  {
   "cell_type": "code",
   "execution_count": 55,
   "metadata": {},
   "outputs": [],
   "source": [
    "import warnings \n",
    "warnings.filterwarnings('ignore')\n",
    "\n",
    "with open(\"myfile.txt\", 'r') as file:\n",
    "    with open('output.txt', 'w') as file1:\n",
    "        for line in f:\n",
    "            file1.write(line)"
   ]
  },
  {
   "cell_type": "markdown",
   "metadata": {},
   "source": [
    "### **Deleting a File**"
   ]
  },
  {
   "cell_type": "code",
   "execution_count": 56,
   "metadata": {},
   "outputs": [],
   "source": [
    "import os\n",
    "os.remove(\"output.txt\")"
   ]
  },
  {
   "cell_type": "code",
   "execution_count": 57,
   "metadata": {},
   "outputs": [
    {
     "name": "stdout",
     "output_type": "stream",
     "text": [
      "The file does not exist\n"
     ]
    }
   ],
   "source": [
    "if os.path.exists(\"output.txt\"):\n",
    "    print(\"file\")\n",
    "else:\n",
    "    print(\"The file does not exist\")"
   ]
  },
  {
   "cell_type": "code",
   "execution_count": 58,
   "metadata": {},
   "outputs": [
    {
     "name": "stdout",
     "output_type": "stream",
     "text": [
      "The file does not exists\n"
     ]
    }
   ],
   "source": [
    "if os.path.exists(\"output.txt\"):\n",
    "    os.remove(\"output.txt\")\n",
    "else:\n",
    "    print(\"The file does not exists\")"
   ]
  },
  {
   "cell_type": "markdown",
   "metadata": {},
   "source": [
    "## **Working with CSV Files**\n",
    "Reading the CSV file as a dictionary"
   ]
  },
  {
   "cell_type": "code",
   "execution_count": 3,
   "metadata": {},
   "outputs": [
    {
     "name": "stdout",
     "output_type": "stream",
     "text": [
      "File 'data.csv' created successfully.\n"
     ]
    }
   ],
   "source": [
    "def create_file(file_path, content):\n",
    "    with open(file_path, 'w') as file:\n",
    "        file.write(content)\n",
    "    print(f\"File '{file_path}' created successfully.\")\n",
    "    \n",
    "create_file('data.csv', 'Name,Age,City\\nJohn,25,New York\\nJane,30,Blore')"
   ]
  },
  {
   "cell_type": "code",
   "execution_count": 4,
   "metadata": {},
   "outputs": [
    {
     "name": "stdout",
     "output_type": "stream",
     "text": [
      "['Name', 'Age', 'City']\n",
      "['John', '25', 'New York']\n",
      "['Jane', '30', 'Blore']\n"
     ]
    }
   ],
   "source": [
    "import csv\n",
    "\n",
    "with open(\"data.csv\", 'r') as file:\n",
    "    reader = csv.reader(file)\n",
    "    for row in reader:\n",
    "        print(row)"
   ]
  },
  {
   "cell_type": "markdown",
   "metadata": {},
   "source": [
    "#### Writing a CSV file"
   ]
  },
  {
   "cell_type": "code",
   "execution_count": 5,
   "metadata": {},
   "outputs": [],
   "source": [
    "with open(\"data.csv\", 'w', newline = '') as file:\n",
    "    writer = csv.writer(file)\n",
    "    writer.writerow([\"Name\", \"Age\", \"City\"])\n",
    "    writer.writerow([\"Alice\", \"30\", \"New York\"])\n",
    "    writer.writerow([\"Bob\", \"35\", \"London\"])"
   ]
  },
  {
   "cell_type": "code",
   "execution_count": 6,
   "metadata": {},
   "outputs": [],
   "source": [
    "with open(\"data.csv\", 'a', newline = '') as file:\n",
    "    writer = csv.writer(file)\n",
    "    writer.writerow([\"xyz\", \"36\", \"Bangalore\"])"
   ]
  },
  {
   "cell_type": "code",
   "execution_count": 7,
   "metadata": {},
   "outputs": [
    {
     "name": "stdout",
     "output_type": "stream",
     "text": [
      "Alice 30 New York\n",
      "Bob 35 London\n",
      "xyz 36 Bangalore\n"
     ]
    }
   ],
   "source": [
    "with open(\"data.csv\", 'r') as file:\n",
    "    reader = csv.DictReader(file)\n",
    "    for row in reader:\n",
    "        print(row[\"Name\"], row[\"Age\"], row[\"City\"])"
   ]
  },
  {
   "cell_type": "markdown",
   "metadata": {},
   "source": [
    "### **Working with JSON File**\n",
    "Reading from a JSON file"
   ]
  },
  {
   "cell_type": "code",
   "execution_count": 2,
   "metadata": {},
   "outputs": [
    {
     "name": "stdout",
     "output_type": "stream",
     "text": [
      "File 'data.json' created successfully.\n"
     ]
    }
   ],
   "source": [
    "def create_file(file_path, content):\n",
    "    with open(file_path, 'w') as file:\n",
    "        file.write(content)\n",
    "    print(f\"File '{file_path}' created successfully.\")\n",
    "    \n",
    "create_file('data.json', '{\"name\":\"John\", \"age\":30, \"city\":\"New York\"}')"
   ]
  },
  {
   "cell_type": "code",
   "execution_count": 3,
   "metadata": {},
   "outputs": [
    {
     "name": "stdout",
     "output_type": "stream",
     "text": [
      "{'name': 'John', 'age': 30, 'city': 'New York'}\n"
     ]
    }
   ],
   "source": [
    "import json\n",
    "\n",
    "with open(\"data.json\", 'r') as file:\n",
    "    data = json.load(file)\n",
    "    print(data)"
   ]
  },
  {
   "cell_type": "code",
   "execution_count": 4,
   "metadata": {},
   "outputs": [],
   "source": [
    "data = [\n",
    "    {\"name\": \"Alice\", \"age\": 30, \"city\": \"New York\"},\n",
    "    {\"name\": \"Bob\", \"age\": 25, \"city\": \"Los Angeles\"},\n",
    "    {\"name\": \"Charlie\", \"age\": 35, \"city\": \"Chicago\"},\n",
    "    {\"name\": \"David\", \"age\": 28, \"city\": \"San Francisco\"}    \n",
    "]\n",
    "\n",
    "with open(\"data.json\", 'w') as file:\n",
    "    json.dump(data, file)"
   ]
  },
  {
   "cell_type": "code",
   "execution_count": 5,
   "metadata": {},
   "outputs": [],
   "source": [
    "new_entry = {\"name\": \"Python\", \"age\": 32, \"city\": \"Bangalore\"}\n",
    "data.append(new_entry)\n",
    "\n",
    "with open(\"data.json\", 'w') as file:\n",
    "    json.dump(data, file, indent = 4)"
   ]
  },
  {
   "cell_type": "code",
   "execution_count": 6,
   "metadata": {},
   "outputs": [
    {
     "name": "stdout",
     "output_type": "stream",
     "text": [
      "[{'name': 'Alice', 'age': 30, 'city': 'New York'}, {'name': 'Bob', 'age': 25, 'city': 'Los Angeles'}, {'name': 'Charlie', 'age': 35, 'city': 'Chicago'}, {'name': 'David', 'age': 28, 'city': 'San Francisco'}, {'name': 'Python', 'age': 32, 'city': 'Bangalore'}]\n"
     ]
    }
   ],
   "source": [
    "with open(\"data.json\", 'r') as file:\n",
    "    data = json.load(file)\n",
    "    print(data)"
   ]
  },
  {
   "cell_type": "code",
   "execution_count": null,
   "metadata": {},
   "outputs": [],
   "source": []
  }
 ],
 "metadata": {
  "kernelspec": {
   "display_name": "Python 3",
   "language": "python",
   "name": "python3"
  },
  "language_info": {
   "codemirror_mode": {
    "name": "ipython",
    "version": 3
   },
   "file_extension": ".py",
   "mimetype": "text/x-python",
   "name": "python",
   "nbconvert_exporter": "python",
   "pygments_lexer": "ipython3",
   "version": "3.12.4"
  }
 },
 "nbformat": 4,
 "nbformat_minor": 2
}
