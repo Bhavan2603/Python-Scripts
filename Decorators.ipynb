{
 "cells": [
  {
   "cell_type": "markdown",
   "metadata": {},
   "source": [
    "## **Decorators**\n",
    "A decorator is a function that wraps another function to add functionality. This is useful for logging, accesss control. catching, or any functionality that needs to be reused across multiple functions. \n",
    "- Decorator Function (my_decorator): It takes a function func as an argument and returns another function, typically called wrapper, which will contain the additional behaviour.\n",
    "- Wrapper Function: Inside the decorator, the wrapper function is defined. It calls the original function (func), while allowing you to add any logic before and after the call."
   ]
  },
  {
   "cell_type": "markdown",
   "metadata": {},
   "source": [
    "### **WHY**\n",
    "- Reusability: Decorators allow wrapping functionality and applying it to multiple functions.\n",
    "- Code Organisation: "
   ]
  },
  {
   "cell_type": "code",
   "execution_count": 1,
   "metadata": {},
   "outputs": [
    {
     "data": {
      "text/plain": [
       "0.5"
      ]
     },
     "execution_count": 1,
     "metadata": {},
     "output_type": "execute_result"
    }
   ],
   "source": [
    "def div (a,b):\n",
    "    return a / b\n",
    "\n",
    "div(2,4)"
   ]
  },
  {
   "cell_type": "code",
   "execution_count": 2,
   "metadata": {},
   "outputs": [
    {
     "data": {
      "text/plain": [
       "2.0"
      ]
     },
     "execution_count": 2,
     "metadata": {},
     "output_type": "execute_result"
    }
   ],
   "source": [
    "def smart_div(func):\n",
    "    def inner(a,b):\n",
    "        if b > a:\n",
    "            a,b = b,a\n",
    "        return func(a,b)\n",
    "    return inner\n",
    "\n",
    "@smart_div\n",
    "def div(a,b):\n",
    "    return a/b\n",
    "\n",
    "div(2,4)"
   ]
  },
  {
   "cell_type": "code",
   "execution_count": 3,
   "metadata": {},
   "outputs": [
    {
     "name": "stdout",
     "output_type": "stream",
     "text": [
      "Something is happening before the function is called.\n",
      "Hello!\n",
      "Something is happening after the function is called.\n"
     ]
    }
   ],
   "source": [
    "# Define a simple decorator\n",
    "def my_decorator(greet):\n",
    "    def wrapper():\n",
    "        print(\"Something is happening before the function is called.\")\n",
    "        greet()\n",
    "        print(\"Something is happening after the function is called.\")\n",
    "    return wrapper\n",
    "\n",
    "# Apply the decorator to a function\n",
    "@my_decorator\n",
    "def say_hello():\n",
    "    print(\"Hello!\")\n",
    "    \n",
    "# Call the decorated function\n",
    "say_hello() "
   ]
  },
  {
   "cell_type": "markdown",
   "metadata": {},
   "source": [
    "### **Method Decorators**\n",
    "They are similar to function decorators but they work with instance methods. Here's an example that logs method calls:"
   ]
  },
  {
   "cell_type": "code",
   "execution_count": 5,
   "metadata": {},
   "outputs": [
    {
     "name": "stdout",
     "output_type": "stream",
     "text": [
      "Before method execution\n",
      "Hello from the class method!\n",
      "After method execution\n"
     ]
    }
   ],
   "source": [
    "# Define a method decorator\n",
    "def my_method_decorator(func):\n",
    "    def wrapper(self):\n",
    "        print(\"Before method execution\")\n",
    "        func(self)\n",
    "        print(\"After method execution\")\n",
    "    return wrapper\n",
    "\n",
    "# Create a class and apply the decorator to a method\n",
    "class MyClass:\n",
    "    @my_method_decorator\n",
    "    def say_hello(self):\n",
    "        print(\"Hello from the class method!\")\n",
    "        \n",
    "# Create an instance of the class and call\n",
    "obj = MyClass()\n",
    "obj.say_hello()\n",
    "        "
   ]
  },
  {
   "cell_type": "markdown",
   "metadata": {},
   "source": [
    "### **Decorator with Arguments**\n",
    "1. '**args': Non-Keyword (Positional) Arguments\n",
    "- '*args' allows you to pass a variable number of positional arguments to a function.\n",
    "- Inside the function, *args will be treated as a tuple containing all the positional arguments."
   ]
  },
  {
   "cell_type": "code",
   "execution_count": 6,
   "metadata": {},
   "outputs": [
    {
     "name": "stdout",
     "output_type": "stream",
     "text": [
      "1\n",
      "2\n",
      "3\n",
      "4\n",
      "5\n",
      "6\n",
      "7\n"
     ]
    }
   ],
   "source": [
    "def my_function(*args):\n",
    "    for arg in args:\n",
    "        print(arg)\n",
    "        \n",
    "my_function(1,2,3,4,5,6,7)"
   ]
  },
  {
   "cell_type": "code",
   "execution_count": 8,
   "metadata": {},
   "outputs": [
    {
     "name": "stdout",
     "output_type": "stream",
     "text": [
      "Hello, World!\n"
     ]
    }
   ],
   "source": [
    "def greet(*names):\n",
    "    for name in names:\n",
    "        print(f\"Hello, {name}!\")\n",
    "        \n",
    "greet(\"World\")"
   ]
  },
  {
   "cell_type": "markdown",
   "metadata": {},
   "source": [
    "2. **kwargs: Keyword Arguments\n",
    "- **kwargs allows you to pass a variable number of keyword arguments to a function (i.e., arguments passed as key=value pairs.)\n",
    "- Inside the function, **kwargs will be treated as a dictionary containng all the keyword arguments."
   ]
  },
  {
   "cell_type": "code",
   "execution_count": 9,
   "metadata": {},
   "outputs": [
    {
     "name": "stdout",
     "output_type": "stream",
     "text": [
      "name = bhavan\n",
      "age = 21\n",
      "city = Blore\n",
      "country = India\n"
     ]
    }
   ],
   "source": [
    "def my_function(**kwargs):\n",
    "    for key, value in kwargs.items():\n",
    "        print(f\"{key} = {value}\")\n",
    "        \n",
    "my_function(name='bhavan', age=21, city='Blore', country='India')"
   ]
  },
  {
   "cell_type": "code",
   "execution_count": 10,
   "metadata": {},
   "outputs": [
    {
     "name": "stdout",
     "output_type": "stream",
     "text": [
      "name: Sharan\n",
      "age: 30\n",
      "city: Pune\n"
     ]
    }
   ],
   "source": [
    "def introduce(**info):\n",
    "    for key, value in info.items():\n",
    "        print(f\"{key}: {value}\")\n",
    "        \n",
    "introduce(name='Sharan', age=30, city=\"Pune\")"
   ]
  },
  {
   "cell_type": "code",
   "execution_count": 11,
   "metadata": {},
   "outputs": [
    {
     "name": "stdout",
     "output_type": "stream",
     "text": [
      "Something is happening before the function is called\n",
      "Hello, Bhavan!\n",
      "Hello, Sharan!\n",
      "Something is happening after the function is called\n"
     ]
    }
   ],
   "source": [
    "def greet(func):\n",
    "    def wrapper(*arg, **kwargs):\n",
    "        print(\"Something is happening before the function is called\")\n",
    "        result = func(*arg, **kwargs)\n",
    "        print(\"Something is happening after the function is called\")\n",
    "        return result\n",
    "    return wrapper\n",
    "\n",
    "@greet\n",
    "def say_hello(*name):\n",
    "    for i in name:\n",
    "        print(f\"Hello, {i}!\")\n",
    "        \n",
    "say_hello('Bhavan', 'Sharan')"
   ]
  },
  {
   "cell_type": "markdown",
   "metadata": {},
   "source": [
    "### **Decorator with Return Values**"
   ]
  },
  {
   "cell_type": "code",
   "execution_count": 13,
   "metadata": {},
   "outputs": [
    {
     "name": "stdout",
     "output_type": "stream",
     "text": [
      "Adding Two Numbers\n"
     ]
    },
    {
     "data": {
      "text/plain": [
       "12"
      ]
     },
     "execution_count": 13,
     "metadata": {},
     "output_type": "execute_result"
    }
   ],
   "source": [
    "def Addition(s):\n",
    "    def sum(*arg, **kwargs):\n",
    "        print(\"Adding Two Numbers\")\n",
    "        return s(*arg, **kwargs)\n",
    "    return sum\n",
    "\n",
    "@Addition\n",
    "def add(a,b):\n",
    "    return a + b\n",
    "\n",
    "add(7,5)"
   ]
  },
  {
   "cell_type": "markdown",
   "metadata": {},
   "source": [
    "### **Using Multiple Decorators**"
   ]
  },
  {
   "cell_type": "code",
   "execution_count": 14,
   "metadata": {},
   "outputs": [
    {
     "name": "stdout",
     "output_type": "stream",
     "text": [
      "Adding Two Numbers\n",
      "5\n",
      "Subtracitng Two Numbers\n",
      "5\n"
     ]
    }
   ],
   "source": [
    "def my_decorator1(func):\n",
    "    def wrapper(*arg, **kwargs):\n",
    "        print(\"Adding Two Numbers\")\n",
    "        return func(*arg, **kwargs)\n",
    "    return wrapper\n",
    "\n",
    "def my_decorator2(func):\n",
    "    def wrapper(*arg, **kwargs):\n",
    "        print(\"Subtracitng Two Numbers\")\n",
    "        return func(*arg, **kwargs)\n",
    "    return wrapper\n",
    "\n",
    "@my_decorator1\n",
    "def add(a,b):\n",
    "    result = a+b\n",
    "    print(result)\n",
    "    \n",
    "@my_decorator2\n",
    "def sub(a,b):\n",
    "    result = a-b\n",
    "    print(result)\n",
    "    \n",
    "add(2,3)\n",
    "sub(8,3)"
   ]
  },
  {
   "cell_type": "markdown",
   "metadata": {},
   "source": [
    "### **Class-Based Decorators**\n",
    "#### Class Decorators\n",
    "- Decorators can also be implemented as class by defining the call methods, which makes the class instances callable.\n",
    "- Class decorators modify or extend classes. Here's an example that adds a new method to a class:"
   ]
  },
  {
   "cell_type": "code",
   "execution_count": 15,
   "metadata": {},
   "outputs": [
    {
     "name": "stdout",
     "output_type": "stream",
     "text": [
      "Before the function is called\n",
      "Hello, Python!\n",
      "After the function is called\n"
     ]
    }
   ],
   "source": [
    "class MyDecorator:\n",
    "    def __init__(self, function):\n",
    "        self.function = function\n",
    "        \n",
    "    def __call__(self, *args, **kwargs):\n",
    "        print(\"Before the function is called\")\n",
    "        self.function(*args, **kwargs)\n",
    "        print(\"After the function is called\")\n",
    "        \n",
    "@MyDecorator\n",
    "def say_hello(name):\n",
    "    print(f\"Hello, {name}!\")\n",
    "\n",
    "say_hello(\"Python\")        "
   ]
  },
  {
   "cell_type": "markdown",
   "metadata": {},
   "source": [
    "### **Preserving Function Metadata with functools.wraps**\n",
    "- Using functools.wraps helps to preserve the original function's metadata."
   ]
  },
  {
   "cell_type": "code",
   "execution_count": 16,
   "metadata": {},
   "outputs": [
    {
     "name": "stdout",
     "output_type": "stream",
     "text": [
      "my_function\n",
      "Original function\n",
      "Calling decorated function\n",
      "Hello from my_function\n"
     ]
    }
   ],
   "source": [
    "from functools import wraps\n",
    "\n",
    "def my_decorator(func):\n",
    "    @wraps(func)\n",
    "    def wrapper(*args, **kwargs):\n",
    "        \"\"\"Wrapper function\"\"\"\n",
    "        print(\"Calling decorated function\")\n",
    "        return func(*args, **kwargs)\n",
    "    return wrapper\n",
    "\n",
    "@my_decorator\n",
    "def my_function():\n",
    "    \"\"\"Original function\"\"\"\n",
    "    print(\"Hello from my_function\")\n",
    "    \n",
    "print(my_function.__name__)\n",
    "print(my_function.__doc__)\n",
    "my_function()"
   ]
  },
  {
   "cell_type": "markdown",
   "metadata": {},
   "source": [
    "### **Practical Use Cases for Decorators**"
   ]
  },
  {
   "cell_type": "code",
   "execution_count": 1,
   "metadata": {},
   "outputs": [
    {
     "name": "stdout",
     "output_type": "stream",
     "text": [
      "Executing say_hello\n",
      "Hello!\n",
      "Finished say_hello\n"
     ]
    }
   ],
   "source": [
    "# Logging Decorator \n",
    "from functools import wraps\n",
    "\n",
    "def log_execution(func):\n",
    "    @wraps(func)\n",
    "    def wrapper(*args, **kwargs):\n",
    "        print(f\"Executing {func.__name__}\")\n",
    "        result = func(*args, **kwargs)\n",
    "        print(f\"Finished {func.__name__}\")\n",
    "        return result\n",
    "    return wrapper\n",
    "\n",
    "@log_execution \n",
    "def say_hello():\n",
    "    print(\"Hello!\")\n",
    "    \n",
    "say_hello()"
   ]
  },
  {
   "cell_type": "code",
   "execution_count": 2,
   "metadata": {},
   "outputs": [
    {
     "name": "stdout",
     "output_type": "stream",
     "text": [
      "Function complete\n",
      "slow_function executed in 2.0026466846466064 seconds\n"
     ]
    }
   ],
   "source": [
    "# Instrumentation Decorator:\n",
    "import time\n",
    "\n",
    "def time_execution(func):\n",
    "    @wraps(func)\n",
    "    def wrapper(*args, **kwargs):\n",
    "        start_time = time.time()\n",
    "        result = func(*args, **kwargs)\n",
    "        end_time = time.time()\n",
    "        print(f\"{func.__name__} executed in {end_time - start_time} seconds\")\n",
    "        return result\n",
    "    return wrapper\n",
    "\n",
    "@time_execution\n",
    "def slow_function():\n",
    "    time.sleep(2)\n",
    "    print(\"Function complete\")\n",
    "    \n",
    "slow_function()"
   ]
  },
  {
   "cell_type": "code",
   "execution_count": 3,
   "metadata": {},
   "outputs": [
    {
     "name": "stdout",
     "output_type": "stream",
     "text": [
      "Fibinocci series\n",
      "1\n",
      "2\n",
      "3\n",
      "5\n",
      "8\n",
      "13\n",
      "21\n",
      "34\n",
      "55\n",
      "89\n",
      "144\n",
      "233\n",
      "377\n",
      "610\n",
      "987\n"
     ]
    }
   ],
   "source": [
    "n = 15\n",
    "a = 1\n",
    "b = 2\n",
    "count = 0\n",
    "if n < 1:\n",
    "    print(\"Enter a positive number\")\n",
    "else:\n",
    "    print(\"Fibinocci series\")\n",
    "    while count < n:\n",
    "        print(a)\n",
    "        c = a + b\n",
    "        a = b\n",
    "        b = c\n",
    "        count += 1"
   ]
  },
  {
   "cell_type": "code",
   "execution_count": null,
   "metadata": {},
   "outputs": [],
   "source": []
  }
 ],
 "metadata": {
  "kernelspec": {
   "display_name": "Python 3",
   "language": "python",
   "name": "python3"
  },
  "language_info": {
   "codemirror_mode": {
    "name": "ipython",
    "version": 3
   },
   "file_extension": ".py",
   "mimetype": "text/x-python",
   "name": "python",
   "nbconvert_exporter": "python",
   "pygments_lexer": "ipython3",
   "version": "3.12.4"
  }
 },
 "nbformat": 4,
 "nbformat_minor": 2
}
