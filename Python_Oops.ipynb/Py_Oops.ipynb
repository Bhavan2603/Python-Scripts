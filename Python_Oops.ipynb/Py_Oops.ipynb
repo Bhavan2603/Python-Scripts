{
 "cells": [
  {
   "cell_type": "markdown",
   "metadata": {},
   "source": [
    "## **Object-Oriented Programming (OOPs)**"
   ]
  },
  {
   "cell_type": "markdown",
   "metadata": {},
   "source": [
    "#### Class Definition Syntax:"
   ]
  },
  {
   "cell_type": "code",
   "execution_count": null,
   "metadata": {},
   "outputs": [],
   "source": [
    "class ClassName:\n",
    "    # Statement-1\n",
    "    .\n",
    "    .\n",
    "    .\n",
    "    # Statement-N"
   ]
  },
  {
   "cell_type": "code",
   "execution_count": 2,
   "metadata": {},
   "outputs": [
    {
     "name": "stdout",
     "output_type": "stream",
     "text": [
      "Blue is 11 years old\n"
     ]
    }
   ],
   "source": [
    "class Parrot:\n",
    "    \n",
    "    # class attribute\n",
    "    name = \"\"\n",
    "    age = 0\n",
    "    \n",
    "# create parrot1 object\n",
    "parrot1 = Parrot()\n",
    "parrot1.name = \"Blue\"\n",
    "parrot1.age = 11\n",
    "\n",
    "# access attributes\n",
    "print(f\"{parrot1.name} is {parrot1.age} years old\")"
   ]
  },
  {
   "cell_type": "markdown",
   "metadata": {},
   "source": [
    "### **Constructor(--init--)**"
   ]
  },
  {
   "cell_type": "code",
   "execution_count": 2,
   "metadata": {},
   "outputs": [],
   "source": [
    "class add:\n",
    "    def __init__(self, a, b):\n",
    "        self.a = a\n",
    "        self.b = b\n",
    "        \n",
    "    def ans(self):\n",
    "        return self.a+self.b"
   ]
  },
  {
   "cell_type": "markdown",
   "metadata": {},
   "source": [
    "## **Python Obejcts**\n",
    "The obejct is an entity that has a state and behaviour associated with it. It may be any real world object like a mouse, keyboard, chair, table,pen etc. Integers, strings, floating-points numbers, even arrays,and dictionaries, are all objects."
   ]
  },
  {
   "cell_type": "code",
   "execution_count": 3,
   "metadata": {},
   "outputs": [
    {
     "name": "stdout",
     "output_type": "stream",
     "text": [
      "40\n"
     ]
    }
   ],
   "source": [
    "add1 = add(10, 30)\n",
    "print(add1.ans())"
   ]
  },
  {
   "cell_type": "code",
   "execution_count": 9,
   "metadata": {},
   "outputs": [],
   "source": [
    "class Divisible:\n",
    "    def __init__(self, num):\n",
    "        self.num = num\n",
    "        \n",
    "    def divmod(self):\n",
    "        if self.num%2==0:\n",
    "            print(\"The number is divisible by 2\")\n",
    "        else:\n",
    "            print(\"The number is not divisible by 2\")\n",
    "            \n",
    "    def divmod3(self):\n",
    "        if self.num%3==0:\n",
    "            print(\"The number is divisible by 3\")\n",
    "        else:\n",
    "            print(\"The number is not divisible by 3\")    \n",
    "            \n",
    "        "
   ]
  },
  {
   "cell_type": "code",
   "execution_count": 10,
   "metadata": {},
   "outputs": [
    {
     "name": "stdout",
     "output_type": "stream",
     "text": [
      "The number is divisible by 2\n",
      "The number is divisible by 3\n"
     ]
    }
   ],
   "source": [
    "divisible1 = Divisible(18)\n",
    "divisible1.divmod()\n",
    "divisible1.divmod3()"
   ]
  },
  {
   "cell_type": "code",
   "execution_count": 12,
   "metadata": {},
   "outputs": [
    {
     "data": {
      "text/plain": [
       "'Hello, Bhavan'"
      ]
     },
     "execution_count": 12,
     "metadata": {},
     "output_type": "execute_result"
    }
   ],
   "source": [
    "class Greet:\n",
    "    def __init__(self, name):\n",
    "        self.name = name\n",
    "        \n",
    "    def say(self):\n",
    "        return f\"Hello, {self.name}\"\n",
    "    \n",
    "    \n",
    "greeting = Greet(\"Bhavan\")\n",
    "greeting.say()"
   ]
  },
  {
   "cell_type": "markdown",
   "metadata": {},
   "source": [
    "### **Creating a class and object with class and instance attributes**"
   ]
  },
  {
   "cell_type": "code",
   "execution_count": 13,
   "metadata": {},
   "outputs": [
    {
     "name": "stdout",
     "output_type": "stream",
     "text": [
      "40\n"
     ]
    }
   ],
   "source": [
    "class Foo:\n",
    "    def __init__(self, x=30):\n",
    "        self.x=x\n",
    "    def foo(self, y):\n",
    "        print(self.x+y)\n",
    "        \n",
    "f = Foo()\n",
    "f.foo(10)"
   ]
  },
  {
   "cell_type": "code",
   "execution_count": 16,
   "metadata": {},
   "outputs": [
    {
     "name": "stdout",
     "output_type": "stream",
     "text": [
      "Toyota\n",
      "Crysta\n",
      "Total number of cars: 3\n",
      "Toyota, Crysta\n",
      "Tata, Nexon\n",
      "Ford, Mustang\n"
     ]
    }
   ],
   "source": [
    "class Car:\n",
    "    # Class attribute\n",
    "    car_count = 0\n",
    "    \n",
    "    def __init__(self, make, model):\n",
    "        # Instance attributes\n",
    "        self.make = make\n",
    "        self.model = model\n",
    "        # Increment the class attribute when a new instance is created\n",
    "        Car.car_count += 1\n",
    "        \n",
    "    def display_info(self):\n",
    "        print(f\"{self.make}, {self.model}\")\n",
    "        \n",
    "# Creating objects (instances) of the Car class\n",
    "car1 = Car(\"Toyota\", \"Crysta\")\n",
    "car2 = Car(\"Tata\", \"Nexon\")\n",
    "car3 = Car(\"Ford\", \"Mustang\")\n",
    "\n",
    "# Accessing instance attributes\n",
    "print(car1.make)\n",
    "print(car1.model)\n",
    "\n",
    "# Accessing class attribute\n",
    "print(\"Total number of cars:\", Car.car_count)\n",
    "\n",
    "# Calling a method of the class\n",
    "car1.display_info()\n",
    "car2.display_info()\n",
    "car3.display_info()"
   ]
  },
  {
   "cell_type": "markdown",
   "metadata": {},
   "source": [
    "#### The Calculator class is defined with two attributes:"
   ]
  },
  {
   "cell_type": "code",
   "execution_count": 6,
   "metadata": {},
   "outputs": [
    {
     "name": "stdout",
     "output_type": "stream",
     "text": [
      "Addition: 15\n",
      "Subtraction: 5\n",
      "Multiplication: 50\n",
      "Division: 2.0\n"
     ]
    }
   ],
   "source": [
    "class Calculator:\n",
    "    def __init__(self, x, y):\n",
    "        self.x = x\n",
    "        self.y = y\n",
    "        \n",
    "    def add(self):\n",
    "        return self.x + self.y \n",
    "    \n",
    "    def subtract(self):\n",
    "        return self.x - self.y  \n",
    "    \n",
    "    def multiply(self):\n",
    "        return self.x * self.y \n",
    "    \n",
    "    def divide(self):\n",
    "        if self.y != 0:\n",
    "            return self.x / self.y\n",
    "        else:\n",
    "            return \"Cannot divide by zero\"\n",
    "        \n",
    "# Creating an object (instance) of the Calculator class\n",
    "calc = Calculator(10, 5)\n",
    "\n",
    "# Using methods of the class\n",
    "result_add = calc.add()\n",
    "result_subtract = calc.subtract()\n",
    "result_multiply = calc.multiply()\n",
    "result_divide = calc.divide()\n",
    "\n",
    "# Displaying results\n",
    "print(\"Addition:\", result_add)\n",
    "print(\"Subtraction:\", result_subtract)\n",
    "print(\"Multiplication:\", result_multiply)\n",
    "print(\"Division:\", result_divide)"
   ]
  },
  {
   "cell_type": "markdown",
   "metadata": {},
   "source": [
    "### **Encapsulation**\n",
    "- Encapsulation is the concept of bundling data (attributes) and methods that work on that data within a class, restricting direct access to some of the class's components.\n",
    "- Purpose: It ensures that an object's internal state is hidden and only accessible through well-defined methods, which protect the integrity of the object.\n",
    "\n",
    "**Key Points:**\n",
    "- Data Hiding: Private attributes cannot be accessed directly from outside the class, promoting data integrity.\n",
    "- Access Control: Methods like deposit and withdraw control how the balance can be modified.\n"
   ]
  },
  {
   "cell_type": "code",
   "execution_count": 8,
   "metadata": {},
   "outputs": [
    {
     "name": "stdout",
     "output_type": "stream",
     "text": [
      "2200\n"
     ]
    }
   ],
   "source": [
    "class BankAccount:\n",
    "    def __init__(self, balance):   \n",
    "        self.__balance = balance   #  Private attribute\n",
    "\n",
    "    def deposit(self, amount):\n",
    "        self.__balance += amount\n",
    "        \n",
    "    def withdraw(self, amount):\n",
    "        if self.__balance >= amount:\n",
    "            self.__balance -= amount\n",
    "        else:\n",
    "            print(\"Insufficient funds\") \n",
    "            \n",
    "    def get_balance(self):\n",
    "        return self.__balance   \n",
    "    \n",
    "account = BankAccount(2000)\n",
    "account.deposit(500) \n",
    "account.withdraw(300)\n",
    "print(account.get_balance())"
   ]
  },
  {
   "cell_type": "code",
   "execution_count": 11,
   "metadata": {},
   "outputs": [
    {
     "name": "stdout",
     "output_type": "stream",
     "text": [
      "Color: White, Model: Innova, Year: 2012\n",
      "120\n"
     ]
    }
   ],
   "source": [
    "class Car:\n",
    "    def __init__(self, color, model, year):\n",
    "        self.color = color\n",
    "        self.model = model\n",
    "        self.year = year\n",
    "        self._mileage = 0\n",
    "        \n",
    "    def drive(self, miles):\n",
    "        if miles > 0:\n",
    "            self._mileage += miles\n",
    "    \n",
    "    def get_mileage(self):\n",
    "        return self._mileage\n",
    "    \n",
    "    def get_car_details(self):\n",
    "        return f\"Color: {self.color}, Model: {self.model}, Year: {self.year}\"\n",
    "    \n",
    "my_car = Car(\"White\", \"Innova\", 2012)\n",
    "\n",
    "my_car.drive(120)\n",
    "print(my_car.get_car_details())\n",
    "print(my_car.get_mileage())"
   ]
  },
  {
   "cell_type": "markdown",
   "metadata": {},
   "source": [
    "### **Inheritance**\n",
    "Inheritance allows a class to inherit attributes and methods from another class. The class that inherits is called the child class, and the class it inherits from is called the parent class.\n",
    "\n",
    "### **Types of Inheritance in Python:**\n",
    "- Single Inheritance: A subclass inherits from one superclass.\n",
    "- Multiple Inheritance: A subclass inherits from multiple superclass.\n",
    "- Multilevel Inheritance: A subclass inherits from a superclass, which in turn inherits from another superclass.\n",
    "- Hierarchical Inheritance: Multiple subclass inherit from a single superclass.\n",
    "\n",
    "### **Key Points:**\n",
    "- Method Overriding: Subclasses can override methods from the superclass to provide specific behaviour.\n",
    "- super() function: Used to call methods from the superclass within the subclass."
   ]
  },
  {
   "cell_type": "code",
   "execution_count": 17,
   "metadata": {},
   "outputs": [
    {
     "name": "stdout",
     "output_type": "stream",
     "text": [
      "Bhavan Biradar\n"
     ]
    }
   ],
   "source": [
    "class Person:\n",
    "    def __init__(self, fname, lname):\n",
    "        self.firstname = fname\n",
    "        self.lastname = lname\n",
    "        \n",
    "    def printname(self):\n",
    "        print(self.firstname, self.lastname)\n",
    "        \n",
    "class student(Person):\n",
    "    pass\n",
    "\n",
    "x = student(\"Bhavan\", \"Biradar\")\n",
    "x.printname()    "
   ]
  },
  {
   "cell_type": "code",
   "execution_count": 18,
   "metadata": {},
   "outputs": [
    {
     "name": "stdout",
     "output_type": "stream",
     "text": [
      "Buddy\n",
      "Woof!\n",
      "Whiskers\n",
      "Meow!\n"
     ]
    }
   ],
   "source": [
    "class Animal:\n",
    "    def __init__(self, name):\n",
    "        self.name = name\n",
    "    \n",
    "    def speak(self):\n",
    "        return \"Some generic sound\"\n",
    "    \n",
    "class Dog(Animal):\n",
    "    def speak(self):\n",
    "        return \"Woof!\"\n",
    "    \n",
    "class Cat(Animal):\n",
    "    def speak(self):\n",
    "        return \"Meow!\"\n",
    "    \n",
    "dog = Dog(\"Buddy\")\n",
    "cat = Cat(\"Whiskers\")\n",
    "\n",
    "print(dog.name)\n",
    "print(dog.speak())\n",
    "\n",
    "print(cat.name)\n",
    "print(cat.speak())"
   ]
  },
  {
   "cell_type": "code",
   "execution_count": 28,
   "metadata": {},
   "outputs": [
    {
     "name": "stdout",
     "output_type": "stream",
     "text": [
      "35 is not divisible by 2\n"
     ]
    }
   ],
   "source": [
    "class number:\n",
    "    def __init__(self, value):\n",
    "        self.value = value\n",
    "        \n",
    "    def is_divisible_by(self):\n",
    "        return self.value % 2 == 0\n",
    "    \n",
    "class Specialnumber(number):\n",
    "    def check_divisible(self):\n",
    "        if self.is_divisible_by():\n",
    "            print(f\"{self.value} is divisible by 2\")\n",
    "        else:\n",
    "            print(f\"{self.value} is not divisible by 2\")\n",
    "        \n",
    "if __name__ == '__main__':\n",
    "    num = Specialnumber(35)\n",
    "    num.check_divisible()"
   ]
  },
  {
   "cell_type": "code",
   "execution_count": 1,
   "metadata": {},
   "outputs": [
    {
     "name": "stdout",
     "output_type": "stream",
     "text": [
      "Flying\n",
      "Swimming\n",
      "Quack!\n"
     ]
    }
   ],
   "source": [
    "# Multiple Inheritance\n",
    "class Flyer:\n",
    "    def fly(self):\n",
    "        return \"Flying\"\n",
    "    \n",
    "class Swimmer:\n",
    "    def swim(self):\n",
    "        return \"Swimming\" \n",
    "    \n",
    "class Duck(Flyer, Swimmer):\n",
    "    def quack(self):\n",
    "        return \"Quack!\"   \n",
    "\n",
    "donald = Duck()\n",
    "print(donald.fly())\n",
    "print(donald.swim())\n",
    "print(donald.quack())        "
   ]
  },
  {
   "cell_type": "code",
   "execution_count": 2,
   "metadata": {},
   "outputs": [],
   "source": [
    "class Person():\n",
    "    ## Constructor\n",
    "    def __init__(self, name, age):\n",
    "        self.__name = name\n",
    "        self.__age = age\n",
    "        \n",
    "    def get_name(self):\n",
    "        return self.__name \n",
    "    \n",
    "    def get_age(self):\n",
    "        return self.__age"
   ]
  },
  {
   "cell_type": "code",
   "execution_count": 4,
   "metadata": {},
   "outputs": [
    {
     "name": "stdout",
     "output_type": "stream",
     "text": [
      "Name: John\n",
      "Age: 21\n",
      "Rollno: 201\n"
     ]
    }
   ],
   "source": [
    "class student(Person):\n",
    "    def __init__(self, name, age, rollno):\n",
    "        super().__init__(name, age)\n",
    "        self.rollno = rollno\n",
    "        \n",
    "    def display(self):\n",
    "        print(\"Name:\", self.get_name())\n",
    "        print(\"Age:\", self.get_age())\n",
    "        print(\"Rollno:\", self.rollno) \n",
    "        \n",
    "student1 = student(\"John\", 21, 201)\n",
    "student1.display()"
   ]
  },
  {
   "cell_type": "code",
   "execution_count": 5,
   "metadata": {},
   "outputs": [
    {
     "name": "stdout",
     "output_type": "stream",
     "text": [
      "Student Details\n",
      "---------------\n",
      "Name: John\n",
      "Age: 21\n",
      "Rollno: 201\n"
     ]
    }
   ],
   "source": [
    "class student(Person):\n",
    "    def __init__(self, name, age, rollno):\n",
    "        super().__init__(name, age)\n",
    "        self.rollno = rollno\n",
    "        \n",
    "    def display(self):\n",
    "        print(\"Student Details\")\n",
    "        print(\"---------------\")\n",
    "        name1 = super().get_name()\n",
    "        print(\"Name:\", self.get_name())\n",
    "        print(\"Age:\", self.get_age())\n",
    "        print(\"Rollno:\", self.rollno) \n",
    "        \n",
    "student1 = student(\"John\", 21, 201)\n",
    "student1.display()"
   ]
  },
  {
   "cell_type": "code",
   "execution_count": 7,
   "metadata": {},
   "outputs": [
    {
     "name": "stdout",
     "output_type": "stream",
     "text": [
      "Name: Rahul, Age: 21, Reg: 201, Branch: ISE\n"
     ]
    }
   ],
   "source": [
    "class Branch(student):\n",
    "    def __init__(self, name, age, rollno, branch):\n",
    "        super().__init__(name, age, rollno)\n",
    "        self.branch = branch\n",
    "        self.roll = rollno\n",
    "        self.age = age\n",
    "        \n",
    "    def get_branch(self):\n",
    "        name2 = super().get_name()\n",
    "        return f\"Name: {name2}, Age: {self.age}, Reg: {self.rollno}, Branch: {self.branch}\"\n",
    "    \n",
    "obj = Branch(\"Rahul\", 21, 201, \"ISE\")\n",
    "print(obj.get_branch())"
   ]
  },
  {
   "cell_type": "code",
   "execution_count": 8,
   "metadata": {},
   "outputs": [
    {
     "name": "stdout",
     "output_type": "stream",
     "text": [
      "The number 20 is divisible by 2.\n"
     ]
    }
   ],
   "source": [
    "# Base Class\n",
    "class Number:\n",
    "    def __init__(self, value):\n",
    "        self.value = value\n",
    "        \n",
    "    def is_divisible_by_2(self):\n",
    "        return self.value % 2 == 0\n",
    "    \n",
    "# Derived Class\n",
    "class SpecialNumber(Number):\n",
    "    def __init__(self, value):\n",
    "        super().__init__(value)\n",
    "        \n",
    "    def check_divisibility(self):\n",
    "        if self.is_divisible_by_2():\n",
    "            print(f\"The number {self.value} is divisible by 2.\")\n",
    "        else:\n",
    "            print(\"The number {self.value} is not divisible by 2.\")\n",
    "            \n",
    "# Example\n",
    "if __name__ == \"__main__\":\n",
    "    num = SpecialNumber(20)\n",
    "    num.check_divisibility()"
   ]
  },
  {
   "cell_type": "code",
   "execution_count": 9,
   "metadata": {},
   "outputs": [
    {
     "data": {
      "text/plain": [
       "'Brand: Toyota, Model: Crysta'"
      ]
     },
     "execution_count": 9,
     "metadata": {},
     "output_type": "execute_result"
    }
   ],
   "source": [
    "# Using Super():\n",
    "class Vehicle:\n",
    "    def __init__(self, brand):\n",
    "        self.brand = brand\n",
    "    \n",
    "    def info(self):\n",
    "        return f\"Brand: {self.brand}\"\n",
    "    \n",
    "class Car(Vehicle):\n",
    "    def __init__(self, brand, model):\n",
    "        super().__init__(brand)   ## Calling the superclass constructor\n",
    "        self.model = model\n",
    "        \n",
    "    def info(self):\n",
    "        parent_info = super().info()\n",
    "        return f\"{parent_info}, Model: {self.model}\"\n",
    "    \n",
    "car = Car(\"Toyota\", \"Crysta\")\n",
    "car.info()"
   ]
  },
  {
   "cell_type": "markdown",
   "metadata": {},
   "source": [
    "### **Polymorphism**\n",
    "- Polymorphism allows methods to perform differently based on the object on which they are called, even though they share the same name.\n",
    "- Purpose: It enables one interface to be used for a genetal class of actions, making code more flexible and extensible.\n",
    "\n",
    "### **Key Points**\n",
    "- Flexibility: Functions can operate on any object that implements the required methods, reagardless of their class hierarchy.\n",
    "- No Need for Shared Superclass: Unlike traditional OOP languages, Python doesn't require classes to share a common superclass to use polymorphism."
   ]
  },
  {
   "cell_type": "code",
   "execution_count": 10,
   "metadata": {},
   "outputs": [
    {
     "name": "stdout",
     "output_type": "stream",
     "text": [
      "Welcome to ws  \n",
      "Welcome to ws Rahul\n"
     ]
    }
   ],
   "source": [
    "## Polymorphism\n",
    "# 1. Overloading\n",
    "# 2. Overriding\n",
    " \n",
    "# Overloading\n",
    "class ws:\n",
    "    def displayinfo(self, name=' '):\n",
    "        print(\"Welcome to ws \"+name)\n",
    "        \n",
    "obj = ws()\n",
    "obj.displayinfo()\n",
    "obj.displayinfo(\"Rahul\")"
   ]
  },
  {
   "cell_type": "code",
   "execution_count": 12,
   "metadata": {},
   "outputs": [
    {
     "name": "stdout",
     "output_type": "stream",
     "text": [
      "Welcome to ws \n",
      "Welcome to ws1\n"
     ]
    }
   ],
   "source": [
    "# Overriding\n",
    "class ws:\n",
    "    def displayinfo(self):\n",
    "        print(\"Welcome to ws \")\n",
    "        \n",
    "class ws1(ws):\n",
    "    def displayinfo(self):\n",
    "        super().displayinfo()\n",
    "        print(\"Welcome to ws1\")\n",
    "        \n",
    "obj = ws1()\n",
    "obj.displayinfo()"
   ]
  },
  {
   "cell_type": "code",
   "execution_count": 14,
   "metadata": {},
   "outputs": [
    {
     "name": "stdout",
     "output_type": "stream",
     "text": [
      "6\n",
      "12\n"
     ]
    }
   ],
   "source": [
    "class MathOperations:\n",
    "    def add(self, a, b, c=None):\n",
    "        if c is not None:\n",
    "            return a + b + c\n",
    "        return a + b\n",
    "\n",
    "# Example \n",
    "if __name__ == \"__main__\":\n",
    "    math = MathOperations()\n",
    "    print(math.add(2,4))\n",
    "    print(math.add(2,4,6))"
   ]
  },
  {
   "cell_type": "code",
   "execution_count": 17,
   "metadata": {},
   "outputs": [
    {
     "data": {
      "text/plain": [
       "55"
      ]
     },
     "execution_count": 17,
     "metadata": {},
     "output_type": "execute_result"
    }
   ],
   "source": [
    "class add:\n",
    "    def sum(self, a, b):\n",
    "        return a + b\n",
    "\n",
    "s = add()\n",
    "s.sum(23,32)"
   ]
  },
  {
   "cell_type": "code",
   "execution_count": 18,
   "metadata": {},
   "outputs": [
    {
     "name": "stdout",
     "output_type": "stream",
     "text": [
      "Flying high\n",
      "Jet Speed\n"
     ]
    }
   ],
   "source": [
    "class Bird:\n",
    "    def fly(self):\n",
    "        return \"Flying high\"\n",
    "    \n",
    "class Airplane:\n",
    "    def fly(self):\n",
    "        return \"Jet Speed\"\n",
    "    \n",
    "def make_it_fly(flying_thing):\n",
    "    print(flying_thing.fly())\n",
    "    \n",
    "bird = Bird()\n",
    "plane = Airplane()\n",
    "\n",
    "make_it_fly(bird)\n",
    "make_it_fly(plane)"
   ]
  },
  {
   "cell_type": "code",
   "execution_count": 19,
   "metadata": {},
   "outputs": [],
   "source": [
    "class Animal:\n",
    "    def __init__(self, name):\n",
    "        self.name = name\n",
    "        \n",
    "    def speak(self):\n",
    "        return \"Some generic sound\"\n",
    "    \n",
    "class Dog(Animal):\n",
    "    def speak "
   ]
  },
  {
   "cell_type": "markdown",
   "metadata": {},
   "source": [
    "### **Abstraction**\n",
    "- Abstraction hides the complex implementation details and only exposes the essential features to the user.\n",
    "- Purpose: It simplifies the interface and reduces complexity by allowing the user to focus on what the object does, rather than how it does it.\n",
    "#### **Key Points:**\n",
    "- Cannot Instantiate Abstract Classes: Attempting to create an instance of Shape will raise an error.\n",
    "- Mandatory Implementation: Subclasses must implement all abstract methods, ensuring a consistent interface."
   ]
  },
  {
   "cell_type": "code",
   "execution_count": 22,
   "metadata": {},
   "outputs": [
    {
     "name": "stdout",
     "output_type": "stream",
     "text": [
      "Triangle has three sides\n"
     ]
    }
   ],
   "source": [
    "from abc import ABC, abstractmethod \n",
    "class shape(ABC):\n",
    "    def shape(self):\n",
    "        print(\"This is a shape\")\n",
    "\n",
    "    @abstractmethod\n",
    "    def side(self):\n",
    "        pass\n",
    "    \n",
    "class triangle(shape):\n",
    "    def side(self):\n",
    "        print(\"Triangle has three sides\")\n",
    "        \n",
    "obj = triangle()\n",
    "obj.side()"
   ]
  },
  {
   "cell_type": "code",
   "execution_count": 24,
   "metadata": {},
   "outputs": [
    {
     "name": "stdout",
     "output_type": "stream",
     "text": [
      "Rectangle area: 20\n",
      "Rectangle perimeter: 18\n",
      "Circle area: 28.27431\n",
      "Circle perimeter: 18.849539999999998\n"
     ]
    }
   ],
   "source": [
    "class Shape(ABC):\n",
    "    @abstractmethod\n",
    "    def area(self):\n",
    "        pass\n",
    "    \n",
    "    @abstractmethod\n",
    "    def perimeter(self):\n",
    "        pass\n",
    "    \n",
    "class Rectangle(Shape):\n",
    "    def __init__(self, width, height):\n",
    "        self.width = width\n",
    "        self.height = height\n",
    "        \n",
    "    def area(self):\n",
    "        return self.width * self.height\n",
    "    \n",
    "    def perimeter(self):\n",
    "        return 2 * (self.width + self.height)\n",
    "    \n",
    "class Circle(Shape):\n",
    "    def __init__(self, radius):\n",
    "        self.radius = radius\n",
    "    \n",
    "    def area(self):\n",
    "        return 3.14159 * self.radius ** 2\n",
    "    \n",
    "    def perimeter(self):\n",
    "        return 2 * 3.14159 * self.radius\n",
    "    \n",
    "rect = Rectangle(4, 5)\n",
    "circle = Circle(3)\n",
    "\n",
    "print(f\"Rectangle area: {rect.area()}\")\n",
    "print(f\"Rectangle perimeter: {rect.perimeter()}\")\n",
    "\n",
    "print(f\"Circle area: {circle.area()}\")\n",
    "print(f\"Circle perimeter: {circle.perimeter()}\")"
   ]
  },
  {
   "cell_type": "code",
   "execution_count": 25,
   "metadata": {},
   "outputs": [
    {
     "name": "stdout",
     "output_type": "stream",
     "text": [
      "Car engine started.\n",
      "Bike engine started.\n"
     ]
    }
   ],
   "source": [
    "class Vehicle(ABC):\n",
    "    @abstractmethod\n",
    "    def start_engine(self):\n",
    "        pass\n",
    "    \n",
    "class Car(Vehicle):\n",
    "    def start_engine(self):\n",
    "        print(\"Car engine started.\")\n",
    "        \n",
    "class Bike(Vehicle):\n",
    "    def start_engine(self):\n",
    "        print(\"Bike engine started.\")\n",
    "        \n",
    "car = Car()\n",
    "bike = Bike()\n",
    "car.start_engine()\n",
    "bike.start_engine()"
   ]
  },
  {
   "cell_type": "markdown",
   "metadata": {},
   "source": [
    "### **Magic Methods in Python**"
   ]
  },
  {
   "cell_type": "code",
   "execution_count": 1,
   "metadata": {},
   "outputs": [
    {
     "name": "stdout",
     "output_type": "stream",
     "text": [
      "Creating instance...\n",
      "Initializing instance...\n",
      "Python\n"
     ]
    }
   ],
   "source": [
    "class MyClass:\n",
    "    def __new__(cls, *args, **kwargs):\n",
    "        print(\"Creating instance...\")\n",
    "        return super().__new__(cls)\n",
    "    \n",
    "    def __init__(self, name):\n",
    "        print(\"Initializing instance...\")\n",
    "        self.name = name\n",
    "        \n",
    "obj = MyClass(\"Python\")\n",
    "print(obj.name)"
   ]
  },
  {
   "cell_type": "code",
   "execution_count": 2,
   "metadata": {},
   "outputs": [
    {
     "name": "stdout",
     "output_type": "stream",
     "text": [
      "-3\n",
      "-4\n",
      "-3.8\n",
      "3.75\n",
      "3.75\n",
      "-3.75\n"
     ]
    }
   ],
   "source": [
    "import math\n",
    "\n",
    "class Number:\n",
    "    def __init__(self, value):\n",
    "        self.value = value\n",
    "        \n",
    "    def __ceil__(self):\n",
    "        return math.ceil(self.value)\n",
    "    \n",
    "    def __floor__(self):\n",
    "        return math.floor(self.value)\n",
    "    \n",
    "    def __round__(self, n=0):\n",
    "        return round(self.value, n)\n",
    "    \n",
    "    def __abs__(self):\n",
    "        return abs(self.value)\n",
    "    \n",
    "    def __neg__(self):\n",
    "        return -self.value\n",
    "    \n",
    "    def __pos__(self):\n",
    "        return +self.value \n",
    "    \n",
    "num = Number(-3.75)\n",
    "print(math.ceil(num))\n",
    "print(math.floor(num))\n",
    "print(round(num, 1))\n",
    "print(abs(num))\n",
    "print(-num)\n",
    "print(+num)"
   ]
  },
  {
   "cell_type": "code",
   "execution_count": 5,
   "metadata": {},
   "outputs": [
    {
     "name": "stdout",
     "output_type": "stream",
     "text": [
      "12\n",
      "-2\n",
      "35\n",
      "78125\n"
     ]
    }
   ],
   "source": [
    "class Arithmetic:\n",
    "    def __init__(self, value):\n",
    "        self.value = value\n",
    "        \n",
    "    def __add__(self, other):\n",
    "        return self.value + other.value\n",
    "    \n",
    "    def __sub__(self, other):\n",
    "        return self.value - other.value\n",
    "    \n",
    "    def __mul__(self, other):\n",
    "        return self.value * other.value\n",
    "    \n",
    "    def __pow__(self, other):\n",
    "        return self.value ** other.value \n",
    "    \n",
    "a = Arithmetic(5)\n",
    "b = Arithmetic(7)\n",
    "\n",
    "print(a+b)\n",
    "print(a-b)\n",
    "print(a*b)\n",
    "print(a**b)"
   ]
  },
  {
   "cell_type": "code",
   "execution_count": 6,
   "metadata": {},
   "outputs": [
    {
     "name": "stdout",
     "output_type": "stream",
     "text": [
      "MyString: Hello World\n",
      "MyString('Hello World')\n",
      "11\n",
      "11\n"
     ]
    }
   ],
   "source": [
    "class MyString:\n",
    "    def __init__(self, content):\n",
    "        self.content = content\n",
    "        \n",
    "    def __str__(self):\n",
    "        return f\"MyString: {self.content}\"\n",
    "    \n",
    "    def __repr__(self):\n",
    "        return f\"MyString({repr(self.content)})\"\n",
    "    \n",
    "    def __sizeof__(self):\n",
    "        return len(self.content)\n",
    "    \n",
    "    def __len__(self):\n",
    "        return len(self.content)\n",
    "    \n",
    "s = MyString(\"Hello World\")\n",
    "print(str(s))\n",
    "print(repr(s))\n",
    "print(s.__sizeof__())\n",
    "print(len(s))"
   ]
  },
  {
   "cell_type": "code",
   "execution_count": 7,
   "metadata": {},
   "outputs": [
    {
     "name": "stdout",
     "output_type": "stream",
     "text": [
      "False\n",
      "True\n",
      "True\n",
      "False\n",
      "True\n",
      "False\n"
     ]
    }
   ],
   "source": [
    "class Compare:\n",
    "    def __init__(self, value):\n",
    "        self.value = value\n",
    "        \n",
    "    def __eq__(self, other):\n",
    "        return self.value == other.value\n",
    "    \n",
    "    def __ne__(self, other):\n",
    "        return self.value != other.value\n",
    "    \n",
    "    def __lt__(self, other):\n",
    "        return self.value < other.value\n",
    "    \n",
    "    def __gt__(self, other):\n",
    "        return self.value > other.value\n",
    "    \n",
    "    def __le__(self, other):\n",
    "        return self.value <= other.value\n",
    "    \n",
    "    def __ge__(self, other):\n",
    "        return self.value >= other.value\n",
    "\n",
    "a = Compare(5)\n",
    "b = Compare(7)\n",
    "\n",
    "print(a == b)\n",
    "print(a != b)\n",
    "print(a < b)\n",
    "print(a > b)\n",
    "print(a <= b)\n",
    "print(a >= b)"
   ]
  },
  {
   "cell_type": "code",
   "execution_count": null,
   "metadata": {},
   "outputs": [],
   "source": []
  }
 ],
 "metadata": {
  "kernelspec": {
   "display_name": "Python 3",
   "language": "python",
   "name": "python3"
  },
  "language_info": {
   "codemirror_mode": {
    "name": "ipython",
    "version": 3
   },
   "file_extension": ".py",
   "mimetype": "text/x-python",
   "name": "python",
   "nbconvert_exporter": "python",
   "pygments_lexer": "ipython3",
   "version": "3.12.4"
  }
 },
 "nbformat": 4,
 "nbformat_minor": 2
}
