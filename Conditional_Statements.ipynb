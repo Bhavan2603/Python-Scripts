{
 "cells": [
  {
   "cell_type": "markdown",
   "metadata": {},
   "source": [
    "## **Python Conditional Statements:**\n",
    "Conditional statements in Python are used to execute different blocks of code based on whether a specified condition evaluates to True or False. They are fundamental to programming as they enable the implementation of decision-making logic within programs. Python provides several conditional statements to facilitate this, namely if, else, elif, and nested conditionals.\n",
    "\n",
    "### **1.if Statement:**\n",
    "The if statement is the most basic conditional statement in Python. It allows you to execute a block of code only if a specified condition is true.\n",
    "\n",
    "**Syntax**\n",
    "\n",
    "<pre><code>if condition:\n",
    "    # block of code to be executed if condition is true </code></pre>"
   ]
  },
  {
   "cell_type": "code",
   "execution_count": 2,
   "metadata": {},
   "outputs": [
    {
     "name": "stdout",
     "output_type": "stream",
     "text": [
      "x is greater than 5\n"
     ]
    }
   ],
   "source": [
    "x = 10\n",
    "if x > 5:\n",
    "    print('x is greater than 5')"
   ]
  },
  {
   "cell_type": "code",
   "execution_count": 3,
   "metadata": {},
   "outputs": [
    {
     "name": "stdout",
     "output_type": "stream",
     "text": [
      "x is greater than 5\n"
     ]
    }
   ],
   "source": [
    "x = 10\n",
    "if x < 5:\n",
    "    print('x is less than 5')\n",
    "else:\n",
    "    print('x is greater than 5')"
   ]
  },
  {
   "cell_type": "code",
   "execution_count": 4,
   "metadata": {},
   "outputs": [
    {
     "name": "stdout",
     "output_type": "stream",
     "text": [
      "Bye\n"
     ]
    }
   ],
   "source": [
    "a = False #try assigning False to a\n",
    "if a:\n",
    "    print('Hello') #try removing the indentation\n",
    "else:\n",
    "    print('Bye')"
   ]
  },
  {
   "cell_type": "markdown",
   "metadata": {},
   "source": [
    "### **2.else Statement:**\n",
    "The else statement provides an alternative action for when the condition in the if statement is not met.\n",
    "- If the condition is true: Python runs the code inside the if block.\n",
    "- If the condition is false: Python skips the code inside the if block and moves to the else block, running the code inside it.\n",
    "\n",
    "\n",
    "**Syntax :**\n",
    "\n",
    "<pre><code>if condition:\n",
    "    # block of code to be executed if condition is true\n",
    "else:\n",
    "    # block of code to be executed if condition is false</code></pre>"
   ]
  },
  {
   "cell_type": "code",
   "execution_count": 5,
   "metadata": {},
   "outputs": [
    {
     "name": "stdout",
     "output_type": "stream",
     "text": [
      "x is odd number\n"
     ]
    }
   ],
   "source": [
    "x = 5\n",
    "if x % 2 == 0:\n",
    "    print('x is even number')\n",
    "else:\n",
    "    print('x is odd number')"
   ]
  },
  {
   "cell_type": "code",
   "execution_count": 6,
   "metadata": {},
   "outputs": [
    {
     "name": "stdout",
     "output_type": "stream",
     "text": [
      "Hello\n"
     ]
    }
   ],
   "source": [
    "#'a==4' is the conditional expression\n",
    "a = 4\n",
    "if a!=5: \n",
    "    print('Hello')\n",
    "else:\n",
    "    print('Bye')"
   ]
  },
  {
   "cell_type": "code",
   "execution_count": null,
   "metadata": {},
   "outputs": [
    {
     "name": "stdout",
     "output_type": "stream",
     "text": [
      "2022 is not a leap year.\n"
     ]
    }
   ],
   "source": [
    "# Checking if a year is a leap year\n",
    "year = int(input(\"Enter a year: \"))\n",
    "if (year %4 == 0 and year % 100 != 0) or (year % 400 == 0):\n",
    "    print(year,\"is a leap year.\")\n",
    "else:\n",
    "    print(year, \"is not a leap year.\")\n",
    "    "
   ]
  },
  {
   "cell_type": "code",
   "execution_count": null,
   "metadata": {},
   "outputs": [
    {
     "name": "stdout",
     "output_type": "stream",
     "text": [
      "8 is not divisible by 3 itself, hence I won't check if it si divisibe by 5\n",
      "We understood if-else\n"
     ]
    }
   ],
   "source": [
    "a = int(input('Tell a number: '))\n",
    "\n",
    "if a % 3 == 0 and a % 5 == 0:\n",
    "    print(a, 'is divisible by both 3 and 5')\n",
    "else:\n",
    "    print(a, 'is not divisible by 3 itself, hence I won\\'t check if it si divisibe by 5')\n",
    "    \n",
    "print('We understood if-else')"
   ]
  },
  {
   "cell_type": "code",
   "execution_count": 7,
   "metadata": {},
   "outputs": [
    {
     "name": "stdout",
     "output_type": "stream",
     "text": [
      "even\n"
     ]
    }
   ],
   "source": [
    "a = int(input(\"enter a no:\"))\n",
    "if a%2==0:\n",
    "    print(\"even\")\n",
    "else:\n",
    "    print(\"odd\")"
   ]
  },
  {
   "cell_type": "code",
   "execution_count": 8,
   "metadata": {},
   "outputs": [
    {
     "name": "stdout",
     "output_type": "stream",
     "text": [
      "2024 is a leap year.\n"
     ]
    }
   ],
   "source": [
    "#Checking if a year is a leap year\n",
    "year = int(input(\"Enter a year: \"))\n",
    "if (year % 4 == 0 and year % 100 != 0) or (year % 400 == 0):\n",
    "    print(year,\"is a leap year.\")\n",
    "else:\n",
    "    print(year,\"is not a leap year.\")"
   ]
  },
  {
   "cell_type": "code",
   "execution_count": 12,
   "metadata": {},
   "outputs": [
    {
     "name": "stdout",
     "output_type": "stream",
     "text": [
      "35  is divisible by 3 itself, hence I won't check if it is divisible by 5\n",
      "We understood if-else\n"
     ]
    }
   ],
   "source": [
    "a = int(input('Tell a number: '))\n",
    "\n",
    "if a % 3 == 0 and a % 5 == 0:\n",
    "    print(a, ' is divisible by both 3 and 5')\n",
    "else:\n",
    "    print(a, ' is divisible by 3 itself, hence I won\\'t check if it is divisible by 5')\n",
    "\n",
    "print('We understood if-else')"
   ]
  },
  {
   "cell_type": "markdown",
   "metadata": {},
   "source": [
    "### **3. elif statement:** \n",
    "The elif statement, short of \"else if\", allows you to check multiple conditions sequentially. It is used when you have more than two possible outcomes.\n",
    "\n",
    "`if condition1:\n",
    " block of code to be executed if condition1 is true`\n",
    "\n",
    "`elif condition2:\n",
    "block of code to be executed if condition1 is false and condition2 is true`\n",
    "\n",
    "`else: block of code to be executed if all conditions are false.`"
   ]
  },
  {
   "cell_type": "code",
   "execution_count": 13,
   "metadata": {},
   "outputs": [
    {
     "name": "stdout",
     "output_type": "stream",
     "text": [
      "How did that happen?\n"
     ]
    }
   ],
   "source": [
    "a = 5\n",
    "b = 5\n",
    "if a == b:\n",
    "    print(\"How did that happen?\")\n",
    "elif a > b:\n",
    "    print(\"Yikes\")\n",
    "else:\n",
    "    print(\"All is well with the world\")"
   ]
  },
  {
   "cell_type": "code",
   "execution_count": 14,
   "metadata": {},
   "outputs": [
    {
     "name": "stdout",
     "output_type": "stream",
     "text": [
      "Don't ask\n"
     ]
    }
   ],
   "source": [
    "d = [1,2,3,'true']\n",
    "if d[-3]>2:\n",
    "    print(\"Hey I'am here\")\n",
    "elif d[-3]>=2:\n",
    "    print(\"Don't ask\")\n",
    "else:\n",
    "    print(\"I am outside\")"
   ]
  },
  {
   "cell_type": "code",
   "execution_count": 18,
   "metadata": {},
   "outputs": [
    {
     "name": "stdout",
     "output_type": "stream",
     "text": [
      "15  is divisible by both 3 and 5\n"
     ]
    }
   ],
   "source": [
    "# lets find if a number is divisible by both 3 and 5 \n",
    "\n",
    "a = int(input(\"Tell a number ; \"))\n",
    "\n",
    "if a % 3 == 0 and a % 5 == 0:\n",
    "    print(a, ' is divisible by both 3 and 5')\n",
    "    \n",
    "elif a % 3 == 0:\n",
    "    print('Ohh! yes, it is divisible by 3')"
   ]
  },
  {
   "cell_type": "code",
   "execution_count": 19,
   "metadata": {},
   "outputs": [
    {
     "name": "stdout",
     "output_type": "stream",
     "text": [
      "x is equal to 5\n"
     ]
    }
   ],
   "source": [
    "x = 5 \n",
    "if x > 5:\n",
    "    print(\"X is greater than 5\")\n",
    "elif x < 5:\n",
    "    print(\"x is less than 5\")\n",
    "else:\n",
    "    print(\"x is equal to 5\")"
   ]
  },
  {
   "cell_type": "code",
   "execution_count": 21,
   "metadata": {},
   "outputs": [
    {
     "name": "stdout",
     "output_type": "stream",
     "text": [
      "285\n",
      "71.25\n",
      "A\n"
     ]
    }
   ],
   "source": [
    "sub1 = int(input(\"enter a marks sub1 \"))\n",
    "sub2 = int(input(\"enter a marks sub2 \"))\n",
    "sub3 = int(input(\"enter a marks sub3 \"))\n",
    "sub4 = int(input(\"enter a marks sub4 \"))\n",
    "totalmarks = sub1+sub2+sub3+sub4\n",
    "print(totalmarks)\n",
    "percent = (totalmarks/400)*100\n",
    "print(percent)\n",
    "if percent>=90:\n",
    "    print(\"O\")\n",
    "elif percent<90 and percent>=80:\n",
    "    print(\"A+\")\n",
    "    print(\"A+\")\n",
    "elif percent<80 and percent>=70:\n",
    "    print(\"A\")\n",
    "elif percent<70 and percent>=60:\n",
    "    print(\"B+\")\n",
    "elif percent<60 and percent>=50:\n",
    "    print(\"B\")\n",
    "else:\n",
    "    print(\"Better luck\")"
   ]
  },
  {
   "cell_type": "markdown",
   "metadata": {},
   "source": [
    "#### **4. Nested if Statements**\n",
    "`if condition1: block of code`\n",
    "\n",
    "`if condition2: block of code` \n",
    "\n",
    "`else: block of code`\n",
    "\n",
    "`else: block of code`"
   ]
  },
  {
   "cell_type": "code",
   "execution_count": 22,
   "metadata": {},
   "outputs": [
    {
     "name": "stdout",
     "output_type": "stream",
     "text": [
      "x is greater than 5 and equal to 10\n"
     ]
    }
   ],
   "source": [
    "x = 10\n",
    "if x > 5 and x == 10:\n",
    "    print(\"x is greater than 5 and equal to 10\")"
   ]
  },
  {
   "cell_type": "code",
   "execution_count": 23,
   "metadata": {},
   "outputs": [
    {
     "name": "stdout",
     "output_type": "stream",
     "text": [
      "x is greater than 5\n",
      "x is also equal to 10\n"
     ]
    }
   ],
   "source": [
    "x = 10\n",
    "if x > 5:\n",
    "    print(\"x is greater than 5\")\n",
    "    if x == 10:\n",
    "        print(\"x is also equal to 10\")\n",
    "else:\n",
    "    print(\"x is less than or equal to 5\")"
   ]
  },
  {
   "cell_type": "code",
   "execution_count": 24,
   "metadata": {},
   "outputs": [
    {
     "name": "stdout",
     "output_type": "stream",
     "text": [
      "-5 is negative number\n",
      "-5 -ve odd number\n"
     ]
    }
   ],
   "source": [
    "x = -5\n",
    "if x > 0:\n",
    "    if x%2 == 0:\n",
    "        print(x, \"is even number\")\n",
    "    else:\n",
    "        print(x, \"is odd number\")\n",
    "elif x < 0:\n",
    "    print(x, \"is negative number\")\n",
    "    if x%2 == 0:\n",
    "        print(x, \"-ve even number\")\n",
    "    else:\n",
    "        print(x, \"-ve odd number\")\n",
    "else:\n",
    "    print(x, \"is zero\")"
   ]
  },
  {
   "cell_type": "code",
   "execution_count": 25,
   "metadata": {},
   "outputs": [
    {
     "name": "stdout",
     "output_type": "stream",
     "text": [
      "Isosceles Triangle\n"
     ]
    }
   ],
   "source": [
    "a = float(input(\"enter the lenght of side a: \"))\n",
    "b = float(input(\"enter the length of side b: \"))\n",
    "c = float(input(\"enter the length of side c: \"))\n",
    "\n",
    "if a + b > c and a + c > b and b + c > a:\n",
    "    if a == b ==c:\n",
    "        print(\"Equilateral Triangle\")\n",
    "    elif a == b or b == c or a == c:\n",
    "        print(\"Isosceles Triangle\")\n",
    "    else:\n",
    "        print(\"Scalene Triangle\")\n",
    "else:\n",
    "    print(\"Not a valid triangle\")"
   ]
  },
  {
   "cell_type": "code",
   "execution_count": 26,
   "metadata": {},
   "outputs": [
    {
     "name": "stdout",
     "output_type": "stream",
     "text": [
      "35 is not divisible by 3 itself, hence I wont check if it is divisible by 5\n",
      "We understood Nested-if\n"
     ]
    }
   ],
   "source": [
    "a = int(input(\"Tell a number: \"))\n",
    "\n",
    "if a%3 == 0:\n",
    "    print(a, \"is divisible by 3\")\n",
    "    if a%5 == 0:\n",
    "        print(a, \"is divisible by both 3 and 5\")\n",
    "    else:\n",
    "        print(a, \"is divisible by only 3 and not by 5\")\n",
    "else: \n",
    "    print(a, \"is not divisible by 3 itself, hence I wont check if it is divisible by 5\")\n",
    "\n",
    "print(\"We understood Nested-if\")"
   ]
  },
  {
   "cell_type": "code",
   "execution_count": 27,
   "metadata": {},
   "outputs": [
    {
     "name": "stdout",
     "output_type": "stream",
     "text": [
      "35 is a positive number\n"
     ]
    }
   ],
   "source": [
    "# Write a program to find positive, negative and zero using conditional statements\n",
    "x = int(input(\"Enter a number:\"))\n",
    "if x > 0:\n",
    "    print(f\"{x} is a positive number\")\n",
    "elif x < 0:\n",
    "    print(f\"{x} is a negative number\")\n",
    "else:\n",
    "    print(f\"{x} is zero\")"
   ]
  },
  {
   "cell_type": "code",
   "execution_count": 28,
   "metadata": {},
   "outputs": [
    {
     "name": "stdout",
     "output_type": "stream",
     "text": [
      "x is less than or equal to 5\n"
     ]
    }
   ],
   "source": [
    "x = 3\n",
    "if x > 5:\n",
    "    print(\"x is greater than 5\")\n",
    "    if x == 10:\n",
    "        print(\"x is also equal to 10\")\n",
    "else:\n",
    "    print(\"x is less than or equal to 5\")"
   ]
  },
  {
   "cell_type": "code",
   "execution_count": 29,
   "metadata": {},
   "outputs": [
    {
     "name": "stdout",
     "output_type": "stream",
     "text": [
      "2024 is a leap year.\n"
     ]
    }
   ],
   "source": [
    "year = 2024\n",
    "if (year % 4 == 0 and year % 100 != 0) or (year % 400 == 0):\n",
    "    print(year,\"is a leap year.\")\n",
    "else:\n",
    "    print(year,\"is not a leap year.\")"
   ]
  },
  {
   "cell_type": "markdown",
   "metadata": {},
   "source": [
    "#### **Conditional Expressions (Ternary Operator)**\n",
    "We can write simple if-else statemetns in a single line using the ternary operator."
   ]
  },
  {
   "cell_type": "code",
   "execution_count": null,
   "metadata": {},
   "outputs": [
    {
     "name": "stdout",
     "output_type": "stream",
     "text": [
      "11 is Odd\n"
     ]
    }
   ],
   "source": [
    "x = int(input(\"Enter a number: \"))\n",
    "\n",
    "even = f\"{x} is Even\" if x % 2 == 0 else f\"{x} is Odd\"\n",
    "print(even)"
   ]
  },
  {
   "cell_type": "code",
   "execution_count": null,
   "metadata": {},
   "outputs": [
    {
     "name": "stdout",
     "output_type": "stream",
     "text": [
      "34 is +ve number\n"
     ]
    }
   ],
   "source": [
    "x = int(input(\"Enter a number: \"))\n",
    "\n",
    "num = f\"{x} is +ve number\" if x > 0 else f\"{x} is -ve number\" if x < 0 else \"Number is zero\"\n",
    "print(num)"
   ]
  },
  {
   "cell_type": "code",
   "execution_count": null,
   "metadata": {},
   "outputs": [
    {
     "name": "stdout",
     "output_type": "stream",
     "text": [
      "31 is not divisible by 3 and 5\n"
     ]
    }
   ],
   "source": [
    "y = int(input(\"Enter a number: \"))\n",
    "\n",
    "div = f\"{y} is divisible by 3 & 5\" if y % 3 == 0 and y % 5 == 0 else f\"{y} is divisible by 3\" if y % 3 == 0 else f\"{y} is not divisible by 3 and 5\"\n",
    "print(div)"
   ]
  },
  {
   "cell_type": "code",
   "execution_count": null,
   "metadata": {},
   "outputs": [
    {
     "name": "stdout",
     "output_type": "stream",
     "text": [
      "text is not a palindrome\n"
     ]
    }
   ],
   "source": [
    "text = input(\"Enter a text: \")\n",
    "palindrome = \"Text is palindrome\" if text == text[::-1] else \"text is not a palindrome\" \n",
    "print(palindrome)"
   ]
  },
  {
   "cell_type": "markdown",
   "metadata": {},
   "source": [
    "#### **Match case statement**\n",
    "This is a more advanced conditional construct similar to a switch case in other languages. It allows matching complex patterns."
   ]
  },
  {
   "cell_type": "code",
   "execution_count": null,
   "metadata": {},
   "outputs": [
    {
     "name": "stdout",
     "output_type": "stream",
     "text": [
      "starts the engine\n"
     ]
    }
   ],
   "source": [
    "a = 'start'\n",
    "\n",
    "match a:\n",
    "    case 'start':\n",
    "        print(\"starts the engine\")\n",
    "    case 'end':\n",
    "        print(\"stop the engine\")\n",
    "    case _:\n",
    "        print('not started')"
   ]
  },
  {
   "cell_type": "code",
   "execution_count": null,
   "metadata": {},
   "outputs": [
    {
     "name": "stdout",
     "output_type": "stream",
     "text": [
      "mom is palindrome\n"
     ]
    }
   ],
   "source": [
    "x = input(\"Enter a text: \")\n",
    "\n",
    "match x:\n",
    "    case _ if x == x[::-1]:\n",
    "        print(f\"{x} is palindrome\")\n",
    "    case _:\n",
    "        print(f\"{x} is not palindrome\")"
   ]
  },
  {
   "cell_type": "code",
   "execution_count": null,
   "metadata": {},
   "outputs": [
    {
     "name": "stdout",
     "output_type": "stream",
     "text": [
      "28 is divisible by 2\n"
     ]
    }
   ],
   "source": [
    "num = int(input(\"Enter a number: \"))\n",
    "\n",
    "match num:\n",
    "    case _ if num % 2 == 0:\n",
    "        print(f\"{num} is divisible by 2\")\n",
    "    case _:\n",
    "        print(f\"{num} is not divisible by 2\")"
   ]
  }
 ],
 "metadata": {
  "kernelspec": {
   "display_name": "Python 3",
   "language": "python",
   "name": "python3"
  },
  "language_info": {
   "codemirror_mode": {
    "name": "ipython",
    "version": 3
   },
   "file_extension": ".py",
   "mimetype": "text/x-python",
   "name": "python",
   "nbconvert_exporter": "python",
   "pygments_lexer": "ipython3",
   "version": "3.12.4"
  }
 },
 "nbformat": 4,
 "nbformat_minor": 2
}
