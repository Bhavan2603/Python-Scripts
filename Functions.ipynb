{
 "cells": [
  {
   "cell_type": "markdown",
   "metadata": {},
   "source": [
    "# Functions"
   ]
  },
  {
   "cell_type": "code",
   "execution_count": 2,
   "metadata": {},
   "outputs": [
    {
     "name": "stdout",
     "output_type": "stream",
     "text": [
      "3\n"
     ]
    }
   ],
   "source": [
    "# Defining a Function:\n",
    "def my_function(parameter1, parameter2):\n",
    "    # Function body\n",
    "    result = parameter1 + parameter2\n",
    "    # Return Result \n",
    "    print(result)\n",
    "    \n",
    "# Calling a Function:\n",
    "my_function(1,2)"
   ]
  },
  {
   "cell_type": "code",
   "execution_count": 4,
   "metadata": {},
   "outputs": [
    {
     "name": "stdout",
     "output_type": "stream",
     "text": [
      "141\n"
     ]
    }
   ],
   "source": [
    "my_function(78, 63)"
   ]
  },
  {
   "cell_type": "code",
   "execution_count": 5,
   "metadata": {},
   "outputs": [
    {
     "data": {
      "text/plain": [
       "3"
      ]
     },
     "execution_count": 5,
     "metadata": {},
     "output_type": "execute_result"
    }
   ],
   "source": [
    "def add_numbers(x=1, y=2):\n",
    "    result = x + y\n",
    "    return result\n",
    "\n",
    "add_numbers()"
   ]
  },
  {
   "cell_type": "code",
   "execution_count": 6,
   "metadata": {},
   "outputs": [
    {
     "data": {
      "text/plain": [
       "110"
      ]
     },
     "execution_count": 6,
     "metadata": {},
     "output_type": "execute_result"
    }
   ],
   "source": [
    "add_numbers(34, 76)"
   ]
  },
  {
   "cell_type": "code",
   "execution_count": 7,
   "metadata": {},
   "outputs": [
    {
     "name": "stdout",
     "output_type": "stream",
     "text": [
      "46\n"
     ]
    }
   ],
   "source": [
    "def add():\n",
    "    x = int(input(\"Enter a number\"))\n",
    "    y = int(input(\"Enter the second number\"))\n",
    "    z =  x + y \n",
    "    print(z)\n",
    "add()"
   ]
  },
  {
   "cell_type": "code",
   "execution_count": 10,
   "metadata": {},
   "outputs": [
    {
     "name": "stdout",
     "output_type": "stream",
     "text": [
      "2\n",
      "4\n",
      "6\n",
      "8\n",
      "10\n"
     ]
    }
   ],
   "source": [
    "numbers = [1,2,3,4,5,6,7,8,9,10]\n",
    "for num in numbers:\n",
    "    if num % 2 == 0:\n",
    "        print(num)"
   ]
  },
  {
   "cell_type": "code",
   "execution_count": 11,
   "metadata": {},
   "outputs": [],
   "source": [
    "def div(numbers):\n",
    "    for num in numbers:\n",
    "        if num % 2 == 0:\n",
    "            print(f\"{num} is divisible by 2\")"
   ]
  },
  {
   "cell_type": "code",
   "execution_count": 12,
   "metadata": {},
   "outputs": [
    {
     "name": "stdout",
     "output_type": "stream",
     "text": [
      "2 is divisible by 2\n",
      "4 is divisible by 2\n",
      "6 is divisible by 2\n",
      "8 is divisible by 2\n",
      "10 is divisible by 2\n"
     ]
    }
   ],
   "source": [
    "a = [1,2,3,4,5,6,7,8,9,10]\n",
    "div(a)"
   ]
  },
  {
   "cell_type": "code",
   "execution_count": 14,
   "metadata": {},
   "outputs": [
    {
     "data": {
      "text/plain": [
       "[2, 4, 6, 8, 10]"
      ]
     },
     "execution_count": 14,
     "metadata": {},
     "output_type": "execute_result"
    }
   ],
   "source": [
    "def divis(numbers):\n",
    "    return[num for num in numbers if num % 2 ==0]\n",
    "\n",
    "no = [1,2,3,4,5,6,7,8,9,10]\n",
    "divis(no)"
   ]
  },
  {
   "cell_type": "code",
   "execution_count": 20,
   "metadata": {},
   "outputs": [
    {
     "data": {
      "text/plain": [
       "24"
      ]
     },
     "execution_count": 20,
     "metadata": {},
     "output_type": "execute_result"
    }
   ],
   "source": [
    "p = int(input(\"Enter a number\"))\n",
    "q = int(input(\"Enter a second number\"))\n",
    "add_numbers(p, q)"
   ]
  },
  {
   "cell_type": "code",
   "execution_count": 21,
   "metadata": {},
   "outputs": [
    {
     "name": "stdout",
     "output_type": "stream",
     "text": [
      "Hello ('Bhavan', 'Sharan', 'Raghav')\n"
     ]
    }
   ],
   "source": [
    "# Let me greet you with a function\n",
    "def greet(p):\n",
    "    return print(\"Hello\", str(p))\n",
    "a = 'Bhavan'\n",
    "b = 'Sharan'\n",
    "c = 'Raghav'\n",
    "\n",
    "# Let us recall the function\n",
    "greet((a,b,c))"
   ]
  },
  {
   "cell_type": "code",
   "execution_count": 22,
   "metadata": {},
   "outputs": [
    {
     "data": {
      "text/plain": [
       "(576, 13824)"
      ]
     },
     "execution_count": 22,
     "metadata": {},
     "output_type": "execute_result"
    }
   ],
   "source": [
    "def sqcb(a):\n",
    "    \"\"\" This function returns the square and cube of a given number\n",
    "    \"\"\"\n",
    "    return a**2, a**3\n",
    "\n",
    "sqcb(24)"
   ]
  },
  {
   "cell_type": "code",
   "execution_count": 24,
   "metadata": {},
   "outputs": [
    {
     "name": "stdout",
     "output_type": "stream",
     "text": [
      "Which number is the biggest module 5?\n",
      "14\n"
     ]
    }
   ],
   "source": [
    "def mod_5(x):\n",
    "    return x % 5\n",
    "\n",
    "print(\n",
    "    'Which number is the biggest module 5?',\n",
    "    max(100, 51, 14, key=mod_5),\n",
    "    sep='\\n', \n",
    ")"
   ]
  },
  {
   "cell_type": "code",
   "execution_count": 25,
   "metadata": {},
   "outputs": [
    {
     "data": {
      "text/plain": [
       "12"
      ]
     },
     "execution_count": 25,
     "metadata": {},
     "output_type": "execute_result"
    }
   ],
   "source": [
    "min(12,13,14, key=mod_5)"
   ]
  },
  {
   "cell_type": "code",
   "execution_count": 26,
   "metadata": {},
   "outputs": [
    {
     "data": {
      "text/plain": [
       "8"
      ]
     },
     "execution_count": 26,
     "metadata": {},
     "output_type": "execute_result"
    }
   ],
   "source": [
    "add = lambda x,y: x + y\n",
    "result = add(3,5)\n",
    "result"
   ]
  },
  {
   "cell_type": "code",
   "execution_count": 27,
   "metadata": {},
   "outputs": [
    {
     "data": {
      "text/plain": [
       "False"
      ]
     },
     "execution_count": 27,
     "metadata": {},
     "output_type": "execute_result"
    }
   ],
   "source": [
    "even = lambda x: x%2 == 0\n",
    "even(3)"
   ]
  },
  {
   "cell_type": "code",
   "execution_count": 29,
   "metadata": {},
   "outputs": [
    {
     "name": "stdout",
     "output_type": "stream",
     "text": [
      "[2, 4, 6, 8, 10]\n"
     ]
    }
   ],
   "source": [
    "even = lambda x : [i for i in x if i % 2 == 0]\n",
    "print(even([1,2,3,4,5,6,7,8,9,10]))"
   ]
  },
  {
   "cell_type": "code",
   "execution_count": 30,
   "metadata": {},
   "outputs": [
    {
     "data": {
      "text/plain": [
       "['', 2, '', 4, '', 6, '', 8, '', 10]"
      ]
     },
     "execution_count": 30,
     "metadata": {},
     "output_type": "execute_result"
    }
   ],
   "source": [
    "ist = [1,2,3,4,5,6,7,8,9,10]\n",
    "even = list(map(lambda x:x if x%2 == 0 else '', ist))\n",
    "even"
   ]
  },
  {
   "cell_type": "code",
   "execution_count": 32,
   "metadata": {},
   "outputs": [
    {
     "name": "stdout",
     "output_type": "stream",
     "text": [
      "343\n",
      "343\n"
     ]
    }
   ],
   "source": [
    "# Python code to illustrate teh code of a number\n",
    "def cube(x): return x**3\n",
    "\n",
    "cube_v2 = lambda x:x**3\n",
    "\n",
    "print(cube(7))\n",
    "print(cube_v2(7))"
   ]
  },
  {
   "cell_type": "markdown",
   "metadata": {},
   "source": [
    "## Map() Function"
   ]
  },
  {
   "cell_type": "code",
   "execution_count": 33,
   "metadata": {},
   "outputs": [
    {
     "data": {
      "text/plain": [
       "121"
      ]
     },
     "execution_count": 33,
     "metadata": {},
     "output_type": "execute_result"
    }
   ],
   "source": [
    "# We will look at one more example\n",
    "def SquareIt(Num):\n",
    "    \"\"\" This function returns square of a given number\n",
    "    \"\"\"\n",
    "    return Num**2\n",
    "\n",
    "#Recalling function\n",
    "SquareIt(11)"
   ]
  },
  {
   "cell_type": "code",
   "execution_count": 34,
   "metadata": {},
   "outputs": [
    {
     "name": "stdout",
     "output_type": "stream",
     "text": [
      "[1, 4, 9, 16, 25]\n"
     ]
    }
   ],
   "source": [
    "# map()\n",
    "list1 = [1,2,3,4,5]\n",
    "SquaredList = list(map(SquareIt, list1))\n",
    "print(SquaredList)"
   ]
  },
  {
   "cell_type": "code",
   "execution_count": 35,
   "metadata": {},
   "outputs": [
    {
     "name": "stdout",
     "output_type": "stream",
     "text": [
      "['', 2, '', 4, '', 6, '', 8, '', 10]\n"
     ]
    }
   ],
   "source": [
    "list2 = [1,2,3,4,5,6,7,8,9,10]\n",
    "list1 = list(map(lambda x:x if x%2 == 0 else '', list2))\n",
    "print(list1)"
   ]
  },
  {
   "cell_type": "code",
   "execution_count": 37,
   "metadata": {},
   "outputs": [
    {
     "name": "stdout",
     "output_type": "stream",
     "text": [
      "['', 2, '', 4, '', 6, '', 8, '', 10]\n"
     ]
    }
   ],
   "source": [
    "def even(x):\n",
    "    if x % 2 == 0:\n",
    "        return x\n",
    "    else:\n",
    "        return ''\n",
    "    \n",
    "list1 = list(map(even, list2))\n",
    "print(list1)"
   ]
  },
  {
   "cell_type": "code",
   "execution_count": 41,
   "metadata": {},
   "outputs": [
    {
     "name": "stdout",
     "output_type": "stream",
     "text": [
      "6 12 "
     ]
    }
   ],
   "source": [
    "list2 = [1,2,3,4,5]\n",
    "list1 = map(lambda x: x*3, list2)\n",
    "for num in list1:\n",
    "    if num % 2 == 0:\n",
    "        print(num,end=' ')"
   ]
  },
  {
   "cell_type": "markdown",
   "metadata": {},
   "source": [
    "### Filter() Function\n",
    "\n",
    "Filter() constructs an iterator from elements of an iterabel for which a function returns True. "
   ]
  },
  {
   "cell_type": "code",
   "execution_count": 1,
   "metadata": {},
   "outputs": [
    {
     "name": "stdout",
     "output_type": "stream",
     "text": [
      "[2, 4, 6, 8, 10]\n"
     ]
    }
   ],
   "source": [
    "list2 = [1,2,3,4,5,6,7,8,9,10]\n",
    "list1 = list(filter(lambda x : x%2==0, list2))\n",
    "print(list1)"
   ]
  },
  {
   "cell_type": "code",
   "execution_count": 2,
   "metadata": {},
   "outputs": [],
   "source": [
    "# filter\n",
    "def DivisibleBy_3(a):\n",
    "    if (a % 3 == 0):\n",
    "        return a"
   ]
  },
  {
   "cell_type": "code",
   "execution_count": null,
   "metadata": {},
   "outputs": [],
   "source": []
  },
  {
   "cell_type": "code",
   "execution_count": 4,
   "metadata": {},
   "outputs": [
    {
     "name": "stdout",
     "output_type": "stream",
     "text": [
      "[-9, -6, -3, 3, 6, 9]\n"
     ]
    }
   ],
   "source": [
    "list1 = range(-10,10)\n",
    "print(list(filter(DivisibleBy_3, list1)))"
   ]
  },
  {
   "cell_type": "code",
   "execution_count": 5,
   "metadata": {},
   "outputs": [
    {
     "name": "stdout",
     "output_type": "stream",
     "text": [
      "[0, 2, 4, 6, 8, 10, 12, 14, 16, 18]\n"
     ]
    }
   ],
   "source": [
    "# Another example of lambda function\n",
    "list1 = range(20)\n",
    "evenlist = list(filter(lambda x:(x%2==0), list1))\n",
    "print(evenlist)"
   ]
  },
  {
   "cell_type": "markdown",
   "metadata": {},
   "source": [
    "### Reduce() Function"
   ]
  },
  {
   "cell_type": "code",
   "execution_count": 6,
   "metadata": {},
   "outputs": [],
   "source": [
    "# pip install functools"
   ]
  },
  {
   "cell_type": "code",
   "execution_count": 7,
   "metadata": {},
   "outputs": [
    {
     "name": "stdout",
     "output_type": "stream",
     "text": [
      "Sum of numbers 15\n"
     ]
    }
   ],
   "source": [
    "from functools import reduce \n",
    "\n",
    "# Example1: Suming up a list of numbers\n",
    "numbers = [1,2,3,4,5]\n",
    "sum_result = reduce(lambda x,y: x + y, numbers)\n",
    "print(\"Sum of numbers\", sum_result)"
   ]
  },
  {
   "cell_type": "code",
   "execution_count": 8,
   "metadata": {},
   "outputs": [
    {
     "name": "stdout",
     "output_type": "stream",
     "text": [
      "Concatenated String: Hello World!\n"
     ]
    }
   ],
   "source": [
    "# Example2: Concatenating strings in a list\n",
    "words = [\"Hello\", \" \", \"World\", \"!\"]\n",
    "concatenated_string = reduce(lambda x,y: x + y, words)\n",
    "print(\"Concatenated String:\", concatenated_string)"
   ]
  },
  {
   "cell_type": "code",
   "execution_count": 9,
   "metadata": {},
   "outputs": [
    {
     "name": "stdout",
     "output_type": "stream",
     "text": [
      "Maximum Value: 89\n"
     ]
    }
   ],
   "source": [
    "# Example3: Finding the maximum value in a list\n",
    "values = [45, 67, 12, 89, 34]\n",
    "max_value = reduce(lambda x,y: x if x > y else y, values)\n",
    "print(\"Maximum Value:\", max_value)"
   ]
  },
  {
   "cell_type": "markdown",
   "metadata": {},
   "source": [
    "### Doc Strings\n",
    "Doc Strings are just the text statements while define the objective/purpose of a function. "
   ]
  },
  {
   "cell_type": "code",
   "execution_count": 13,
   "metadata": {},
   "outputs": [
    {
     "name": "stdout",
     "output_type": "stream",
     "text": [
      "Hello  Praveen\n"
     ]
    }
   ],
   "source": [
    "# Adding Doc Strings to our function 'greet(p)'\n",
    "def greet(p):\n",
    "    \"\"\" \n",
    "    This function returns the greeting for a given name.\n",
    "    \"\"\"\n",
    "    return print('Hello ', str(p))\n",
    "greet('Praveen')"
   ]
  },
  {
   "cell_type": "code",
   "execution_count": 14,
   "metadata": {},
   "outputs": [
    {
     "name": "stdout",
     "output_type": "stream",
     "text": [
      " \n",
      "    This function returns the greeting for a given name.\n",
      "    \n"
     ]
    }
   ],
   "source": [
    "# We can look at the objective of any function by using attribute '.__doc__'\n",
    "print(greet.__doc__)"
   ]
  },
  {
   "cell_type": "code",
   "execution_count": 12,
   "metadata": {},
   "outputs": [
    {
     "name": "stdout",
     "output_type": "stream",
     "text": [
      "Return the number of items in a container.\n"
     ]
    }
   ],
   "source": [
    "print(len.__doc__)"
   ]
  },
  {
   "cell_type": "code",
   "execution_count": 18,
   "metadata": {},
   "outputs": [
    {
     "data": {
      "text/plain": [
       "[1, 4, 9, 16]"
      ]
     },
     "execution_count": 18,
     "metadata": {},
     "output_type": "execute_result"
    }
   ],
   "source": [
    "# Let us get the square of numbers in a list\n",
    "def SquareList(a):\n",
    "    \"\"\"This function retruns the square of numbers in a list\n",
    "    \"\"\" \n",
    "    b = []\n",
    "    for i in a:\n",
    "        b.append(i**2)\n",
    "    return b\n",
    "#recall\n",
    "SquareList([1,2,3,4])"
   ]
  },
  {
   "cell_type": "code",
   "execution_count": 19,
   "metadata": {},
   "outputs": [
    {
     "name": "stdout",
     "output_type": "stream",
     "text": [
      "1\n",
      "4\n",
      "9\n",
      "16\n"
     ]
    }
   ],
   "source": [
    "# Let us get the square of numbers in a list\n",
    "def SquareList(a):\n",
    "    \"\"\"This functions returns square of numbers in a list\n",
    "    \"\"\"\n",
    "    for i in a:\n",
    "        print(i**2)\n",
    "#recall\n",
    "SquareList([1,2,3,4])"
   ]
  },
  {
   "cell_type": "code",
   "execution_count": 23,
   "metadata": {},
   "outputs": [
    {
     "name": "stdout",
     "output_type": "stream",
     "text": [
      "25\n",
      "36\n",
      "49\n",
      "64\n",
      "81\n"
     ]
    }
   ],
   "source": [
    "SquareList([5,6,7,8,9])"
   ]
  },
  {
   "cell_type": "markdown",
   "metadata": {},
   "source": [
    "## Exercise Questions"
   ]
  },
  {
   "cell_type": "code",
   "execution_count": 24,
   "metadata": {},
   "outputs": [
    {
     "name": "stdout",
     "output_type": "stream",
     "text": [
      "Rectangle Area: 40\n"
     ]
    }
   ],
   "source": [
    "# Def Function Examples:\n",
    "#Example1: Calculate Area of Rectangle\n",
    "\n",
    "def area_of_rectangle(length, breath):\n",
    "    area = length * breath\n",
    "    return area\n",
    "\n",
    "# Example Usuage\n",
    "rectangle_area = area_of_rectangle(5,8) \n",
    "print(\"Rectangle Area:\", rectangle_area)   "
   ]
  },
  {
   "cell_type": "code",
   "execution_count": 25,
   "metadata": {},
   "outputs": [
    {
     "name": "stdout",
     "output_type": "stream",
     "text": [
      "25 Celsius is 77.0 Fahrenheit\n"
     ]
    }
   ],
   "source": [
    "# Example2: Convert Celsius to Fahrenheit\n",
    "\n",
    "def celsius_to_fahrenheit(celsius):\n",
    "    fahrenheit = (celsius * 9/5) + 32\n",
    "    return fahrenheit\n",
    "\n",
    "# Example Usuage \n",
    "temperature_celsius = 25\n",
    "temperature_fahrenheit = celsius_to_fahrenheit(temperature_celsius)\n",
    "print(f\"{temperature_celsius} Celsius is {temperature_fahrenheit} Fahrenheit\")"
   ]
  },
  {
   "cell_type": "code",
   "execution_count": 26,
   "metadata": {},
   "outputs": [
    {
     "name": "stdout",
     "output_type": "stream",
     "text": [
      "13 is Prime: True\n"
     ]
    }
   ],
   "source": [
    "# Example3: Check if a number is Prime Number\n",
    "\n",
    "def is_prime(number):\n",
    "    if number < 2:\n",
    "        return False\n",
    "    for i in range(2, int(number**0.5) + 1):\n",
    "        if number % i == 0:\n",
    "            return False\n",
    "    return True\n",
    "\n",
    "# Example Usuage\n",
    "check_number = 13\n",
    "print(f\"{check_number} is Prime: {is_prime(check_number)}\")\n"
   ]
  },
  {
   "cell_type": "code",
   "execution_count": 27,
   "metadata": {},
   "outputs": [
    {
     "name": "stdout",
     "output_type": "stream",
     "text": [
      "The square of 7 is 49\n"
     ]
    }
   ],
   "source": [
    "#2. Lambda Expression Examples:\n",
    "#Example1 : Find the square of a number\n",
    "\n",
    "square = lambda x: x**2\n",
    "\n",
    "#Example Usuage\n",
    "number = 7\n",
    "result = square(number)\n",
    "print(f\"The square of {number} is {result}\")"
   ]
  },
  {
   "cell_type": "markdown",
   "metadata": {},
   "source": [
    "## Encoding "
   ]
  },
  {
   "cell_type": "code",
   "execution_count": 1,
   "metadata": {},
   "outputs": [],
   "source": [
    "letters_to_number = {\n",
    "    'a': 1,\n",
    "    'b': 2,\n",
    "    'c': 3,\n",
    "    'd': 4,\n",
    "    'e': 5,\n",
    "    'f': 6,\n",
    "    'g': 7,\n",
    "    'h': 8,\n",
    "    'i': 9,\n",
    "    'j': 10,\n",
    "    'k': 11, \n",
    "    'l': 12,\n",
    "    'm': 13,\n",
    "    'n': 14, \n",
    "    'o': 15, \n",
    "    'p': 16,\n",
    "    'q': 17,\n",
    "    'r': 18,\n",
    "    's': 19,\n",
    "    't': 20,\n",
    "    'u': 21,\n",
    "    'v': 22,\n",
    "    'w': 23,\n",
    "    'x': 24,\n",
    "    'y': 25,\n",
    "    'z': 26\n",
    "}\n",
    "\n",
    "encoded_messages = [\n",
    "    '18-5-3-1-4',\n",
    "    '2-5-20-12-5',\n",
    "    '15-14-5-7-5-1',\n",
    "    '23-8-1-20',\n",
    "    '1-3-20-9-15-14',\n",
    "    '18-5-1-12-12-25',\n",
    "    '20-8-5',\n",
    "    '13-5-19-19-1-7-5',\n",
    "    '3-8-1-12-12-5-14-7-5',\n",
    "    '2-8-1-22-1-14',\n",
    "    '19-15-21-14-4-1-18-25-1', \n",
    "    '18-1-19-8-13-9',\n",
    "]"
   ]
  },
  {
   "cell_type": "code",
   "execution_count": 4,
   "metadata": {},
   "outputs": [],
   "source": [
    "def get_key(val):\n",
    "    for key, value in letters_to_number.items():\n",
    "        if val == value:\n",
    "            return key\n",
    "        \n",
    "    return \"key doesn't exist\""
   ]
  },
  {
   "cell_type": "code",
   "execution_count": 5,
   "metadata": {},
   "outputs": [
    {
     "name": "stdout",
     "output_type": "stream",
     "text": [
      "['recad', 'betle', 'onegea', 'what', 'action', 'really', 'the', 'message', 'challenge', 'bhavan', 'soundarya', 'rashmi']\n"
     ]
    }
   ],
   "source": [
    "final = []\n",
    "for i in encoded_messages:\n",
    "    s = ''\n",
    "    for j in i.split('-'):\n",
    "        s += str(get_key(int(j)))\n",
    "    final.append(s)\n",
    "    \n",
    "print(final)"
   ]
  },
  {
   "cell_type": "markdown",
   "metadata": {},
   "source": [
    "## Decoding "
   ]
  },
  {
   "cell_type": "code",
   "execution_count": 6,
   "metadata": {},
   "outputs": [],
   "source": [
    "letter_to_number = {\n",
    "    'a': 1, 'b': 2, 'c': 3, 'd': 4, 'e': 5, 'f': 6, 'g': 7, 'h': 8, 'i': 9, 'j': 10,\n",
    "    'k': 11, 'l': 12, 'm': 13, 'n': 14, 'o': 15, 'p': 16, 'q': 17, 'r': 18, 's': 19,\n",
    "    't': 20, 'u': 21, 'v': 22, 'w': 23, 'x': 24, 'y': 25, 'z': 26\n",
    "}\n",
    "\n",
    "texts = [\n",
    "    'recad',\n",
    "    'betle',\n",
    "    'onegea',\n",
    "    'what',\n",
    "    'action',\n",
    "    'really',\n",
    "    'the',\n",
    "    'message',\n",
    "    'challenge',\n",
    "    'Bhavan',\n",
    "    'Soundarya',\n",
    "    'Rashmi'\n",
    "]"
   ]
  },
  {
   "cell_type": "code",
   "execution_count": 8,
   "metadata": {},
   "outputs": [],
   "source": [
    "def text_to_numerical(text):\n",
    "    numbers = []\n",
    "    for char in text:\n",
    "        lower_char = char.lower()  # Convert the character to lowercase\n",
    "        if lower_char in letter_to_number:  # Check if the character is in the dictionary\n",
    "            numbers.append(str(letter_to_number[lower_char]))  # Get the corresponding number and add to the list \n",
    "    return '-'.join(numbers)  # Join the numbers with hyphens"
   ]
  },
  {
   "cell_type": "code",
   "execution_count": 9,
   "metadata": {},
   "outputs": [
    {
     "name": "stdout",
     "output_type": "stream",
     "text": [
      "18-5-3-1-4\n",
      "2-5-20-12-5\n",
      "15-14-5-7-5-1\n",
      "23-8-1-20\n",
      "1-3-20-9-15-14\n",
      "18-5-1-12-12-25\n",
      "20-8-5\n",
      "13-5-19-19-1-7-5\n",
      "3-8-1-12-12-5-14-7-5\n",
      "2-8-1-22-1-14\n",
      "19-15-21-14-4-1-18-25-1\n",
      "18-1-19-8-13-9\n"
     ]
    }
   ],
   "source": [
    "# Convert each text to its numerical representation \n",
    "encoded_messages = []\n",
    "for text in texts:\n",
    "    encoded_message = text_to_numerical(text)\n",
    "    encoded_messages.append(encoded_message)\n",
    "    \n",
    "# Print the encoded messages\n",
    "for encoded in encoded_messages:\n",
    "    print(encoded)"
   ]
  },
  {
   "cell_type": "markdown",
   "metadata": {},
   "source": [
    "## Let us try to build a simple calculator using functions"
   ]
  },
  {
   "cell_type": "code",
   "execution_count": 1,
   "metadata": {},
   "outputs": [
    {
     "name": "stdout",
     "output_type": "stream",
     "text": [
      "Simple Calculator\n",
      "1. Add\n",
      "2. Subtract\n",
      "3. Multiply\n",
      "4. Division\n",
      "Result: 24.0\n"
     ]
    }
   ],
   "source": [
    "# Funtion to perform addition\n",
    "def add(x,y):\n",
    "    return x + y\n",
    "\n",
    "# Function to perform subtraction \n",
    "def subtract(x, y):\n",
    "    return x - y\n",
    "\n",
    "# Function to perform multiplication\n",
    "def multiply(x, y):\n",
    "    return x * y\n",
    "\n",
    "# Function to perform division\n",
    "def divide(x, y):\n",
    "    if y != 0:\n",
    "        return x / y\n",
    "    else:\n",
    "        return \"Error: Division by zero\"\n",
    "    \n",
    "# Main program\n",
    "print(\"Simple Calculator\")\n",
    "print(\"1. Add\")\n",
    "print(\"2. Subtract\")\n",
    "print(\"3. Multiply\")\n",
    "print(\"4. Division\")\n",
    "\n",
    "choice = input(\"Enter choice (1/2/3/4): \")\n",
    "\n",
    "num1 = float(input(\"Enter first number: \"))\n",
    "num2 = float(input(\"Enter second number: \"))\n",
    "\n",
    "if choice == '1':\n",
    "    print(\"Result:\", add(num1, num2))\n",
    "elif choice == '2':\n",
    "    print(\"Result:\", subtract(num1, num2))\n",
    "elif choice == '3':\n",
    "    print(\"Result:\", multiply(num1, num2))\n",
    "elif choice == '4':\n",
    "    print(\"Result:\", divide(num1, num2))\n",
    "else:\n",
    "    print(\"Invalid choice\")\n"
   ]
  },
  {
   "cell_type": "markdown",
   "metadata": {},
   "source": [
    "## Coding Challenge"
   ]
  },
  {
   "cell_type": "code",
   "execution_count": 14,
   "metadata": {},
   "outputs": [],
   "source": [
    "# Dummy student names \n",
    "students = ['Alice', 'Bob', 'Charlie', 'David', 'Eva']\n",
    "\n",
    "# Dummy subject names\n",
    "subjects = ['Math', 'Science', 'English', 'History']\n",
    "\n",
    "# Dummy grades for each student (Math, Science, English, History)\n",
    "grades = {\n",
    "    'Alice': [90, 85, 92, 88],\n",
    "    'Bob': [78, 95, 80, 70],\n",
    "    'Charlie': [82, 60, 75, 88],\n",
    "    'David': [65, 70, 68, 75],\n",
    "    'Eva': [88, 92, 45, 90]\n",
    "}"
   ]
  },
  {
   "cell_type": "code",
   "execution_count": 15,
   "metadata": {},
   "outputs": [
    {
     "name": "stdout",
     "output_type": "stream",
     "text": [
      "Average grade for Alice: 88.75\n",
      "Average grade for Bob: 80.75\n",
      "Average grade for Charlie: 76.25\n",
      "Average grade for David: 69.5\n",
      "Average grade for Eva: 78.75\n"
     ]
    }
   ],
   "source": [
    "def average_grade(grades_list):\n",
    "    return sum(grades_list) / len(grades_list)\n",
    "\n",
    "for name in students:\n",
    "    print(f\"Average grade for {name}:\", average_grade(grades[name]))"
   ]
  },
  {
   "cell_type": "code",
   "execution_count": 16,
   "metadata": {},
   "outputs": [
    {
     "name": "stdout",
     "output_type": "stream",
     "text": [
      "Subject with highest grade for Alice: English\n",
      "Subject with highest grade for Bob: Science\n",
      "Subject with highest grade for Charlie: History\n",
      "Subject with highest grade for David: History\n",
      "Subject with highest grade for Eva: Science\n"
     ]
    }
   ],
   "source": [
    "def highest_grade_subject(grades_list):\n",
    "    max_grade = max(grades_list)\n",
    "    max_index = grades_list.index(max_grade)\n",
    "    return subjects[max_index]\n",
    "\n",
    "for name in students:\n",
    "    print(f\"Subject with highest grade for {name}:\", highest_grade_subject(grades[name]))"
   ]
  },
  {
   "cell_type": "code",
   "execution_count": 17,
   "metadata": {},
   "outputs": [
    {
     "name": "stdout",
     "output_type": "stream",
     "text": [
      "Passed students: ['Alice', 'Bob', 'Charlie', 'David']\n"
     ]
    }
   ],
   "source": [
    "def passing_students(grades_dict):\n",
    "    passed_students = []\n",
    "    for student, grades_list in grades_dict.items():\n",
    "        if all(grade >= 50 for grade in grades_list):\n",
    "            passed_students.append(student)\n",
    "    return passed_students\n",
    "\n",
    "print(\"Passed students:\", passing_students(grades))"
   ]
  },
  {
   "cell_type": "code",
   "execution_count": 19,
   "metadata": {},
   "outputs": [
    {
     "name": "stdout",
     "output_type": "stream",
     "text": [
      "Subject-wise performance: {'Math': 80.6, 'Science': 80.4, 'English': 72.0, 'History': 82.2}\n"
     ]
    }
   ],
   "source": [
    "def subject_wise_performance(grades_dict):\n",
    "    performance = {}  # Initialize an empty dictionary to store average grades for each subject.\n",
    "    \n",
    "    for subject in subjects:   # Iterate through each subject.\n",
    "        subject_grades = []    # Initialize an empty list to store grades for the current subject.\n",
    "    \n",
    "        for student in grades_dict:  # Iterate through each student in the grades dictionary.\n",
    "            grade_index = subjects.index(subject)  # Find the index of the subject in subjects list.\n",
    "            subject_grades.append(grades_dict[student][grade_index])  # Append the students grade for the current \n",
    "        \n",
    "        performance[subject] = average_grade(subject_grades)\n",
    "    \n",
    "    return performance\n",
    "\n",
    "print(\"Subject-wise performance:\", subject_wise_performance(grades))"
   ]
  },
  {
   "cell_type": "code",
   "execution_count": 21,
   "metadata": {},
   "outputs": [
    {
     "name": "stdout",
     "output_type": "stream",
     "text": [
      "Students failed in Math: []\n",
      "Students failed in Science: []\n",
      "Students failed in English: ['Eva']\n",
      "Students failed in History: []\n"
     ]
    }
   ],
   "source": [
    "def students_failed_subject(grades_dict, subject):\n",
    "    failed_students = []\n",
    "    for student, grades_list in grades_dict.items():\n",
    "        if grades_list[subjects.index(subject)] <50:\n",
    "            failed_students.append(student)\n",
    "    return failed_students\n",
    "\n",
    "for subject in subjects:\n",
    "    print(f\"Students failed in {subject}:\", students_failed_subject(grades, subject))"
   ]
  },
  {
   "cell_type": "code",
   "execution_count": 22,
   "metadata": {},
   "outputs": [
    {
     "name": "stdout",
     "output_type": "stream",
     "text": [
      "Overall best performing student: Alice\n"
     ]
    }
   ],
   "source": [
    "def overall_performance(grades_dict):\n",
    "    best_student = max(grades_dict, key=lambda student: average_grade(grades_dict[student]))\n",
    "    return best_student\n",
    "\n",
    "print(\"Overall best performing student:\", overall_performance(grades))"
   ]
  },
  {
   "cell_type": "code",
   "execution_count": 3,
   "metadata": {},
   "outputs": [
    {
     "name": "stdout",
     "output_type": "stream",
     "text": [
      "5\n"
     ]
    }
   ],
   "source": [
    "def my_function(x, y = 2):\n",
    "    return x + y\n",
    "\n",
    "result = my_function(3)\n",
    "print(result)"
   ]
  },
  {
   "cell_type": "code",
   "execution_count": 16,
   "metadata": {},
   "outputs": [
    {
     "ename": "NameError",
     "evalue": "name 'X' is not defined",
     "output_type": "error",
     "traceback": [
      "\u001b[1;31m---------------------------------------------------------------------------\u001b[0m",
      "\u001b[1;31mNameError\u001b[0m                                 Traceback (most recent call last)",
      "Cell \u001b[1;32mIn[16], line 5\u001b[0m\n\u001b[0;32m      2\u001b[0m     x \u001b[38;5;241m=\u001b[39m x \u001b[38;5;241m+\u001b[39m \u001b[38;5;241m1\u001b[39m\n\u001b[0;32m      4\u001b[0m my_function(\u001b[38;5;241m3\u001b[39m)\n\u001b[1;32m----> 5\u001b[0m \u001b[38;5;28mprint\u001b[39m(\u001b[43mX\u001b[49m)\n",
      "\u001b[1;31mNameError\u001b[0m: name 'X' is not defined"
     ]
    }
   ],
   "source": [
    "def my_function(x):\n",
    "    x = x + 1\n",
    "    \n",
    "my_function(3)\n",
    "print(X)"
   ]
  },
  {
   "cell_type": "code",
   "execution_count": 5,
   "metadata": {},
   "outputs": [
    {
     "name": "stdout",
     "output_type": "stream",
     "text": [
      "3\n"
     ]
    }
   ],
   "source": [
    "def my_function():\n",
    "    global x\n",
    "    x = 3\n",
    "    \n",
    "my_function()\n",
    "print(x)"
   ]
  },
  {
   "cell_type": "code",
   "execution_count": 6,
   "metadata": {},
   "outputs": [
    {
     "name": "stdout",
     "output_type": "stream",
     "text": [
      "7\n"
     ]
    }
   ],
   "source": [
    "add = lambda x, y: x + y\n",
    "result = add(3,4)\n",
    "print(result)"
   ]
  },
  {
   "cell_type": "code",
   "execution_count": 7,
   "metadata": {},
   "outputs": [
    {
     "name": "stdout",
     "output_type": "stream",
     "text": [
      "Zero\n"
     ]
    }
   ],
   "source": [
    "def my_function(x):\n",
    "    if x < 0:\n",
    "        return \"Negative\"\n",
    "    elif x == 0:\n",
    "        return \"Zero\"\n",
    "    else:\n",
    "        return \"Positive\"\n",
    "\n",
    "result = my_function(0)\n",
    "print(result)"
   ]
  },
  {
   "cell_type": "markdown",
   "metadata": {},
   "source": [
    "## **Coding Challenge 2**"
   ]
  },
  {
   "cell_type": "code",
   "execution_count": 41,
   "metadata": {},
   "outputs": [
    {
     "name": "stdout",
     "output_type": "stream",
     "text": [
      "{'KGF': 9.5, 'RRR': 8.9, 'Rajkumar': 8.5, 'Pushpa': 7.3, 'Ramachari': 8.2}\n"
     ]
    }
   ],
   "source": [
    "movie_ratings = {}\n",
    "def add_movie_rating(movie_name, rating):\n",
    "   \n",
    "    \n",
    "    #print(f\"Movie: '{movie_name}' Movie_Rating: '{rating}'\")\n",
    "    \n",
    "    for i in range(5):\n",
    "        movie_name = input(\"Enter a movie name: \")\n",
    "        rating = float(input(\"Enter a movie rating: \"))\n",
    "        movie_ratings[movie_name] = rating\n",
    "    print(movie_ratings)   \n",
    "add_movie_rating(movie_name, rating)  "
   ]
  },
  {
   "cell_type": "code",
   "execution_count": 32,
   "metadata": {},
   "outputs": [
    {
     "name": "stdout",
     "output_type": "stream",
     "text": [
      "{'rrr': 6.7, 'jjjj': 7.8}\n"
     ]
    }
   ],
   "source": [
    "print(movie_ratings)   \n",
    "\n",
    "    "
   ]
  },
  {
   "cell_type": "code",
   "execution_count": 39,
   "metadata": {},
   "outputs": [
    {
     "name": "stdout",
     "output_type": "stream",
     "text": [
      "rrr 6.7\n",
      "jjjj 7.8\n"
     ]
    }
   ],
   "source": [
    "for i,j in  movie_ratings.items():\n",
    "    print(i,j)"
   ]
  },
  {
   "cell_type": "code",
   "execution_count": 43,
   "metadata": {},
   "outputs": [],
   "source": [
    "def get_average_rating(movie_ratings):\n",
    "    sum(movie_ratings.value) / len(movie_ratings)\n",
    "    \n",
    "    for i in movie_ratings:\n",
    "        print(i)"
   ]
  },
  {
   "cell_type": "code",
   "execution_count": null,
   "metadata": {},
   "outputs": [],
   "source": []
  }
 ],
 "metadata": {
  "kernelspec": {
   "display_name": "Python 3",
   "language": "python",
   "name": "python3"
  },
  "language_info": {
   "codemirror_mode": {
    "name": "ipython",
    "version": 3
   },
   "file_extension": ".py",
   "mimetype": "text/x-python",
   "name": "python",
   "nbconvert_exporter": "python",
   "pygments_lexer": "ipython3",
   "version": "3.12.4"
  }
 },
 "nbformat": 4,
 "nbformat_minor": 2
}
