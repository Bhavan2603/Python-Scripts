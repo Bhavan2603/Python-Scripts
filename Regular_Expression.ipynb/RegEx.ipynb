{
 "cells": [
  {
   "cell_type": "markdown",
   "metadata": {},
   "source": [
    "# **Regular Expression**\n",
    "A RegEx is a powerful tool for matching text, based on a pre-defined pattern. It can detect the presence or absence of a text by matching it with a particular pattern, and also can split a pattern into one or more sub-patterns. The Python standard library provides a re module for regular expressions."
   ]
  },
  {
   "cell_type": "code",
   "execution_count": 2,
   "metadata": {},
   "outputs": [],
   "source": [
    "import re\n",
    "\n",
    "import warnings\n",
    "warnings.filterwarnings(\"ignore\")"
   ]
  },
  {
   "cell_type": "code",
   "execution_count": 3,
   "metadata": {},
   "outputs": [
    {
     "name": "stdout",
     "output_type": "stream",
     "text": [
      "<re.Match object; span=(36, 42), match='portal'>\n",
      "portal\n",
      "Start Index: 36\n",
      "End Index: 42\n"
     ]
    }
   ],
   "source": [
    "match = re.search(r'portal', 'GeeksforGeeks: A computer science \\ portal for geeks')\n",
    "print(match)\n",
    "print(match.group())\n",
    "\n",
    "print('Start Index:', match.start())\n",
    "print('End Index:', match.end())"
   ]
  },
  {
   "cell_type": "code",
   "execution_count": 4,
   "metadata": {},
   "outputs": [
    {
     "name": "stdout",
     "output_type": "stream",
     "text": [
      "<re.Match object; span=(47, 52), match='geeks'>\n",
      "geeks\n"
     ]
    }
   ],
   "source": [
    "match = re.search(r'geeks', 'GeeksforGeeks: A computer science \\ portal for geeks')\n",
    "print(match)\n",
    "print(match.group())"
   ]
  },
  {
   "cell_type": "markdown",
   "metadata": {},
   "source": [
    "# Why RegEx?                       \n",
    "- Data Mining: Regular Expression is the best tool for data mining. It efficiently identigies a text in a heap of text by checking a pre=defined pattern.\n",
    "- Data Validation: Regular Expression can prefectly validate data. It can include a wide array of validation processes by defining different sets of patterns."
   ]
  },
  {
   "cell_type": "markdown",
   "metadata": {},
   "source": [
    "## Basic RegEx\n",
    "- Character Classes\n",
    "- Rangers\n",
    "- Negation\n",
    "- Shortcuts\n",
    "- Beginning and End of String\n",
    "- Any Character"
   ]
  },
  {
   "cell_type": "code",
   "execution_count": 5,
   "metadata": {},
   "outputs": [
    {
     "name": "stdout",
     "output_type": "stream",
     "text": [
      "['Geeks', 'Geeks', 'geeks']\n"
     ]
    }
   ],
   "source": [
    "print(re.findall(r'[Gg]eeks', 'GeeksforGeeks: \\ A computer science portal for geeks'))"
   ]
  },
  {
   "cell_type": "markdown",
   "metadata": {},
   "source": [
    "## **Escape Sequences**"
   ]
  },
  {
   "cell_type": "markdown",
   "metadata": {},
   "source": [
    "- \\A: Matches if the string begins with the given character.\n",
    "- \\b: Matches if the word begins or ends with the given character.\n",
    "- \\B: It is the opposite of the \\b i.e., the string should nor start or end with the given regex.\n",
    "- \\d: Matches any decimal digit, this is quivalent to the set class [0-9]\n",
    "- \\D: Matches any non-digit character, this is equivalent to the set class [^0-9]\n",
    "- \\s: Matches any whitespace character.\n",
    "- \\S: Matches any non-whitespace character.\n",
    "- \\w: Matches any alphanumeric character.\n",
    "- \\W: Matches any non-alphanumeric character.\n",
    "- \\Z: Matches if the string ends with the given regex."
   ]
  },
  {
   "cell_type": "code",
   "execution_count": 6,
   "metadata": {},
   "outputs": [
    {
     "name": "stdout",
     "output_type": "stream",
     "text": [
      "<re.Match object; span=(0, 5), match='Hello'>\n",
      "True\n"
     ]
    }
   ],
   "source": [
    "text = \"Hello, world!\"\n",
    "pattern = r'\\AHello'\n",
    "\n",
    "match = re.match(pattern, text)\n",
    "print(match)\n",
    "print(bool(match))"
   ]
  },
  {
   "cell_type": "code",
   "execution_count": 7,
   "metadata": {},
   "outputs": [
    {
     "name": "stdout",
     "output_type": "stream",
     "text": [
      "['Hello', 'Hello']\n"
     ]
    }
   ],
   "source": [
    "text = \"Hello, world! Hello again.\"\n",
    "pattern = r'\\bHello\\b'\n",
    "\n",
    "matches = re.findall(pattern, text)\n",
    "print(matches)"
   ]
  },
  {
   "cell_type": "code",
   "execution_count": 8,
   "metadata": {},
   "outputs": [
    {
     "name": "stdout",
     "output_type": "stream",
     "text": [
      "['Hello']\n"
     ]
    }
   ],
   "source": [
    "text = \"Hello, world!Shell\"\n",
    "pattern = r'Hello\\b'\n",
    "\n",
    "matches = re.findall(pattern, text, re.IGNORECASE)\n",
    "print(matches) "
   ]
  },
  {
   "cell_type": "code",
   "execution_count": 9,
   "metadata": {},
   "outputs": [
    {
     "name": "stdout",
     "output_type": "stream",
     "text": [
      "['Hello']\n"
     ]
    }
   ],
   "source": [
    "text = \"Hello, world!Shell\"\n",
    "pattern = r'\\bHello'\n",
    "\n",
    "matches = re.findall(pattern, text, re.IGNORECASE)\n",
    "print(matches) "
   ]
  },
  {
   "cell_type": "code",
   "execution_count": 10,
   "metadata": {},
   "outputs": [
    {
     "name": "stdout",
     "output_type": "stream",
     "text": [
      "['2', '5', '0']\n"
     ]
    }
   ],
   "source": [
    "text = 'There are 250 apples.'\n",
    "pattern = r'\\d'\n",
    "\n",
    "matches = re.findall(pattern, text)\n",
    "print(matches)"
   ]
  },
  {
   "cell_type": "code",
   "execution_count": 11,
   "metadata": {},
   "outputs": [
    {
     "name": "stdout",
     "output_type": "stream",
     "text": [
      "['T', 'h', 'e', 'r', 'e', ' ', 'a', 'r', 'e', ' ', ' ', 'a', 'p', 'p', 'l', 'e', 's', '.']\n"
     ]
    }
   ],
   "source": [
    "text = 'There are 250 apples.'\n",
    "pattern = r'\\D'\n",
    "\n",
    "matches = re.findall(pattern, text)\n",
    "print(matches)"
   ]
  },
  {
   "cell_type": "code",
   "execution_count": 12,
   "metadata": {},
   "outputs": [
    {
     "name": "stdout",
     "output_type": "stream",
     "text": [
      "True\n"
     ]
    }
   ],
   "source": [
    "text = \"Hello, world!\"\n",
    "pattern = r'\\s'\n",
    "\n",
    "matches = re.findall(pattern, text)\n",
    "print(bool(matches))"
   ]
  },
  {
   "cell_type": "code",
   "execution_count": 13,
   "metadata": {},
   "outputs": [
    {
     "name": "stdout",
     "output_type": "stream",
     "text": [
      "['H', 'e', 'l', 'l', 'o', ',', 'w', 'o', 'r', 'l', 'd', '!']\n"
     ]
    }
   ],
   "source": [
    "text = \"Hello, world!\"\n",
    "pattern = r'\\S'\n",
    "\n",
    "matches = re.findall(pattern, text)\n",
    "print(matches)"
   ]
  },
  {
   "cell_type": "code",
   "execution_count": 14,
   "metadata": {},
   "outputs": [
    {
     "name": "stdout",
     "output_type": "stream",
     "text": [
      "H\n",
      "e\n",
      "l\n",
      "l\n",
      "o\n",
      "w\n",
      "o\n",
      "r\n",
      "l\n",
      "d\n",
      "1\n",
      "2\n",
      "3\n"
     ]
    }
   ],
   "source": [
    "text = \"Hello, world! 123\"\n",
    "pattern = r'\\w'\n",
    "\n",
    "matches = re.findall(pattern, text)\n",
    "for i in matches:\n",
    "    print(','.join(i))"
   ]
  },
  {
   "cell_type": "code",
   "execution_count": 15,
   "metadata": {},
   "outputs": [
    {
     "name": "stdout",
     "output_type": "stream",
     "text": [
      "['#', ',', ' ', '!']\n"
     ]
    }
   ],
   "source": [
    "text = \"#Hello, world!\"\n",
    "pattern = r'\\W'\n",
    "\n",
    "matches = re.findall(pattern, text)\n",
    "print(matches)"
   ]
  },
  {
   "cell_type": "code",
   "execution_count": 16,
   "metadata": {},
   "outputs": [
    {
     "name": "stdout",
     "output_type": "stream",
     "text": [
      "efficiently: ['efficiently']\n"
     ]
    }
   ],
   "source": [
    "print('efficiently:', re.findall(r'\\befficiently\\b', 'Regular Expression is the best tool for data mining. It efficiently identigies a text in a heap of text by checking a pre=defined pattern'))"
   ]
  },
  {
   "cell_type": "code",
   "execution_count": 17,
   "metadata": {},
   "outputs": [
    {
     "name": "stdout",
     "output_type": "stream",
     "text": [
      "GeeksforGeeks: <re.Match object; span=(8, 13), match='Geeks'>\n"
     ]
    }
   ],
   "source": [
    "print('GeeksforGeeks:', re.search(r'\\BGeeks\\b', 'GeeksforGeeks'))"
   ]
  },
  {
   "cell_type": "code",
   "execution_count": 18,
   "metadata": {},
   "outputs": [
    {
     "name": "stdout",
     "output_type": "stream",
     "text": [
      "Beg. of String: None\n",
      "Beg. of Sting: <re.Match object; span=(0, 4), match='Geek'>\n",
      "End of String: <re.Match object; span=(31, 36), match='Geeks'>\n"
     ]
    }
   ],
   "source": [
    "# Beginning of String\n",
    "match = re.search(r'^month', 'Campus Geek of the month')\n",
    "print('Beg. of String:', match)\n",
    "\n",
    "match = re.search(r'^Geek', 'Geek of the month')\n",
    "print('Beg. of Sting:', match)\n",
    "\n",
    "# End of String\n",
    "match = re.search(r'Geeks$', 'Compute science portal-GeeksforGeeks')\n",
    "print('End of String:', match)"
   ]
  },
  {
   "cell_type": "code",
   "execution_count": 19,
   "metadata": {},
   "outputs": [
    {
     "name": "stdout",
     "output_type": "stream",
     "text": [
      "Any Character <re.Match object; span=(8, 15), match='science'>\n"
     ]
    }
   ],
   "source": [
    "print('Any Character', re.search(r's.i.nc.', 'Compute science portal-GeeksforGeeks'))"
   ]
  },
  {
   "cell_type": "code",
   "execution_count": 20,
   "metadata": {},
   "outputs": [
    {
     "name": "stdout",
     "output_type": "stream",
     "text": [
      "03\n",
      "{'dd': '26', 'mm': '03', 'yyyy': '2020'}\n"
     ]
    }
   ],
   "source": [
    "match = re.search(r'(?P<dd>[\\d]{2})-(?P<mm>[\\d]{2})-(?P<yyyy>[\\d]{4})', '26-03-2020')\n",
    "print(match.group('mm'))\n",
    "print(match.groupdict())"
   ]
  },
  {
   "cell_type": "code",
   "execution_count": 21,
   "metadata": {},
   "outputs": [
    {
     "name": "stdout",
     "output_type": "stream",
     "text": [
      "26-03-2020\n"
     ]
    }
   ],
   "source": [
    "match = re.search(r'\\b\\d{2}-\\d{2}-\\d{4}\\b', '26-03-2020')\n",
    "if match:\n",
    "    print(match.group())"
   ]
  },
  {
   "cell_type": "code",
   "execution_count": 67,
   "metadata": {},
   "outputs": [
    {
     "name": "stdout",
     "output_type": "stream",
     "text": [
      "['201305']\n"
     ]
    }
   ],
   "source": [
    "print(re.findall(r'[\\d]{6}','5th Floor, A-118, \\ Sector-136, Noida, Uttar Pradesh - 201305'))"
   ]
  },
  {
   "cell_type": "code",
   "execution_count": 22,
   "metadata": {},
   "outputs": [
    {
     "name": "stdout",
     "output_type": "stream",
     "text": [
      "jack@somehost.com\n"
     ]
    }
   ],
   "source": [
    "s = \"jack email is jack@somehost.com\"\n",
    "match = re.search(r'[\\w.-]+@[\\w.-]+', s)\n",
    "# The above RE will match a email address\n",
    "if match:\n",
    "    print(match.group())\n",
    "else:\n",
    "    print(\"match not found\")"
   ]
  },
  {
   "cell_type": "code",
   "execution_count": 23,
   "metadata": {},
   "outputs": [
    {
     "name": "stdout",
     "output_type": "stream",
     "text": [
      "jack@somehost.com\n",
      "jack\n",
      "somehost.com\n"
     ]
    }
   ],
   "source": [
    "s = \"jack email is jack@somehost.com\"\n",
    "match = re.search('([\\w.-]+)@([\\w.-]+)', s)\n",
    "if match:\n",
    " print(match.group())   # tim@somehost.com (the whole match)\n",
    " print(match.group(1))  # tim (the username, group 1)\n",
    " print(match.group(2))  # somehost (the host, group 2)"
   ]
  },
  {
   "cell_type": "markdown",
   "metadata": {},
   "source": [
    "### **Metacharacters**\n",
    "RE also include metacharacters that have special meanings and functions. Some common metacharacters are:\n",
    "- .(dot): Matches any character except newline.\n",
    "- ^(caret): Matches the start of the line.\n",
    "- $(dollar): Matches the end of the line.\n",
    "- '*'(asterisk): Matches zero or more occurences of the preceeding character or group.\n",
    "- '+'(plus): Matches one or more occurences of the preceeding character or group.\n",
    "- '?'(question mark): Matches zero one occurences of the preceeding character or group. \n",
    "- '\\'(backslash): Escapes a metacharacter, treating it as a literal character. "
   ]
  },
  {
   "cell_type": "code",
   "execution_count": 24,
   "metadata": {},
   "outputs": [
    {
     "name": "stdout",
     "output_type": "stream",
     "text": [
      "hello\n",
      "Any Character <re.Match object; span=(8, 15), match='science'>\n"
     ]
    }
   ],
   "source": [
    "# Matches any character except newline\n",
    "text = \"hello world\"\n",
    "pattern = r\"h.l.o\"\n",
    "match = re.search(pattern, text)\n",
    "print(match.group())\n",
    "\n",
    "print('Any Character', re.search(r's.i.nc.', 'Compute science portal-GeeksforGeeks'))"
   ]
  },
  {
   "cell_type": "code",
   "execution_count": 25,
   "metadata": {},
   "outputs": [
    {
     "name": "stdout",
     "output_type": "stream",
     "text": [
      "hello\n",
      "Beg. of String: None\n",
      "Beg. fo String: <re.Match object; span=(0, 4), match='Geek'>\n"
     ]
    }
   ],
   "source": [
    "# Matches the start of a line\n",
    "text = \"hello world\"\n",
    "pattern = r\"^hello\"\n",
    "match = re.search(pattern, text)\n",
    "print(match.group())\n",
    "\n",
    "# Beginning of String\n",
    "match = re.search(r'^month', 'Campus Geek of the month')\n",
    "print('Beg. of String:', match)\n",
    "\n",
    "match = re.search(r'^Geek', 'Geek of the month')\n",
    "print('Beg. fo String:', match)"
   ]
  },
  {
   "cell_type": "code",
   "execution_count": 26,
   "metadata": {},
   "outputs": [
    {
     "name": "stdout",
     "output_type": "stream",
     "text": [
      "world\n",
      "End of String: <re.Match object; span=(31, 36), match='Geeks'>\n"
     ]
    }
   ],
   "source": [
    "# Matches the end of the line\n",
    "text = \"heloo world\"\n",
    "pattern = r\"world$\"\n",
    "match = re.search(pattern, text)\n",
    "print(match.group())\n",
    "\n",
    "# End of String\n",
    "match = re.search(r'Geeks$', 'Compute science portal-GeeksforGeeks')\n",
    "print('End of String:', match)"
   ]
  },
  {
   "cell_type": "code",
   "execution_count": 30,
   "metadata": {},
   "outputs": [
    {
     "name": "stdout",
     "output_type": "stream",
     "text": [
      "heeello\n"
     ]
    }
   ],
   "source": [
    "# Matches zero or more occurences of the preceeding character or group\n",
    "text = \"heeello\"\n",
    "pattern = r\"he*llo\"\n",
    "match = re.search(pattern, text)\n",
    "print(match.group())"
   ]
  },
  {
   "cell_type": "code",
   "execution_count": 31,
   "metadata": {},
   "outputs": [
    {
     "name": "stdout",
     "output_type": "stream",
     "text": [
      "heeeello\n"
     ]
    }
   ],
   "source": [
    "# Matches one or more occurences of the preceeding character or group\n",
    "text = \"heeeello\"\n",
    "pattern = r\"he+llo\"\n",
    "match = re.search(pattern, text)\n",
    "print(match.group())"
   ]
  },
  {
   "cell_type": "code",
   "execution_count": 33,
   "metadata": {},
   "outputs": [
    {
     "name": "stdout",
     "output_type": "stream",
     "text": [
      "<re.Match object; span=(0, 5), match='hello'>\n"
     ]
    }
   ],
   "source": [
    "# Matches zero or one occurences of the preceeding character or group\n",
    "text = \"hello\"\n",
    "pattern = r\"he?llo\"\n",
    "match = re.search(pattern, text)\n",
    "print(match)"
   ]
  },
  {
   "cell_type": "code",
   "execution_count": 34,
   "metadata": {},
   "outputs": [
    {
     "name": "stdout",
     "output_type": "stream",
     "text": [
      "$5\n"
     ]
    }
   ],
   "source": [
    "# Escapes a metacharacter, treating it as a literal character\n",
    "text = \"Do you have $5?\"\n",
    "pattern = r\"\\$5\"\n",
    "match = re.search(pattern, text)\n",
    "print(match.group())"
   ]
  },
  {
   "cell_type": "markdown",
   "metadata": {},
   "source": [
    "### **Character Classes**\n",
    "Character classes allow you to define a set of characters that can match aat a certain position in a string. Some common character classes include:\n",
    "- [abc]: Matches any character a,b, or c.\n",
    "- [a-z]: Matches any lowercase letter.\n",
    "- [A-Z]: Matches any uppercase letter.\n",
    "- [0-9]: Matches any digit.\n",
    "- [^abc]: Matches any character except a,b, orc."
   ]
  },
  {
   "cell_type": "code",
   "execution_count": 36,
   "metadata": {},
   "outputs": [
    {
     "name": "stdout",
     "output_type": "stream",
     "text": [
      "['a', 'b', 'a', 'a', 'a', 'c']\n"
     ]
    }
   ],
   "source": [
    "text = \"apple banana cherry\"\n",
    "pattern = r\"[abc]\"\n",
    "matches = re.findall(pattern, text)\n",
    "print(matches)"
   ]
  },
  {
   "cell_type": "code",
   "execution_count": 37,
   "metadata": {},
   "outputs": [
    {
     "name": "stdout",
     "output_type": "stream",
     "text": [
      "['e', 'l', 'l', 'o', 'o', 'r', 'l', 'd']\n"
     ]
    }
   ],
   "source": [
    "text = \"Hello World\"\n",
    "pattern = r\"[a-z]\"\n",
    "matches = re.findall(pattern, text)\n",
    "print(matches)"
   ]
  },
  {
   "cell_type": "code",
   "execution_count": 40,
   "metadata": {},
   "outputs": [
    {
     "name": "stdout",
     "output_type": "stream",
     "text": [
      "['H', 'W']\n"
     ]
    }
   ],
   "source": [
    "text = \"Hello World\"\n",
    "pattern = r\"[A-Z]\"\n",
    "matches = re.findall(pattern, text)\n",
    "print(matches)"
   ]
  },
  {
   "cell_type": "code",
   "execution_count": 42,
   "metadata": {},
   "outputs": [
    {
     "name": "stdout",
     "output_type": "stream",
     "text": [
      "['1', '2', '3', '4', '5']\n"
     ]
    }
   ],
   "source": [
    "text = \"Order number: 12345\"\n",
    "pattern = r\"[0-9]\"\n",
    "matches = re.findall(pattern, text)\n",
    "print(matches)"
   ]
  },
  {
   "cell_type": "code",
   "execution_count": 43,
   "metadata": {},
   "outputs": [
    {
     "data": {
      "text/plain": [
       "['123']"
      ]
     },
     "execution_count": 43,
     "metadata": {},
     "output_type": "execute_result"
    }
   ],
   "source": [
    "re.findall(r'[0-9]+', 'abc123xyz')"
   ]
  },
  {
   "cell_type": "code",
   "execution_count": 44,
   "metadata": {},
   "outputs": [
    {
     "name": "stdout",
     "output_type": "stream",
     "text": [
      "[' ', 'b', 'n', 'n', ' ', 'c', 'h', 'r', 'r', 'y']\n"
     ]
    }
   ],
   "source": [
    "# Matches any character except a, b or c\n",
    "text = \"apple banana cherry\"\n",
    "pattern = r\"[^apple]\"\n",
    "matches = re.findall(pattern, text)\n",
    "print(matches)"
   ]
  },
  {
   "cell_type": "markdown",
   "metadata": {},
   "source": [
    "### **Quantifiers**\n",
    "Quantifiers specify how many times a character or group can occur. Some commonly used quantifiers are:\n",
    "- {n}: Matches exactly n occurences of the preceeding character or group.\n",
    "- {n,}: Matches n or more occurences of the preceeding character or group.\n",
    "- {n,m}: Matches between n and m occurences of the preceeding character or group.\n",
    "- ?: Equivalent to {0,1}, matches zero or one occurences."
   ]
  },
  {
   "cell_type": "code",
   "execution_count": 45,
   "metadata": {},
   "outputs": [
    {
     "name": "stdout",
     "output_type": "stream",
     "text": [
      "ooo\n"
     ]
    }
   ],
   "source": [
    "text = \"hellooo\"\n",
    "pattern = r\"o{3}\"\n",
    "match = re.search(pattern, text)\n",
    "print(match.group())"
   ]
  },
  {
   "cell_type": "code",
   "execution_count": 46,
   "metadata": {},
   "outputs": [
    {
     "name": "stdout",
     "output_type": "stream",
     "text": [
      "oooooo\n"
     ]
    }
   ],
   "source": [
    "text = \"helloooooo\"\n",
    "pattern = r\"o{3,}\"\n",
    "match = re.search(pattern, text)\n",
    "print(match.group())"
   ]
  },
  {
   "cell_type": "code",
   "execution_count": 47,
   "metadata": {},
   "outputs": [
    {
     "name": "stdout",
     "output_type": "stream",
     "text": [
      "ooooo\n"
     ]
    }
   ],
   "source": [
    "text = \"helloooooo\"\n",
    "pattern = r\"o{3,5}\"\n",
    "match = re.search(pattern, text)\n",
    "print(match.group())"
   ]
  },
  {
   "cell_type": "code",
   "execution_count": 48,
   "metadata": {},
   "outputs": [
    {
     "name": "stdout",
     "output_type": "stream",
     "text": [
      "['color', 'colour']\n"
     ]
    }
   ],
   "source": [
    "text = \"color or colour\"\n",
    "pattern = r\"colou?r\"\n",
    "matches = re.findall(pattern, text)\n",
    "print(matches)"
   ]
  },
  {
   "cell_type": "markdown",
   "metadata": {},
   "source": [
    "### **Anchors**\n",
    "Anchors are used to specify the position of a match within a string. The most commonly used anchors are:\n",
    "- ^ (caret): Matches the start of a line or string.\n",
    "- $ (dollar): Matches the end of a line or string.\n",
    "- \\b: Matches a word boundary."
   ]
  },
  {
   "cell_type": "code",
   "execution_count": 50,
   "metadata": {},
   "outputs": [
    {
     "name": "stdout",
     "output_type": "stream",
     "text": [
      "['2024']\n"
     ]
    }
   ],
   "source": [
    "pattern = r\"\\d+\"\n",
    "string = \"The year is 2024\"\n",
    "match = re.findall(pattern, string)\n",
    "print(match)"
   ]
  },
  {
   "cell_type": "markdown",
   "metadata": {},
   "source": [
    "- re.compile: Function used to compile a regular expression pattern into a pattern object. This pattern object can then be used for matching operations."
   ]
  },
  {
   "cell_type": "code",
   "execution_count": 51,
   "metadata": {},
   "outputs": [
    {
     "name": "stdout",
     "output_type": "stream",
     "text": [
      "['e', 'b', 'o', 'n', 'f', 'o', 'j', 'm', 'o', 'e', 'h', 'e', 'l', 'a', 'd', 'o', 'g']\n"
     ]
    }
   ],
   "source": [
    "p = re.compile('[a-o]')\n",
    "# findall() searches for the RE\n",
    "# and return a list upon finding\n",
    "print(p.findall(\"Aye, brown fox jumps over the lazy dog\"))"
   ]
  },
  {
   "cell_type": "code",
   "execution_count": 52,
   "metadata": {},
   "outputs": [
    {
     "name": "stdout",
     "output_type": "stream",
     "text": [
      "['11', '4', '1996']\n"
     ]
    }
   ],
   "source": [
    "p = re.compile('\\d+')\n",
    "print(p.findall(\"I went to him at 11 A.M. on 4th July 1996\"))"
   ]
  },
  {
   "cell_type": "code",
   "execution_count": 53,
   "metadata": {},
   "outputs": [
    {
     "name": "stdout",
     "output_type": "stream",
     "text": [
      "['I', 'went', 'to', 'him', 'at', '11', 'A', 'M', 'he', 'said', 'in', 'some_language']\n"
     ]
    }
   ],
   "source": [
    "p = re.compile('\\w+')\n",
    "print(p.findall(\"I went to him at 11 A.M, he \\said *** in some_language.\"))"
   ]
  },
  {
   "cell_type": "code",
   "execution_count": 54,
   "metadata": {},
   "outputs": [
    {
     "name": "stdout",
     "output_type": "stream",
     "text": [
      "['support@example.com']\n"
     ]
    }
   ],
   "source": [
    "# Define the regex pattern for matching an email address\n",
    "email_pattern = r'[a-zA-Z0-9._%+-]+@[a-zA-Z0-9.-]+\\.[a-zA-Z]{2,}'\n",
    "email_pattern1 = r'[\\w.-]+@[\\w.-]+'\n",
    "\n",
    "#Example usuage\n",
    "test_string = \"Please contact us at support@example.com for further assistance.\"\n",
    "matches = re.findall(email_pattern1, test_string)\n",
    "\n",
    "print(matches)"
   ]
  },
  {
   "cell_type": "markdown",
   "metadata": {},
   "source": [
    "### **The Split() Function**\n",
    "The split() function is a built-in method that allows you to split a string into a list of substrings based on a specified delimiter. It is nto specific to RE."
   ]
  },
  {
   "cell_type": "code",
   "execution_count": 5,
   "metadata": {},
   "outputs": [
    {
     "name": "stdout",
     "output_type": "stream",
     "text": [
      "['The', 'rain', 'in', 'Hyderabad']\n"
     ]
    }
   ],
   "source": [
    "text = \"The rain in Hyderabad\"\n",
    "x = re.split(r\"\\s\", text)\n",
    "print(x)"
   ]
  },
  {
   "cell_type": "code",
   "execution_count": 56,
   "metadata": {},
   "outputs": [
    {
     "name": "stdout",
     "output_type": "stream",
     "text": [
      "['Twelve:', ' Eighty nine:', '.']\n"
     ]
    }
   ],
   "source": [
    "string = 'Twelve:12 Eighty nine:89.'\n",
    "pattern = '\\d+'\n",
    "result = re.split(pattern, string)\n",
    "print(result)"
   ]
  },
  {
   "cell_type": "code",
   "execution_count": 57,
   "metadata": {},
   "outputs": [
    {
     "name": "stdout",
     "output_type": "stream",
     "text": [
      "Regular Expressions can include literal characters\n"
     ]
    }
   ],
   "source": [
    "z = \"Regular Expressions can include literal characters\"\n",
    "x = re.split(r\"\\s\", z)\n",
    "print(z)"
   ]
  },
  {
   "cell_type": "markdown",
   "metadata": {},
   "source": [
    "### **re.sub()**\n",
    "It is used to search for a pattern in a string and replace it with a specified replacement string it performs."
   ]
  },
  {
   "cell_type": "code",
   "execution_count": 58,
   "metadata": {},
   "outputs": [
    {
     "name": "stdout",
     "output_type": "stream",
     "text": [
      "The9king9in9the9North9claims9is9worthy\n"
     ]
    }
   ],
   "source": [
    "text = \"The king in the North claims is worthy\"\n",
    "x = re.sub(r\"\\s\", \"9\", text)\n",
    "print(x)"
   ]
  },
  {
   "cell_type": "code",
   "execution_count": 61,
   "metadata": {},
   "outputs": [
    {
     "name": "stdout",
     "output_type": "stream",
     "text": [
      "1111222233334444\n"
     ]
    }
   ],
   "source": [
    "print(re.sub(r'([\\d]{4})-([\\d]{4})-([\\d]{4})-([\\d]{4})',r'\\1\\2\\3\\4', '1111-2222-3333-4444'))"
   ]
  },
  {
   "cell_type": "code",
   "execution_count": 62,
   "metadata": {},
   "outputs": [
    {
     "name": "stdout",
     "output_type": "stream",
     "text": [
      "The9king9in the North claims is worthy\n"
     ]
    }
   ],
   "source": [
    "# Repalce first 2 occurences;\n",
    "text = \"The king in the North claims is worthy\"\n",
    "x = re.sub(\"\\s\", \"9\", text, 2)\n",
    "print(x)"
   ]
  },
  {
   "cell_type": "code",
   "execution_count": 63,
   "metadata": {},
   "outputs": [
    {
     "name": "stdout",
     "output_type": "stream",
     "text": [
      "Phone Num:  2024-959-559 \n",
      "Phone Num:  2024959559\n"
     ]
    }
   ],
   "source": [
    "phone = \"2024-959-559 # This is phone number\"\n",
    "# Delete Python-style comments\n",
    "num = re.sub(r'#.*$', \"\", phone)\n",
    "print(\"Phone Num: \", num)\n",
    "# Remove anything other than digits\n",
    "num = re.sub(r'\\D', \"\", phone)\n",
    "print(\"Phone Num: \", num)"
   ]
  },
  {
   "cell_type": "markdown",
   "metadata": {},
   "source": [
    "### **re-subn()**\n",
    "It is similar to sub() in all ways, except in its way of providing output. It returns a tuple with a count of total of replacement and new string rather than just the string."
   ]
  },
  {
   "cell_type": "code",
   "execution_count": 64,
   "metadata": {},
   "outputs": [
    {
     "name": "stdout",
     "output_type": "stream",
     "text": [
      "('S~*ject has Uber booked already', 1)\n",
      "('S~*ject has ~*er booked already', 2)\n"
     ]
    }
   ],
   "source": [
    "print(re.subn('ub', '~*', 'Subject has Uber booked already'))\n",
    "t = re.subn('UB', '~*', 'Subject has Uber booked already', flags = re.IGNORECASE)\n",
    "print(t)"
   ]
  },
  {
   "cell_type": "code",
   "execution_count": 6,
   "metadata": {},
   "outputs": [
    {
     "name": "stdout",
     "output_type": "stream",
     "text": [
      "('abc12\\\\de23f456', 5)\n"
     ]
    }
   ],
   "source": [
    "# Multiline string\n",
    "string = 'abc 12\\ de 23 \\n f45 6'\n",
    "# matches all whitespaces characters\n",
    "pattern = '\\s+'\n",
    "# empty string\n",
    "replace = ''\n",
    "new_string = re.subn(pattern, replace, string)\n",
    "print(new_string)"
   ]
  },
  {
   "cell_type": "markdown",
   "metadata": {},
   "source": [
    "### **re-escape**\n",
    "It returns the string with all non-alphanumerics backslashed, this is useful if you want to match an arbitary literal string that may have RE metacharacters in it."
   ]
  },
  {
   "cell_type": "code",
   "execution_count": 7,
   "metadata": {},
   "outputs": [
    {
     "name": "stdout",
     "output_type": "stream",
     "text": [
      "This\\ is\\ Awesome\\ 1\\ AM\n"
     ]
    }
   ],
   "source": [
    "print(re.escape(\"This is Awesome 1 AM\"))"
   ]
  },
  {
   "cell_type": "code",
   "execution_count": 8,
   "metadata": {},
   "outputs": [
    {
     "name": "stdout",
     "output_type": "stream",
     "text": [
      "I\\ asked\\ what\\ is\\ this\\ \\[a\\-9\\],\\ he\\ said\\ \\\t\\ \\^WoW\n"
     ]
    }
   ],
   "source": [
    "print(re.escape(\"I asked what is this [a-9], he said \\t ^WoW\"))"
   ]
  },
  {
   "cell_type": "code",
   "execution_count": 9,
   "metadata": {},
   "outputs": [
    {
     "name": "stdout",
     "output_type": "stream",
     "text": [
      "Pattern: Price:\\ \\$100\\.00\n",
      "Match found: Price: $100.00\n"
     ]
    }
   ],
   "source": [
    "pattern = re.escape(\"Price: $100.00\")\n",
    "text = \"The total cost is Price: $100.00.\"\n",
    "\n",
    "match = re.search(pattern, text)\n",
    "\n",
    "print(\"Pattern:\", pattern)\n",
    "if match:\n",
    "    print(\"Match found:\", match.group())\n",
    "else:\n",
    "    print(\"No match found\")"
   ]
  },
  {
   "cell_type": "markdown",
   "metadata": {},
   "source": [
    "### **Extracting headlines from text**"
   ]
  },
  {
   "cell_type": "code",
   "execution_count": 10,
   "metadata": {},
   "outputs": [
    {
     "data": {
      "text/plain": [
       "['Note 1 - Overview', 'Note 2 - Summary of Significant Accounting Policies']"
      ]
     },
     "execution_count": 10,
     "metadata": {},
     "output_type": "execute_result"
    }
   ],
   "source": [
    "text = ''' \n",
    "Note 1 - Overview\n",
    "Tesla, Inc. (“Tesla”, the “Company”, “we”, “us” or “our”) was incorporated in the State \n",
    "products. Our Chief Executive Officer, as the chief operating decision maker (“CODM”), o\n",
    "Beginning in the first quarter of 2021, there has been a trend in many parts of the worl\n",
    "against COVID-19, as well as an easing of restrictions on social, business, travel and g\n",
    "rates and regulations continue to fluctuate in various regions and there are ongoing glo\n",
    "and increases in costs for logistics and supply chains, such as increased port congestio\n",
    "supply. We have also previously been affected by temporary manufacturing closures, emplo\n",
    "administrative activities supporting our product deliveries and deployments.\n",
    "Note 2 - Summary of Significant Accounting Policies\n",
    "Unaudited Interim Financial Statements\n",
    "The consolidated balance sheet as of September 30, 2021, the consolidated statements of \n",
    "comprehensive income, the consolidated statements of redeemable noncontrolling interests\n",
    "30, 2021 and 2020 and the consolidated statements of cash flows for the nine months ende\n",
    "disclosed in the accompanying notes, are unaudited. The consolidated balance sheet as of\n",
    "consolidated financial statements as of that date. The interim consolidated financial st\n",
    "conjunction with the annual consolidated financial statements and the accompanying notes\n",
    "ended December 31, 2020.\n",
    "'''\n",
    "\n",
    "pattern = \"Note \\d - [^\\n]+\"\n",
    "re.findall(pattern, text)"
   ]
  },
  {
   "cell_type": "code",
   "execution_count": 11,
   "metadata": {},
   "outputs": [
    {
     "data": {
      "text/plain": [
       "['1', '2021', '19', '2', '30', '2021', '30', '2021', '2020', '31', '2020']"
      ]
     },
     "execution_count": 11,
     "metadata": {},
     "output_type": "execute_result"
    }
   ],
   "source": [
    "pattern = r'\\d+'\n",
    "re.findall(pattern, text)"
   ]
  },
  {
   "cell_type": "code",
   "execution_count": 12,
   "metadata": {},
   "outputs": [
    {
     "data": {
      "text/plain": [
       "['September 30, 2021', 'December 31, 2020']"
      ]
     },
     "execution_count": 12,
     "metadata": {},
     "output_type": "execute_result"
    }
   ],
   "source": [
    "pattern = r'\\w+ \\d{2}, \\d{4}'\n",
    "re.findall(pattern, text, flags=re.IGNORECASE)"
   ]
  },
  {
   "cell_type": "code",
   "execution_count": 13,
   "metadata": {},
   "outputs": [
    {
     "name": "stdout",
     "output_type": "stream",
     "text": [
      "['2021', '2021', '2021', '2020', '2020']\n"
     ]
    }
   ],
   "source": [
    "pattern = r'[\\d]{4}'\n",
    "print(re.findall(pattern, text, flags=re.IGNORECASE))"
   ]
  },
  {
   "cell_type": "markdown",
   "metadata": {},
   "source": [
    "### **remove capital and small letters**"
   ]
  },
  {
   "cell_type": "code",
   "execution_count": 14,
   "metadata": {},
   "outputs": [
    {
     "data": {
      "text/plain": [
       "['FY2021 Q1', 'fy2022 Q4', 'FY2022 Q5']"
      ]
     },
     "execution_count": 14,
     "metadata": {},
     "output_type": "execute_result"
    }
   ],
   "source": [
    "text = '''The gross cost of operating lease vehicles in FY2021 Q1 was $4.85 billion.\n",
    "In previous quarter i.e. fy2022 Q4 was $3 billion. FY2022 Q5.\n",
    "'''\n",
    "pattern = \"FY\\d{4} Q[1-5]\"\n",
    "re.findall(pattern,text,flags=re.IGNORECASE)"
   ]
  },
  {
   "cell_type": "markdown",
   "metadata": {},
   "source": [
    "### **Extract phone numbers**"
   ]
  },
  {
   "cell_type": "code",
   "execution_count": 18,
   "metadata": {},
   "outputs": [
    {
     "name": "stdout",
     "output_type": "stream",
     "text": [
      "['12345678912']\n",
      "['(123)-567-8912,']\n"
     ]
    }
   ],
   "source": [
    "chat1 = 'codebasics: you ask lot of questions 12345678912,abcP@xyz.com'\n",
    "chat2 = 'codebasics: here it is: (123)-567-8912, abc_29@xyz.in'\n",
    "chat3 = 'codebasics: yes, phone: 12345678912 email: abc@xyz.com'\n",
    "\n",
    "pattern = '\\d{10,}'\n",
    "matches = re.findall(pattern,chat1)\n",
    "print(matches)\n",
    "\n",
    "pattern1 = r'\\(\\d{3}\\)-\\d{3}-\\d{4},'\n",
    "matches1 = re.findall(pattern1, chat2)\n",
    "print(matches1)"
   ]
  },
  {
   "cell_type": "code",
   "execution_count": 19,
   "metadata": {},
   "outputs": [
    {
     "data": {
      "text/plain": [
       "['codebasics: you ask lot of questions 12345678912,abcP@xyz.com',\n",
       " 'codebasics: here it is: (123)-567-8912, abc_29@xyz.in',\n",
       " 'codebasics: yes, phone: 12345678912 email: abc@xyz.com']"
      ]
     },
     "execution_count": 19,
     "metadata": {},
     "output_type": "execute_result"
    }
   ],
   "source": [
    "a = [chat1, chat2, chat3]\n",
    "a"
   ]
  },
  {
   "cell_type": "code",
   "execution_count": 20,
   "metadata": {},
   "outputs": [
    {
     "name": "stdout",
     "output_type": "stream",
     "text": [
      "['abcP@xyz.com']\n",
      "['abc_29@xyz.in']\n",
      "['abc@xyz.com']\n"
     ]
    }
   ],
   "source": [
    "pattern = r'[\\w.-]+@[\\w.-]+'\n",
    "\n",
    "for i in a:\n",
    "    print(re.findall(pattern,i))"
   ]
  },
  {
   "cell_type": "markdown",
   "metadata": {},
   "source": [
    "### **Create a Text File**"
   ]
  },
  {
   "cell_type": "code",
   "execution_count": 21,
   "metadata": {},
   "outputs": [],
   "source": [
    "# Create a text file with 10 lines of text\n",
    "lines = [\n",
    "    \"The quick brown fox jumps over the lazy dog.\",\n",
    "    \"Python is an amazing programming language.\",\n",
    "    \"Regular expressions are powerful tools.\",\n",
    "    \"I love coding in Python.\",\n",
    "    \"Data science is a growing field.\",\n",
    "    \"Machine learning and AI are the future.\",\n",
    "    \"Exploratory data analysis is crucial.\",\n",
    "    \"Visualization makes data easier to understand.\",\n",
    "    \"Python has a rich set of libraries.\",\n",
    "    \"Automation can save a lot of time.\"\n",
    "]\n",
    "\n",
    "# Writing the lines to the file\n",
    "with open(\"sample_text.txt\", 'w') as file:\n",
    "    for line in lines:\n",
    "        file.write(line + \"\\n\")"
   ]
  },
  {
   "cell_type": "code",
   "execution_count": 22,
   "metadata": {},
   "outputs": [
    {
     "name": "stdout",
     "output_type": "stream",
     "text": [
      "Found matches: ['The', 'Python', 'Regular', 'Python', 'Data', 'Machine', 'Exploratory', 'Visualization', 'Python', 'Automation']\n"
     ]
    }
   ],
   "source": [
    "# Read the file\n",
    "with open(\"sample_text.txt\", 'r') as file:\n",
    "    content = file.read()\n",
    "    \n",
    "# Define a RE pattern (eg. finding lines with word \"Python\")\n",
    "pattern = r\"[A-Z][a-z]+\"\n",
    "\n",
    "#Find all occurences in the text\n",
    "matches = re.findall(pattern, content)\n",
    "\n",
    "# Print the results\n",
    "print(\"Found matches:\", matches)"
   ]
  },
  {
   "cell_type": "markdown",
   "metadata": {},
   "source": [
    "### **Email Extraction**"
   ]
  },
  {
   "cell_type": "code",
   "execution_count": 32,
   "metadata": {},
   "outputs": [],
   "source": [
    "mixed_strings = [\n",
    "    \"test@example.com\",\n",
    "    \"(123)-456-7890\",\n",
    "    \"Start this string\",\n",
    "    \"This string ends with End\",\n",
    "    \"123456\",\n",
    "    \"Contains whitespace \",\n",
    "    \"pretest and posttest\",\n",
    "    \"@#!$%\",\n",
    "    \"5This does not start with a digit\",\n",
    "    \"NoWhitespaceHere\"\n",
    "]"
   ]
  },
  {
   "cell_type": "code",
   "execution_count": 27,
   "metadata": {},
   "outputs": [
    {
     "name": "stdout",
     "output_type": "stream",
     "text": [
      "Email addresses: ['test@example.com']\n"
     ]
    }
   ],
   "source": [
    "# Find all email addresses:\n",
    "email_pattern = r'[\\w.-]+@[\\w.-]+'\n",
    "\n",
    "emails = []\n",
    "for s in mixed_strings:\n",
    "    if re.search(email_pattern, s):\n",
    "        emails.append(s)\n",
    "        \n",
    "print(\"Email addresses:\", emails)"
   ]
  },
  {
   "cell_type": "code",
   "execution_count": 33,
   "metadata": {},
   "outputs": [
    {
     "name": "stdout",
     "output_type": "stream",
     "text": [
      "Phone Numbers: ['(123)-456-7890']\n"
     ]
    }
   ],
   "source": [
    "# Find all telephone number:\n",
    "phone_pattern = r'\\(\\d{3}\\)-\\d{3}-\\d{4}'\n",
    "\n",
    "phones = []\n",
    "for s in mixed_strings:\n",
    "    if re.search(phone_pattern, s):\n",
    "        phones.append(s)\n",
    "        \n",
    "print(\"Phone Numbers:\", phones)"
   ]
  },
  {
   "cell_type": "code",
   "execution_count": 34,
   "metadata": {},
   "outputs": [
    {
     "name": "stdout",
     "output_type": "stream",
     "text": [
      "Strings with only digits: ['123456']\n"
     ]
    }
   ],
   "source": [
    "# Extract all strings that end with a specific pattern (eg. \"End\")\n",
    "digits_pattern = r'^\\d+$'\n",
    "\n",
    "only_digits = []\n",
    "for s in mixed_strings:\n",
    "    if re.search(digits_pattern, s):\n",
    "        only_digits.append(s)\n",
    "        \n",
    "print(\"Strings with only digits:\", only_digits)"
   ]
  },
  {
   "cell_type": "code",
   "execution_count": 35,
   "metadata": {},
   "outputs": [
    {
     "name": "stdout",
     "output_type": "stream",
     "text": [
      "Strings containing whitespace: ['Start this string', 'This string ends with End', 'Contains whitespace ', 'pretest and posttest', '5This does not start with a digit']\n"
     ]
    }
   ],
   "source": [
    "# Identify strings that contain whitespace characters\n",
    "whitespace_pattern = r'\\s'\n",
    "\n",
    "contains_whitespace = []\n",
    "for s in mixed_strings:\n",
    "    if re.search(whitespace_pattern, s):\n",
    "        contains_whitespace.append(s)\n",
    "        \n",
    "print(\"Strings containing whitespace:\", contains_whitespace)\n",
    "        \n",
    "        "
   ]
  },
  {
   "cell_type": "code",
   "execution_count": 36,
   "metadata": {},
   "outputs": [
    {
     "name": "stdout",
     "output_type": "stream",
     "text": [
      "Strings with non-alphanumeric characters: ['@#!$%']\n"
     ]
    }
   ],
   "source": [
    "# Identify strings that do not have any alphanumeric characters\n",
    "non_alphanumeric_pattern = r'^\\W+$'\n",
    "\n",
    "non_alphanumeric = []\n",
    "for s in mixed_strings:\n",
    "    if re.search(non_alphanumeric_pattern, s):\n",
    "        non_alphanumeric.append(s)\n",
    "        \n",
    "print(\"Strings with non-alphanumeric characters:\", non_alphanumeric)        \n"
   ]
  },
  {
   "cell_type": "code",
   "execution_count": 38,
   "metadata": {},
   "outputs": [
    {
     "name": "stdout",
     "output_type": "stream",
     "text": [
      "Strings that do not start with a digit: ['test@example.com', '(123)-456-7890', 'Start this string', 'This string ends with End', 'Contains whitespace ', 'pretest and posttest', '@#!$%', 'NoWhitespaceHere']\n"
     ]
    }
   ],
   "source": [
    "# Find strings that do not start with a digit\n",
    "not_start_digit_pattern = r'^\\D'\n",
    "\n",
    "not_start_digit = []\n",
    "for s in mixed_strings:\n",
    "    if re.search(not_start_digit_pattern, s):\n",
    "        not_start_digit.append(s)\n",
    "        \n",
    "print(\"Strings that do not start with a digit:\", not_start_digit)\n",
    "        "
   ]
  },
  {
   "cell_type": "code",
   "execution_count": 10,
   "metadata": {},
   "outputs": [
    {
     "name": "stdout",
     "output_type": "stream",
     "text": [
      "['(123) 456-7890', '(233) 788-9001']\n"
     ]
    }
   ],
   "source": [
    "def phone_numbers(text):\n",
    "    pattern = r'\\(\\d{3}\\) \\d{3}-\\d{4}'\n",
    "    match = re.findall(pattern, text)\n",
    "    return match\n",
    "\n",
    "text = \"\"\"\n",
    "The phone numbers are:\n",
    "(123) 456-7890, 234 567-8910, (233) 788-9001, (221) 668 7882\n",
    "\"\"\"\n",
    "numbers = phone_numbers(text)\n",
    "print(numbers)"
   ]
  },
  {
   "cell_type": "code",
   "execution_count": null,
   "metadata": {},
   "outputs": [],
   "source": []
  }
 ],
 "metadata": {
  "kernelspec": {
   "display_name": "Python 3",
   "language": "python",
   "name": "python3"
  },
  "language_info": {
   "codemirror_mode": {
    "name": "ipython",
    "version": 3
   },
   "file_extension": ".py",
   "mimetype": "text/x-python",
   "name": "python",
   "nbconvert_exporter": "python",
   "pygments_lexer": "ipython3",
   "version": "3.12.4"
  }
 },
 "nbformat": 4,
 "nbformat_minor": 2
}
